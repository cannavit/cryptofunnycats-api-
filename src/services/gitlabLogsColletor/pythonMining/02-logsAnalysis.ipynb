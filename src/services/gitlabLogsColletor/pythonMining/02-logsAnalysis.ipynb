{
    "cells": [
        {
            "cell_type": "markdown",
            "source": [
                "# (3) Logs Analysis using Mining. \n",
                "# Data set type: Industial-Anoki\n",
                "\n",
                "# 💨🔥💨 Smoke Analysis\n",
                "\n",
                "#### ✅ python, ✅ Gitlab, ✅ Mongodb\n",
                "\n",
                "## Qs\n",
                "### Q1: What is the top of most common problems in pipelines?\n",
                "\n",
                "## Index\n",
                "\n",
                "- [Import python libraries](#Import-python-libraries)\n",
                "- [Page reference](#Page-reference)\n",
                "- [Create event list](#Create-event-list)\n",
                "- [Group similar text](#Group-similar-text)"
            ],
            "metadata": {}
        },
        {
            "cell_type": "markdown",
            "source": [
                "## Nomenclature\n",
                "    - (STPS) Smoke test possible solution: It is the set of tentative errors that can be avoided by using smoke tests"
            ],
            "metadata": {}
        },
        {
            "cell_type": "markdown",
            "source": [],
            "metadata": {}
        },
        {
            "cell_type": "markdown",
            "source": [
                "## Import python libraries"
            ],
            "metadata": {}
        },
        {
            "cell_type": "code",
            "execution_count": 989,
            "source": [
                "import os\n",
                "import pymongo\n",
                "from pymongo import MongoClient\n",
                "\n",
                "# Tratamiento de datos\n",
                "# ==============================================================================\n",
                "import numpy as np\n",
                "import pandas as pd\n",
                "import string\n",
                "import re\n",
                "# Gráficos\n",
                "# ==============================================================================\n",
                "import matplotlib.pyplot as plt\n",
                "from matplotlib import style\n",
                "import seaborn as sns\n",
                "# Plotly\n",
                "import plotly.express as px\n",
                "from plotly.subplots import make_subplots\n",
                "import plotly.graph_objects as go\n",
                "\n",
                "\n",
                "# ==============================================================================\n",
                "\n",
                "from sklearn import svm\n",
                "from sklearn.model_selection import train_test_split\n",
                "from sklearn.model_selection import GridSearchCV\n",
                "from sklearn.metrics import confusion_matrix\n",
                "from sklearn.feature_extraction.text import TfidfVectorizer\n",
                "import nltk\n",
                "nltk.download('stopwords')\n",
                "nltk.download('punkt') # first-time use only\n",
                "nltk.download('wordnet') # first-time use only\n",
                "\n",
                "\n",
                "from nltk.corpus import stopwords\n",
                "\n",
                "import string\n",
                "from sklearn.feature_extraction.text import CountVectorizer\n",
                "from sklearn.feature_extraction.text import TfidfTransformer\n",
                "import math\n",
                "\n",
                "\n",
                "# Configuración warnings\n",
                "# ==============================================================================\n",
                "import warnings"
            ],
            "outputs": [
                {
                    "output_type": "stream",
                    "name": "stderr",
                    "text": [
                        "[nltk_data] Downloading package stopwords to\n",
                        "[nltk_data]     /Users/ceciliocannavaciuolo/nltk_data...\n",
                        "[nltk_data]   Package stopwords is already up-to-date!\n",
                        "[nltk_data] Downloading package punkt to\n",
                        "[nltk_data]     /Users/ceciliocannavaciuolo/nltk_data...\n",
                        "[nltk_data]   Package punkt is already up-to-date!\n",
                        "[nltk_data] Downloading package wordnet to\n",
                        "[nltk_data]     /Users/ceciliocannavaciuolo/nltk_data...\n",
                        "[nltk_data]   Package wordnet is already up-to-date!\n"
                    ]
                }
            ],
            "metadata": {}
        },
        {
            "cell_type": "markdown",
            "source": [
                "## Config Variables"
            ],
            "metadata": {}
        },
        {
            "cell_type": "code",
            "execution_count": 990,
            "source": [
                "plotly_template=\"plotly_dark\"\n",
                "# plotly_template=\"plotly\"\n",
                "# Smoke Test Parameters\n",
                "# ==============================================================================\n",
                "JobsNameBlackList = ['test'] # Remove all jobs of analysis with this name\n",
                "logsWhiteList = [\"error\",\"fail\"] # Check lines of logs with this words\n",
                "JobsStatusWhiteList = [\"failed\"] # Check jobs with this status \n",
                "\n",
                "# Group similar text\n",
                "similarity = 0.6"
            ],
            "outputs": [],
            "metadata": {}
        },
        {
            "cell_type": "markdown",
            "source": [
                "# Page reference"
            ],
            "metadata": {}
        },
        {
            "cell_type": "markdown",
            "source": [
                "- [TextBlob: Librarian documentation to do text analysis](https://textblob.readthedodfdfdfio/en/dev/quicksdfadftdfhtml#get-word-and-noun-phrase-frequencies)\n",
                "- pipenv: https://pipenv.pydfdfdfio/en/latest/\n",
                "- pythonplot: https://pythonplot.com/"
            ],
            "metadata": {}
        },
        {
            "cell_type": "markdown",
            "source": [
                "# Get data from MongoDB\n",
                "### Read data from Mongodb database"
            ],
            "metadata": {}
        },
        {
            "cell_type": "code",
            "execution_count": 991,
            "source": [
                "# Connect with DB\n",
                "MONGODB_URL = os.environ.get('MONGODB_URL')\n",
                "NODE_ENV = os.environ.get('NODE_ENV') or \"dev\"\n",
                "DB_NAME = os.environ.get('APP_NAME') + \"-\"+ NODE_ENV\n",
                "\n",
                "client = MongoClient()\n",
                "client = MongoClient(MONGODB_URL)\n",
                "db = client[DB_NAME]\n",
                "\n",
                "jobs = db.gitlablogs.find({}).limit(1000) # Read all data\n",
                "# jobs = db.gitlablogs.find({}) # Read all data\n",
                "\n",
                "jobs = pd.DataFrame(list(jobs)) # Convert to DataFrame\n",
                "print(\"List of data available iside of db structure\")\n",
                "jobs.dtypes"
            ],
            "outputs": [
                {
                    "output_type": "stream",
                    "name": "stdout",
                    "text": [
                        "List of data available iside of db structure\n"
                    ]
                },
                {
                    "output_type": "execute_result",
                    "data": {
                        "text/plain": [
                            "_id                                 object\n",
                            "jobId                                int64\n",
                            "projectId                            int64\n",
                            "__v                                  int64\n",
                            "allow_failure                         bool\n",
                            "commitId                            object\n",
                            "commitMessage                       object\n",
                            "commitTitle                         object\n",
                            "committedEmail                      object\n",
                            "created_at                  datetime64[ns]\n",
                            "duration                           float64\n",
                            "jobName                             object\n",
                            "jobRef                              object\n",
                            "jobStage                            object\n",
                            "jobStatus                           object\n",
                            "pipelineId                           int64\n",
                            "pipelineRef                         object\n",
                            "pipelineStatus                      object\n",
                            "pipelineUrl                         object\n",
                            "pipelineWebUrl                      object\n",
                            "projectDescriptions                 object\n",
                            "projectName                         object\n",
                            "projectNameWithNamespace            object\n",
                            "queued_duration                    float64\n",
                            "runnerDescription                   object\n",
                            "runnerId                            object\n",
                            "runnerIpAddress                     object\n",
                            "runnerName                          object\n",
                            "sha                                 object\n",
                            "started_at                  datetime64[ns]\n",
                            "username                            object\n",
                            "jobLog                              object\n",
                            "dtype: object"
                        ]
                    },
                    "metadata": {},
                    "execution_count": 991
                }
            ],
            "metadata": {}
        },
        {
            "cell_type": "markdown",
            "source": [
                "# Delete pipelines data of the analysis with the name inside of the BlackList\n",
                "# Check whit @Leo\n",
                "\n",
                "## This is to avoid including logs from other types of tests in the analysis. A logs of a functional test (to mention an example) could throw large volumes of events from other types of tests"
            ],
            "metadata": {}
        },
        {
            "cell_type": "code",
            "execution_count": 992,
            "source": [
                "jobsBlackList = ['test']"
            ],
            "outputs": [],
            "metadata": {}
        },
        {
            "cell_type": "markdown",
            "source": [
                "# Analysis of data volumes.\n",
                "## In this section you can obtain general information related to the volume of data."
            ],
            "metadata": {}
        },
        {
            "cell_type": "markdown",
            "source": [
                "## Percentage of type jobs"
            ],
            "metadata": {}
        },
        {
            "cell_type": "code",
            "execution_count": 993,
            "source": [
                "# jobs\n",
                "print(\"------ DATA REPORT ------\")\n",
                "projectsNumber = len(jobs[\"projectName\"].unique())\n",
                "print(\"Number of Projects: \"+ str(projectsNumber))\n",
                "numberOfJobs = len(jobs.index)\n",
                "print(\"Number of pipelines Jobs (Steps): \"+ str(numberOfJobs))\n",
                "numberOfSuccess= jobs.loc[jobs[\"jobStatus\"] == \"success\"][\"jobStatus\"].count()\n",
                "numberOfFailed= jobs.loc[jobs[\"jobStatus\"] == \"failed\"][\"jobStatus\"].count()\n",
                "numberOfCancel= jobs.loc[jobs[\"jobStatus\"] == \"canceled\"][\"jobStatus\"].count()\n",
                "\n",
                "successPercentage = (1-((numberOfSuccess+numberOfFailed+numberOfCancel)-numberOfSuccess)/(numberOfSuccess+numberOfFailed+numberOfCancel))*100\n",
                "failedPercentage = (1-((numberOfSuccess+numberOfFailed+numberOfCancel)-numberOfFailed)/(numberOfSuccess+numberOfFailed+numberOfCancel))*100\n",
                "canceledPercentage = (1-((numberOfSuccess+numberOfFailed+numberOfCancel)-numberOfCancel)/(numberOfSuccess+numberOfFailed+numberOfCancel))*100\n",
                "\n",
                "print(\"Number of success Jobs (Steps): \"+ str(numberOfSuccess) + \" or \"+str(successPercentage) + \" %\")\n",
                "print(\"Number of failed Jobs (Steps): \"+ str(numberOfFailed)+ \" or \"+str(failedPercentage) + \" %\")\n",
                "print(\"Number of canceled Jobs (Steps): \"+ str(numberOfCancel)+ \" or \"+str(canceledPercentage) + \" %\")"
            ],
            "outputs": [
                {
                    "output_type": "stream",
                    "name": "stdout",
                    "text": [
                        "------ DATA REPORT ------\n",
                        "Number of Projects: 8\n",
                        "Number of pipelines Jobs (Steps): 1000\n",
                        "Number of success Jobs (Steps): 612 or 63.816475495307614 %\n",
                        "Number of failed Jobs (Steps): 51 or 5.318039624608972 %\n",
                        "Number of canceled Jobs (Steps): 296 or 30.865484880083415 %\n"
                    ]
                }
            ],
            "metadata": {}
        },
        {
            "cell_type": "code",
            "execution_count": 994,
            "source": [
                "fig = make_subplots(rows=1, cols=2)\n",
                "fig = px.pie(jobs, names='jobStatus', title='Pipelines Jobs results',color=\"jobStatus\",template=plotly_template)\n",
                "fig.show()"
            ],
            "outputs": [
                {
                    "output_type": "display_data",
                    "data": {
                        "application/vnd.plotly.v1+json": {
                            "config": {
                                "plotlyServerURL": "https://plot.ly"
                            },
                            "data": [
                                {
                                    "customdata": [
                                        [
                                            "success"
                                        ],
                                        [
                                            "success"
                                        ],
                                        [
                                            "failed"
                                        ],
                                        [
                                            "success"
                                        ],
                                        [
                                            "success"
                                        ],
                                        [
                                            "success"
                                        ],
                                        [
                                            "success"
                                        ],
                                        [
                                            "success"
                                        ],
                                        [
                                            "failed"
                                        ],
                                        [
                                            "success"
                                        ],
                                        [
                                            "success"
                                        ],
                                        [
                                            "success"
                                        ],
                                        [
                                            "success"
                                        ],
                                        [
                                            "canceled"
                                        ],
                                        [
                                            "canceled"
                                        ],
                                        [
                                            "success"
                                        ],
                                        [
                                            "success"
                                        ],
                                        [
                                            "success"
                                        ],
                                        [
                                            "success"
                                        ],
                                        [
                                            "success"
                                        ],
                                        [
                                            "failed"
                                        ],
                                        [
                                            "success"
                                        ],
                                        [
                                            "success"
                                        ],
                                        [
                                            "success"
                                        ],
                                        [
                                            "success"
                                        ],
                                        [
                                            "success"
                                        ],
                                        [
                                            "success"
                                        ],
                                        [
                                            "success"
                                        ],
                                        [
                                            "success"
                                        ],
                                        [
                                            "success"
                                        ],
                                        [
                                            "canceled"
                                        ],
                                        [
                                            "canceled"
                                        ],
                                        [
                                            "canceled"
                                        ],
                                        [
                                            "canceled"
                                        ],
                                        [
                                            "canceled"
                                        ],
                                        [
                                            "canceled"
                                        ],
                                        [
                                            "success"
                                        ],
                                        [
                                            "success"
                                        ],
                                        [
                                            "success"
                                        ],
                                        [
                                            "success"
                                        ],
                                        [
                                            "success"
                                        ],
                                        [
                                            "success"
                                        ],
                                        [
                                            "success"
                                        ],
                                        [
                                            "success"
                                        ],
                                        [
                                            "success"
                                        ],
                                        [
                                            "success"
                                        ],
                                        [
                                            "success"
                                        ],
                                        [
                                            "success"
                                        ],
                                        [
                                            "success"
                                        ],
                                        [
                                            "success"
                                        ],
                                        [
                                            "success"
                                        ],
                                        [
                                            "success"
                                        ],
                                        [
                                            "success"
                                        ],
                                        [
                                            "success"
                                        ],
                                        [
                                            "success"
                                        ],
                                        [
                                            "success"
                                        ],
                                        [
                                            "success"
                                        ],
                                        [
                                            "success"
                                        ],
                                        [
                                            "success"
                                        ],
                                        [
                                            "success"
                                        ],
                                        [
                                            "success"
                                        ],
                                        [
                                            "success"
                                        ],
                                        [
                                            "success"
                                        ],
                                        [
                                            "success"
                                        ],
                                        [
                                            "success"
                                        ],
                                        [
                                            "success"
                                        ],
                                        [
                                            "success"
                                        ],
                                        [
                                            "success"
                                        ],
                                        [
                                            "success"
                                        ],
                                        [
                                            "success"
                                        ],
                                        [
                                            "canceled"
                                        ],
                                        [
                                            "canceled"
                                        ],
                                        [
                                            "canceled"
                                        ],
                                        [
                                            "canceled"
                                        ],
                                        [
                                            "canceled"
                                        ],
                                        [
                                            "canceled"
                                        ],
                                        [
                                            "success"
                                        ],
                                        [
                                            "canceled"
                                        ],
                                        [
                                            "canceled"
                                        ],
                                        [
                                            "canceled"
                                        ],
                                        [
                                            "canceled"
                                        ],
                                        [
                                            "canceled"
                                        ],
                                        [
                                            "canceled"
                                        ],
                                        [
                                            "canceled"
                                        ],
                                        [
                                            "canceled"
                                        ],
                                        [
                                            "success"
                                        ],
                                        [
                                            "success"
                                        ],
                                        [
                                            "success"
                                        ],
                                        [
                                            "canceled"
                                        ],
                                        [
                                            "canceled"
                                        ],
                                        [
                                            "canceled"
                                        ],
                                        [
                                            "canceled"
                                        ],
                                        [
                                            "canceled"
                                        ],
                                        [
                                            "success"
                                        ],
                                        [
                                            "success"
                                        ],
                                        [
                                            "success"
                                        ],
                                        [
                                            "success"
                                        ],
                                        [
                                            "success"
                                        ],
                                        [
                                            "success"
                                        ],
                                        [
                                            "success"
                                        ],
                                        [
                                            "success"
                                        ],
                                        [
                                            "success"
                                        ],
                                        [
                                            "success"
                                        ],
                                        [
                                            "success"
                                        ],
                                        [
                                            "success"
                                        ],
                                        [
                                            "success"
                                        ],
                                        [
                                            "success"
                                        ],
                                        [
                                            "success"
                                        ],
                                        [
                                            "success"
                                        ],
                                        [
                                            "success"
                                        ],
                                        [
                                            "canceled"
                                        ],
                                        [
                                            "success"
                                        ],
                                        [
                                            "success"
                                        ],
                                        [
                                            "success"
                                        ],
                                        [
                                            "success"
                                        ],
                                        [
                                            "success"
                                        ],
                                        [
                                            "canceled"
                                        ],
                                        [
                                            "success"
                                        ],
                                        [
                                            "success"
                                        ],
                                        [
                                            "canceled"
                                        ],
                                        [
                                            "success"
                                        ],
                                        [
                                            "success"
                                        ],
                                        [
                                            "failed"
                                        ],
                                        [
                                            "success"
                                        ],
                                        [
                                            "success"
                                        ],
                                        [
                                            "success"
                                        ],
                                        [
                                            "failed"
                                        ],
                                        [
                                            "success"
                                        ],
                                        [
                                            "failed"
                                        ],
                                        [
                                            "failed"
                                        ],
                                        [
                                            "success"
                                        ],
                                        [
                                            "success"
                                        ],
                                        [
                                            "success"
                                        ],
                                        [
                                            "success"
                                        ],
                                        [
                                            "success"
                                        ],
                                        [
                                            "success"
                                        ],
                                        [
                                            "success"
                                        ],
                                        [
                                            "success"
                                        ],
                                        [
                                            "success"
                                        ],
                                        [
                                            "success"
                                        ],
                                        [
                                            "success"
                                        ],
                                        [
                                            "success"
                                        ],
                                        [
                                            "failed"
                                        ],
                                        [
                                            "success"
                                        ],
                                        [
                                            "success"
                                        ],
                                        [
                                            "success"
                                        ],
                                        [
                                            "success"
                                        ],
                                        [
                                            "success"
                                        ],
                                        [
                                            "success"
                                        ],
                                        [
                                            "success"
                                        ],
                                        [
                                            "success"
                                        ],
                                        [
                                            "success"
                                        ],
                                        [
                                            "failed"
                                        ],
                                        [
                                            "success"
                                        ],
                                        [
                                            "success"
                                        ],
                                        [
                                            "success"
                                        ],
                                        [
                                            "canceled"
                                        ],
                                        [
                                            "skipped"
                                        ],
                                        [
                                            "success"
                                        ],
                                        [
                                            "success"
                                        ],
                                        [
                                            "canceled"
                                        ],
                                        [
                                            "failed"
                                        ],
                                        [
                                            "success"
                                        ],
                                        [
                                            "success"
                                        ],
                                        [
                                            "success"
                                        ],
                                        [
                                            "success"
                                        ],
                                        [
                                            "success"
                                        ],
                                        [
                                            "failed"
                                        ],
                                        [
                                            "success"
                                        ],
                                        [
                                            "canceled"
                                        ],
                                        [
                                            "success"
                                        ],
                                        [
                                            "canceled"
                                        ],
                                        [
                                            "success"
                                        ],
                                        [
                                            "success"
                                        ],
                                        [
                                            "canceled"
                                        ],
                                        [
                                            "success"
                                        ],
                                        [
                                            "success"
                                        ],
                                        [
                                            "success"
                                        ],
                                        [
                                            "failed"
                                        ],
                                        [
                                            "success"
                                        ],
                                        [
                                            "success"
                                        ],
                                        [
                                            "success"
                                        ],
                                        [
                                            "success"
                                        ],
                                        [
                                            "success"
                                        ],
                                        [
                                            "failed"
                                        ],
                                        [
                                            "success"
                                        ],
                                        [
                                            "success"
                                        ],
                                        [
                                            "success"
                                        ],
                                        [
                                            "success"
                                        ],
                                        [
                                            "success"
                                        ],
                                        [
                                            "success"
                                        ],
                                        [
                                            "success"
                                        ],
                                        [
                                            "failed"
                                        ],
                                        [
                                            "success"
                                        ],
                                        [
                                            "success"
                                        ],
                                        [
                                            "success"
                                        ],
                                        [
                                            "success"
                                        ],
                                        [
                                            "success"
                                        ],
                                        [
                                            "success"
                                        ],
                                        [
                                            "canceled"
                                        ],
                                        [
                                            "success"
                                        ],
                                        [
                                            "canceled"
                                        ],
                                        [
                                            "skipped"
                                        ],
                                        [
                                            "canceled"
                                        ],
                                        [
                                            "success"
                                        ],
                                        [
                                            "skipped"
                                        ],
                                        [
                                            "success"
                                        ],
                                        [
                                            "canceled"
                                        ],
                                        [
                                            "skipped"
                                        ],
                                        [
                                            "success"
                                        ],
                                        [
                                            "skipped"
                                        ],
                                        [
                                            "failed"
                                        ],
                                        [
                                            "success"
                                        ],
                                        [
                                            "skipped"
                                        ],
                                        [
                                            "canceled"
                                        ],
                                        [
                                            "success"
                                        ],
                                        [
                                            "canceled"
                                        ],
                                        [
                                            "success"
                                        ],
                                        [
                                            "success"
                                        ],
                                        [
                                            "success"
                                        ],
                                        [
                                            "canceled"
                                        ],
                                        [
                                            "success"
                                        ],
                                        [
                                            "success"
                                        ],
                                        [
                                            "success"
                                        ],
                                        [
                                            "canceled"
                                        ],
                                        [
                                            "success"
                                        ],
                                        [
                                            "canceled"
                                        ],
                                        [
                                            "success"
                                        ],
                                        [
                                            "success"
                                        ],
                                        [
                                            "canceled"
                                        ],
                                        [
                                            "success"
                                        ],
                                        [
                                            "canceled"
                                        ],
                                        [
                                            "success"
                                        ],
                                        [
                                            "success"
                                        ],
                                        [
                                            "canceled"
                                        ],
                                        [
                                            "success"
                                        ],
                                        [
                                            "success"
                                        ],
                                        [
                                            "success"
                                        ],
                                        [
                                            "canceled"
                                        ],
                                        [
                                            "canceled"
                                        ],
                                        [
                                            "success"
                                        ],
                                        [
                                            "success"
                                        ],
                                        [
                                            "failed"
                                        ],
                                        [
                                            "success"
                                        ],
                                        [
                                            "success"
                                        ],
                                        [
                                            "canceled"
                                        ],
                                        [
                                            "success"
                                        ],
                                        [
                                            "success"
                                        ],
                                        [
                                            "success"
                                        ],
                                        [
                                            "success"
                                        ],
                                        [
                                            "success"
                                        ],
                                        [
                                            "success"
                                        ],
                                        [
                                            "canceled"
                                        ],
                                        [
                                            "success"
                                        ],
                                        [
                                            "success"
                                        ],
                                        [
                                            "canceled"
                                        ],
                                        [
                                            "success"
                                        ],
                                        [
                                            "success"
                                        ],
                                        [
                                            "success"
                                        ],
                                        [
                                            "success"
                                        ],
                                        [
                                            "success"
                                        ],
                                        [
                                            "success"
                                        ],
                                        [
                                            "success"
                                        ],
                                        [
                                            "success"
                                        ],
                                        [
                                            "success"
                                        ],
                                        [
                                            "success"
                                        ],
                                        [
                                            "success"
                                        ],
                                        [
                                            "success"
                                        ],
                                        [
                                            "skipped"
                                        ],
                                        [
                                            "success"
                                        ],
                                        [
                                            "success"
                                        ],
                                        [
                                            "failed"
                                        ],
                                        [
                                            "success"
                                        ],
                                        [
                                            "canceled"
                                        ],
                                        [
                                            "canceled"
                                        ],
                                        [
                                            "success"
                                        ],
                                        [
                                            "canceled"
                                        ],
                                        [
                                            "canceled"
                                        ],
                                        [
                                            "success"
                                        ],
                                        [
                                            "skipped"
                                        ],
                                        [
                                            "success"
                                        ],
                                        [
                                            "success"
                                        ],
                                        [
                                            "failed"
                                        ],
                                        [
                                            "skipped"
                                        ],
                                        [
                                            "canceled"
                                        ],
                                        [
                                            "success"
                                        ],
                                        [
                                            "failed"
                                        ],
                                        [
                                            "canceled"
                                        ],
                                        [
                                            "canceled"
                                        ],
                                        [
                                            "success"
                                        ],
                                        [
                                            "canceled"
                                        ],
                                        [
                                            "canceled"
                                        ],
                                        [
                                            "canceled"
                                        ],
                                        [
                                            "success"
                                        ],
                                        [
                                            "success"
                                        ],
                                        [
                                            "success"
                                        ],
                                        [
                                            "success"
                                        ],
                                        [
                                            "skipped"
                                        ],
                                        [
                                            "skipped"
                                        ],
                                        [
                                            "skipped"
                                        ],
                                        [
                                            "skipped"
                                        ],
                                        [
                                            "canceled"
                                        ],
                                        [
                                            "canceled"
                                        ],
                                        [
                                            "success"
                                        ],
                                        [
                                            "canceled"
                                        ],
                                        [
                                            "canceled"
                                        ],
                                        [
                                            "success"
                                        ],
                                        [
                                            "success"
                                        ],
                                        [
                                            "success"
                                        ],
                                        [
                                            "success"
                                        ],
                                        [
                                            "success"
                                        ],
                                        [
                                            "success"
                                        ],
                                        [
                                            "success"
                                        ],
                                        [
                                            "success"
                                        ],
                                        [
                                            "success"
                                        ],
                                        [
                                            "skipped"
                                        ],
                                        [
                                            "skipped"
                                        ],
                                        [
                                            "skipped"
                                        ],
                                        [
                                            "skipped"
                                        ],
                                        [
                                            "success"
                                        ],
                                        [
                                            "success"
                                        ],
                                        [
                                            "failed"
                                        ],
                                        [
                                            "success"
                                        ],
                                        [
                                            "success"
                                        ],
                                        [
                                            "canceled"
                                        ],
                                        [
                                            "canceled"
                                        ],
                                        [
                                            "canceled"
                                        ],
                                        [
                                            "success"
                                        ],
                                        [
                                            "success"
                                        ],
                                        [
                                            "success"
                                        ],
                                        [
                                            "success"
                                        ],
                                        [
                                            "success"
                                        ],
                                        [
                                            "success"
                                        ],
                                        [
                                            "skipped"
                                        ],
                                        [
                                            "skipped"
                                        ],
                                        [
                                            "skipped"
                                        ],
                                        [
                                            "skipped"
                                        ],
                                        [
                                            "success"
                                        ],
                                        [
                                            "failed"
                                        ],
                                        [
                                            "success"
                                        ],
                                        [
                                            "success"
                                        ],
                                        [
                                            "success"
                                        ],
                                        [
                                            "success"
                                        ],
                                        [
                                            "canceled"
                                        ],
                                        [
                                            "canceled"
                                        ],
                                        [
                                            "canceled"
                                        ],
                                        [
                                            "canceled"
                                        ],
                                        [
                                            "success"
                                        ],
                                        [
                                            "success"
                                        ],
                                        [
                                            "success"
                                        ],
                                        [
                                            "success"
                                        ],
                                        [
                                            "success"
                                        ],
                                        [
                                            "success"
                                        ],
                                        [
                                            "canceled"
                                        ],
                                        [
                                            "canceled"
                                        ],
                                        [
                                            "canceled"
                                        ],
                                        [
                                            "canceled"
                                        ],
                                        [
                                            "canceled"
                                        ],
                                        [
                                            "canceled"
                                        ],
                                        [
                                            "success"
                                        ],
                                        [
                                            "success"
                                        ],
                                        [
                                            "canceled"
                                        ],
                                        [
                                            "canceled"
                                        ],
                                        [
                                            "canceled"
                                        ],
                                        [
                                            "canceled"
                                        ],
                                        [
                                            "canceled"
                                        ],
                                        [
                                            "canceled"
                                        ],
                                        [
                                            "success"
                                        ],
                                        [
                                            "success"
                                        ],
                                        [
                                            "success"
                                        ],
                                        [
                                            "success"
                                        ],
                                        [
                                            "success"
                                        ],
                                        [
                                            "success"
                                        ],
                                        [
                                            "canceled"
                                        ],
                                        [
                                            "canceled"
                                        ],
                                        [
                                            "canceled"
                                        ],
                                        [
                                            "canceled"
                                        ],
                                        [
                                            "success"
                                        ],
                                        [
                                            "success"
                                        ],
                                        [
                                            "canceled"
                                        ],
                                        [
                                            "canceled"
                                        ],
                                        [
                                            "canceled"
                                        ],
                                        [
                                            "canceled"
                                        ],
                                        [
                                            "canceled"
                                        ],
                                        [
                                            "success"
                                        ],
                                        [
                                            "canceled"
                                        ],
                                        [
                                            "canceled"
                                        ],
                                        [
                                            "canceled"
                                        ],
                                        [
                                            "canceled"
                                        ],
                                        [
                                            "success"
                                        ],
                                        [
                                            "success"
                                        ],
                                        [
                                            "canceled"
                                        ],
                                        [
                                            "canceled"
                                        ],
                                        [
                                            "canceled"
                                        ],
                                        [
                                            "canceled"
                                        ],
                                        [
                                            "canceled"
                                        ],
                                        [
                                            "success"
                                        ],
                                        [
                                            "success"
                                        ],
                                        [
                                            "skipped"
                                        ],
                                        [
                                            "success"
                                        ],
                                        [
                                            "success"
                                        ],
                                        [
                                            "success"
                                        ],
                                        [
                                            "success"
                                        ],
                                        [
                                            "success"
                                        ],
                                        [
                                            "success"
                                        ],
                                        [
                                            "success"
                                        ],
                                        [
                                            "skipped"
                                        ],
                                        [
                                            "success"
                                        ],
                                        [
                                            "success"
                                        ],
                                        [
                                            "success"
                                        ],
                                        [
                                            "success"
                                        ],
                                        [
                                            "success"
                                        ],
                                        [
                                            "success"
                                        ],
                                        [
                                            "success"
                                        ],
                                        [
                                            "success"
                                        ],
                                        [
                                            "success"
                                        ],
                                        [
                                            "success"
                                        ],
                                        [
                                            "success"
                                        ],
                                        [
                                            "success"
                                        ],
                                        [
                                            "success"
                                        ],
                                        [
                                            "success"
                                        ],
                                        [
                                            "success"
                                        ],
                                        [
                                            "canceled"
                                        ],
                                        [
                                            "canceled"
                                        ],
                                        [
                                            "canceled"
                                        ],
                                        [
                                            "canceled"
                                        ],
                                        [
                                            "canceled"
                                        ],
                                        [
                                            "canceled"
                                        ],
                                        [
                                            "canceled"
                                        ],
                                        [
                                            "canceled"
                                        ],
                                        [
                                            "success"
                                        ],
                                        [
                                            "failed"
                                        ],
                                        [
                                            "success"
                                        ],
                                        [
                                            "success"
                                        ],
                                        [
                                            "success"
                                        ],
                                        [
                                            "success"
                                        ],
                                        [
                                            "success"
                                        ],
                                        [
                                            "failed"
                                        ],
                                        [
                                            "success"
                                        ],
                                        [
                                            "success"
                                        ],
                                        [
                                            "failed"
                                        ],
                                        [
                                            "success"
                                        ],
                                        [
                                            "success"
                                        ],
                                        [
                                            "failed"
                                        ],
                                        [
                                            "success"
                                        ],
                                        [
                                            "success"
                                        ],
                                        [
                                            "failed"
                                        ],
                                        [
                                            "success"
                                        ],
                                        [
                                            "success"
                                        ],
                                        [
                                            "failed"
                                        ],
                                        [
                                            "success"
                                        ],
                                        [
                                            "success"
                                        ],
                                        [
                                            "failed"
                                        ],
                                        [
                                            "success"
                                        ],
                                        [
                                            "success"
                                        ],
                                        [
                                            "failed"
                                        ],
                                        [
                                            "success"
                                        ],
                                        [
                                            "success"
                                        ],
                                        [
                                            "failed"
                                        ],
                                        [
                                            "success"
                                        ],
                                        [
                                            "success"
                                        ],
                                        [
                                            "failed"
                                        ],
                                        [
                                            "success"
                                        ],
                                        [
                                            "success"
                                        ],
                                        [
                                            "success"
                                        ],
                                        [
                                            "failed"
                                        ],
                                        [
                                            "failed"
                                        ],
                                        [
                                            "failed"
                                        ],
                                        [
                                            "failed"
                                        ],
                                        [
                                            "success"
                                        ],
                                        [
                                            "failed"
                                        ],
                                        [
                                            "failed"
                                        ],
                                        [
                                            "canceled"
                                        ],
                                        [
                                            "canceled"
                                        ],
                                        [
                                            "canceled"
                                        ],
                                        [
                                            "canceled"
                                        ],
                                        [
                                            "success"
                                        ],
                                        [
                                            "success"
                                        ],
                                        [
                                            "success"
                                        ],
                                        [
                                            "success"
                                        ],
                                        [
                                            "success"
                                        ],
                                        [
                                            "success"
                                        ],
                                        [
                                            "success"
                                        ],
                                        [
                                            "success"
                                        ],
                                        [
                                            "success"
                                        ],
                                        [
                                            "success"
                                        ],
                                        [
                                            "success"
                                        ],
                                        [
                                            "success"
                                        ],
                                        [
                                            "success"
                                        ],
                                        [
                                            "success"
                                        ],
                                        [
                                            "success"
                                        ],
                                        [
                                            "success"
                                        ],
                                        [
                                            "success"
                                        ],
                                        [
                                            "success"
                                        ],
                                        [
                                            "success"
                                        ],
                                        [
                                            "success"
                                        ],
                                        [
                                            "success"
                                        ],
                                        [
                                            "success"
                                        ],
                                        [
                                            "success"
                                        ],
                                        [
                                            "success"
                                        ],
                                        [
                                            "success"
                                        ],
                                        [
                                            "success"
                                        ],
                                        [
                                            "success"
                                        ],
                                        [
                                            "success"
                                        ],
                                        [
                                            "success"
                                        ],
                                        [
                                            "success"
                                        ],
                                        [
                                            "success"
                                        ],
                                        [
                                            "success"
                                        ],
                                        [
                                            "success"
                                        ],
                                        [
                                            "success"
                                        ],
                                        [
                                            "success"
                                        ],
                                        [
                                            "success"
                                        ],
                                        [
                                            "success"
                                        ],
                                        [
                                            "success"
                                        ],
                                        [
                                            "success"
                                        ],
                                        [
                                            "success"
                                        ],
                                        [
                                            "canceled"
                                        ],
                                        [
                                            "canceled"
                                        ],
                                        [
                                            "canceled"
                                        ],
                                        [
                                            "canceled"
                                        ],
                                        [
                                            "canceled"
                                        ],
                                        [
                                            "canceled"
                                        ],
                                        [
                                            "canceled"
                                        ],
                                        [
                                            "canceled"
                                        ],
                                        [
                                            "canceled"
                                        ],
                                        [
                                            "success"
                                        ],
                                        [
                                            "success"
                                        ],
                                        [
                                            "success"
                                        ],
                                        [
                                            "success"
                                        ],
                                        [
                                            "success"
                                        ],
                                        [
                                            "success"
                                        ],
                                        [
                                            "success"
                                        ],
                                        [
                                            "success"
                                        ],
                                        [
                                            "success"
                                        ],
                                        [
                                            "success"
                                        ],
                                        [
                                            "success"
                                        ],
                                        [
                                            "success"
                                        ],
                                        [
                                            "success"
                                        ],
                                        [
                                            "success"
                                        ],
                                        [
                                            "success"
                                        ],
                                        [
                                            "success"
                                        ],
                                        [
                                            "success"
                                        ],
                                        [
                                            "success"
                                        ],
                                        [
                                            "success"
                                        ],
                                        [
                                            "success"
                                        ],
                                        [
                                            "canceled"
                                        ],
                                        [
                                            "canceled"
                                        ],
                                        [
                                            "canceled"
                                        ],
                                        [
                                            "canceled"
                                        ],
                                        [
                                            "success"
                                        ],
                                        [
                                            "canceled"
                                        ],
                                        [
                                            "canceled"
                                        ],
                                        [
                                            "success"
                                        ],
                                        [
                                            "success"
                                        ],
                                        [
                                            "success"
                                        ],
                                        [
                                            "success"
                                        ],
                                        [
                                            "success"
                                        ],
                                        [
                                            "success"
                                        ],
                                        [
                                            "success"
                                        ],
                                        [
                                            "success"
                                        ],
                                        [
                                            "success"
                                        ],
                                        [
                                            "success"
                                        ],
                                        [
                                            "success"
                                        ],
                                        [
                                            "success"
                                        ],
                                        [
                                            "success"
                                        ],
                                        [
                                            "success"
                                        ],
                                        [
                                            "success"
                                        ],
                                        [
                                            "success"
                                        ],
                                        [
                                            "success"
                                        ],
                                        [
                                            "canceled"
                                        ],
                                        [
                                            "canceled"
                                        ],
                                        [
                                            "success"
                                        ],
                                        [
                                            "success"
                                        ],
                                        [
                                            "success"
                                        ],
                                        [
                                            "success"
                                        ],
                                        [
                                            "success"
                                        ],
                                        [
                                            "success"
                                        ],
                                        [
                                            "success"
                                        ],
                                        [
                                            "success"
                                        ],
                                        [
                                            "success"
                                        ],
                                        [
                                            "success"
                                        ],
                                        [
                                            "success"
                                        ],
                                        [
                                            "success"
                                        ],
                                        [
                                            "canceled"
                                        ],
                                        [
                                            "canceled"
                                        ],
                                        [
                                            "success"
                                        ],
                                        [
                                            "success"
                                        ],
                                        [
                                            "success"
                                        ],
                                        [
                                            "success"
                                        ],
                                        [
                                            "success"
                                        ],
                                        [
                                            "success"
                                        ],
                                        [
                                            "success"
                                        ],
                                        [
                                            "success"
                                        ],
                                        [
                                            "success"
                                        ],
                                        [
                                            "success"
                                        ],
                                        [
                                            "success"
                                        ],
                                        [
                                            "success"
                                        ],
                                        [
                                            "canceled"
                                        ],
                                        [
                                            "canceled"
                                        ],
                                        [
                                            "success"
                                        ],
                                        [
                                            "success"
                                        ],
                                        [
                                            "success"
                                        ],
                                        [
                                            "success"
                                        ],
                                        [
                                            "success"
                                        ],
                                        [
                                            "success"
                                        ],
                                        [
                                            "success"
                                        ],
                                        [
                                            "success"
                                        ],
                                        [
                                            "success"
                                        ],
                                        [
                                            "success"
                                        ],
                                        [
                                            "success"
                                        ],
                                        [
                                            "success"
                                        ],
                                        [
                                            "success"
                                        ],
                                        [
                                            "success"
                                        ],
                                        [
                                            "success"
                                        ],
                                        [
                                            "success"
                                        ],
                                        [
                                            "success"
                                        ],
                                        [
                                            "success"
                                        ],
                                        [
                                            "success"
                                        ],
                                        [
                                            "success"
                                        ],
                                        [
                                            "canceled"
                                        ],
                                        [
                                            "success"
                                        ],
                                        [
                                            "success"
                                        ],
                                        [
                                            "success"
                                        ],
                                        [
                                            "success"
                                        ],
                                        [
                                            "success"
                                        ],
                                        [
                                            "canceled"
                                        ],
                                        [
                                            "canceled"
                                        ],
                                        [
                                            "canceled"
                                        ],
                                        [
                                            "canceled"
                                        ],
                                        [
                                            "success"
                                        ],
                                        [
                                            "success"
                                        ],
                                        [
                                            "success"
                                        ],
                                        [
                                            "success"
                                        ],
                                        [
                                            "success"
                                        ],
                                        [
                                            "success"
                                        ],
                                        [
                                            "success"
                                        ],
                                        [
                                            "success"
                                        ],
                                        [
                                            "success"
                                        ],
                                        [
                                            "success"
                                        ],
                                        [
                                            "success"
                                        ],
                                        [
                                            "success"
                                        ],
                                        [
                                            "success"
                                        ],
                                        [
                                            "success"
                                        ],
                                        [
                                            "success"
                                        ],
                                        [
                                            "success"
                                        ],
                                        [
                                            "canceled"
                                        ],
                                        [
                                            "skipped"
                                        ],
                                        [
                                            "success"
                                        ],
                                        [
                                            "success"
                                        ],
                                        [
                                            "success"
                                        ],
                                        [
                                            "success"
                                        ],
                                        [
                                            "success"
                                        ],
                                        [
                                            "success"
                                        ],
                                        [
                                            "canceled"
                                        ],
                                        [
                                            "canceled"
                                        ],
                                        [
                                            "canceled"
                                        ],
                                        [
                                            "canceled"
                                        ],
                                        [
                                            "canceled"
                                        ],
                                        [
                                            "skipped"
                                        ],
                                        [
                                            "success"
                                        ],
                                        [
                                            "success"
                                        ],
                                        [
                                            "canceled"
                                        ],
                                        [
                                            "canceled"
                                        ],
                                        [
                                            "canceled"
                                        ],
                                        [
                                            "canceled"
                                        ],
                                        [
                                            "success"
                                        ],
                                        [
                                            "success"
                                        ],
                                        [
                                            "success"
                                        ],
                                        [
                                            "success"
                                        ],
                                        [
                                            "failed"
                                        ],
                                        [
                                            "skipped"
                                        ],
                                        [
                                            "success"
                                        ],
                                        [
                                            "success"
                                        ],
                                        [
                                            "skipped"
                                        ],
                                        [
                                            "failed"
                                        ],
                                        [
                                            "success"
                                        ],
                                        [
                                            "success"
                                        ],
                                        [
                                            "failed"
                                        ],
                                        [
                                            "skipped"
                                        ],
                                        [
                                            "success"
                                        ],
                                        [
                                            "success"
                                        ],
                                        [
                                            "skipped"
                                        ],
                                        [
                                            "failed"
                                        ],
                                        [
                                            "success"
                                        ],
                                        [
                                            "success"
                                        ],
                                        [
                                            "canceled"
                                        ],
                                        [
                                            "canceled"
                                        ],
                                        [
                                            "canceled"
                                        ],
                                        [
                                            "canceled"
                                        ],
                                        [
                                            "failed"
                                        ],
                                        [
                                            "skipped"
                                        ],
                                        [
                                            "success"
                                        ],
                                        [
                                            "success"
                                        ],
                                        [
                                            "failed"
                                        ],
                                        [
                                            "skipped"
                                        ],
                                        [
                                            "success"
                                        ],
                                        [
                                            "success"
                                        ],
                                        [
                                            "success"
                                        ],
                                        [
                                            "success"
                                        ],
                                        [
                                            "canceled"
                                        ],
                                        [
                                            "canceled"
                                        ],
                                        [
                                            "success"
                                        ],
                                        [
                                            "success"
                                        ],
                                        [
                                            "success"
                                        ],
                                        [
                                            "success"
                                        ],
                                        [
                                            "skipped"
                                        ],
                                        [
                                            "failed"
                                        ],
                                        [
                                            "success"
                                        ],
                                        [
                                            "success"
                                        ],
                                        [
                                            "skipped"
                                        ],
                                        [
                                            "failed"
                                        ],
                                        [
                                            "success"
                                        ],
                                        [
                                            "success"
                                        ],
                                        [
                                            "failed"
                                        ],
                                        [
                                            "skipped"
                                        ],
                                        [
                                            "success"
                                        ],
                                        [
                                            "success"
                                        ],
                                        [
                                            "canceled"
                                        ],
                                        [
                                            "canceled"
                                        ],
                                        [
                                            "canceled"
                                        ],
                                        [
                                            "canceled"
                                        ],
                                        [
                                            "success"
                                        ],
                                        [
                                            "success"
                                        ],
                                        [
                                            "success"
                                        ],
                                        [
                                            "success"
                                        ],
                                        [
                                            "success"
                                        ],
                                        [
                                            "success"
                                        ],
                                        [
                                            "canceled"
                                        ],
                                        [
                                            "canceled"
                                        ],
                                        [
                                            "canceled"
                                        ],
                                        [
                                            "canceled"
                                        ],
                                        [
                                            "success"
                                        ],
                                        [
                                            "success"
                                        ],
                                        [
                                            "canceled"
                                        ],
                                        [
                                            "canceled"
                                        ],
                                        [
                                            "canceled"
                                        ],
                                        [
                                            "canceled"
                                        ],
                                        [
                                            "success"
                                        ],
                                        [
                                            "success"
                                        ],
                                        [
                                            "success"
                                        ],
                                        [
                                            "success"
                                        ],
                                        [
                                            "success"
                                        ],
                                        [
                                            "success"
                                        ],
                                        [
                                            "success"
                                        ],
                                        [
                                            "success"
                                        ],
                                        [
                                            "canceled"
                                        ],
                                        [
                                            "canceled"
                                        ],
                                        [
                                            "canceled"
                                        ],
                                        [
                                            "canceled"
                                        ],
                                        [
                                            "success"
                                        ],
                                        [
                                            "success"
                                        ],
                                        [
                                            "success"
                                        ],
                                        [
                                            "success"
                                        ],
                                        [
                                            "success"
                                        ],
                                        [
                                            "success"
                                        ],
                                        [
                                            "failed"
                                        ],
                                        [
                                            "skipped"
                                        ],
                                        [
                                            "success"
                                        ],
                                        [
                                            "success"
                                        ],
                                        [
                                            "canceled"
                                        ],
                                        [
                                            "canceled"
                                        ],
                                        [
                                            "canceled"
                                        ],
                                        [
                                            "canceled"
                                        ],
                                        [
                                            "canceled"
                                        ],
                                        [
                                            "canceled"
                                        ],
                                        [
                                            "canceled"
                                        ],
                                        [
                                            "canceled"
                                        ],
                                        [
                                            "success"
                                        ],
                                        [
                                            "success"
                                        ],
                                        [
                                            "success"
                                        ],
                                        [
                                            "success"
                                        ],
                                        [
                                            "canceled"
                                        ],
                                        [
                                            "canceled"
                                        ],
                                        [
                                            "canceled"
                                        ],
                                        [
                                            "canceled"
                                        ],
                                        [
                                            "canceled"
                                        ],
                                        [
                                            "success"
                                        ],
                                        [
                                            "success"
                                        ],
                                        [
                                            "success"
                                        ],
                                        [
                                            "success"
                                        ],
                                        [
                                            "success"
                                        ],
                                        [
                                            "success"
                                        ],
                                        [
                                            "success"
                                        ],
                                        [
                                            "success"
                                        ],
                                        [
                                            "success"
                                        ],
                                        [
                                            "success"
                                        ],
                                        [
                                            "success"
                                        ],
                                        [
                                            "success"
                                        ],
                                        [
                                            "success"
                                        ],
                                        [
                                            "success"
                                        ],
                                        [
                                            "success"
                                        ],
                                        [
                                            "success"
                                        ],
                                        [
                                            "success"
                                        ],
                                        [
                                            "success"
                                        ],
                                        [
                                            "success"
                                        ],
                                        [
                                            "success"
                                        ],
                                        [
                                            "success"
                                        ],
                                        [
                                            "success"
                                        ],
                                        [
                                            "canceled"
                                        ],
                                        [
                                            "canceled"
                                        ],
                                        [
                                            "success"
                                        ],
                                        [
                                            "success"
                                        ],
                                        [
                                            "canceled"
                                        ],
                                        [
                                            "canceled"
                                        ],
                                        [
                                            "success"
                                        ],
                                        [
                                            "success"
                                        ],
                                        [
                                            "canceled"
                                        ],
                                        [
                                            "canceled"
                                        ],
                                        [
                                            "success"
                                        ],
                                        [
                                            "success"
                                        ],
                                        [
                                            "success"
                                        ],
                                        [
                                            "success"
                                        ],
                                        [
                                            "success"
                                        ],
                                        [
                                            "success"
                                        ],
                                        [
                                            "canceled"
                                        ],
                                        [
                                            "canceled"
                                        ],
                                        [
                                            "success"
                                        ],
                                        [
                                            "success"
                                        ],
                                        [
                                            "canceled"
                                        ],
                                        [
                                            "canceled"
                                        ],
                                        [
                                            "success"
                                        ],
                                        [
                                            "success"
                                        ],
                                        [
                                            "skipped"
                                        ],
                                        [
                                            "canceled"
                                        ],
                                        [
                                            "success"
                                        ],
                                        [
                                            "success"
                                        ],
                                        [
                                            "skipped"
                                        ],
                                        [
                                            "failed"
                                        ],
                                        [
                                            "success"
                                        ],
                                        [
                                            "success"
                                        ],
                                        [
                                            "success"
                                        ],
                                        [
                                            "success"
                                        ],
                                        [
                                            "success"
                                        ],
                                        [
                                            "success"
                                        ],
                                        [
                                            "success"
                                        ],
                                        [
                                            "success"
                                        ],
                                        [
                                            "canceled"
                                        ],
                                        [
                                            "canceled"
                                        ],
                                        [
                                            "canceled"
                                        ],
                                        [
                                            "canceled"
                                        ],
                                        [
                                            "canceled"
                                        ],
                                        [
                                            "canceled"
                                        ],
                                        [
                                            "canceled"
                                        ],
                                        [
                                            "canceled"
                                        ],
                                        [
                                            "success"
                                        ],
                                        [
                                            "canceled"
                                        ],
                                        [
                                            "canceled"
                                        ],
                                        [
                                            "success"
                                        ],
                                        [
                                            "canceled"
                                        ],
                                        [
                                            "canceled"
                                        ],
                                        [
                                            "canceled"
                                        ],
                                        [
                                            "canceled"
                                        ],
                                        [
                                            "canceled"
                                        ],
                                        [
                                            "skipped"
                                        ],
                                        [
                                            "success"
                                        ],
                                        [
                                            "success"
                                        ],
                                        [
                                            "skipped"
                                        ],
                                        [
                                            "failed"
                                        ],
                                        [
                                            "success"
                                        ],
                                        [
                                            "success"
                                        ],
                                        [
                                            "canceled"
                                        ],
                                        [
                                            "canceled"
                                        ],
                                        [
                                            "canceled"
                                        ],
                                        [
                                            "canceled"
                                        ],
                                        [
                                            "canceled"
                                        ],
                                        [
                                            "canceled"
                                        ],
                                        [
                                            "canceled"
                                        ],
                                        [
                                            "canceled"
                                        ],
                                        [
                                            "canceled"
                                        ],
                                        [
                                            "canceled"
                                        ],
                                        [
                                            "success"
                                        ],
                                        [
                                            "success"
                                        ],
                                        [
                                            "canceled"
                                        ],
                                        [
                                            "canceled"
                                        ],
                                        [
                                            "success"
                                        ],
                                        [
                                            "success"
                                        ],
                                        [
                                            "success"
                                        ],
                                        [
                                            "success"
                                        ],
                                        [
                                            "canceled"
                                        ],
                                        [
                                            "canceled"
                                        ],
                                        [
                                            "canceled"
                                        ],
                                        [
                                            "canceled"
                                        ],
                                        [
                                            "skipped"
                                        ],
                                        [
                                            "failed"
                                        ],
                                        [
                                            "success"
                                        ],
                                        [
                                            "success"
                                        ],
                                        [
                                            "skipped"
                                        ],
                                        [
                                            "failed"
                                        ],
                                        [
                                            "success"
                                        ],
                                        [
                                            "success"
                                        ],
                                        [
                                            "canceled"
                                        ],
                                        [
                                            "canceled"
                                        ],
                                        [
                                            "canceled"
                                        ],
                                        [
                                            "canceled"
                                        ],
                                        [
                                            "canceled"
                                        ],
                                        [
                                            "canceled"
                                        ],
                                        [
                                            "canceled"
                                        ],
                                        [
                                            "canceled"
                                        ],
                                        [
                                            "success"
                                        ],
                                        [
                                            "success"
                                        ],
                                        [
                                            "success"
                                        ],
                                        [
                                            "success"
                                        ],
                                        [
                                            "success"
                                        ],
                                        [
                                            "success"
                                        ],
                                        [
                                            "canceled"
                                        ],
                                        [
                                            "canceled"
                                        ],
                                        [
                                            "canceled"
                                        ],
                                        [
                                            "canceled"
                                        ],
                                        [
                                            "success"
                                        ],
                                        [
                                            "success"
                                        ],
                                        [
                                            "success"
                                        ],
                                        [
                                            "success"
                                        ],
                                        [
                                            "canceled"
                                        ],
                                        [
                                            "canceled"
                                        ],
                                        [
                                            "canceled"
                                        ],
                                        [
                                            "canceled"
                                        ],
                                        [
                                            "canceled"
                                        ],
                                        [
                                            "canceled"
                                        ],
                                        [
                                            "canceled"
                                        ],
                                        [
                                            "canceled"
                                        ],
                                        [
                                            "canceled"
                                        ],
                                        [
                                            "canceled"
                                        ],
                                        [
                                            "canceled"
                                        ],
                                        [
                                            "canceled"
                                        ],
                                        [
                                            "canceled"
                                        ],
                                        [
                                            "canceled"
                                        ],
                                        [
                                            "canceled"
                                        ],
                                        [
                                            "canceled"
                                        ],
                                        [
                                            "success"
                                        ],
                                        [
                                            "success"
                                        ],
                                        [
                                            "success"
                                        ],
                                        [
                                            "success"
                                        ],
                                        [
                                            "canceled"
                                        ],
                                        [
                                            "canceled"
                                        ],
                                        [
                                            "canceled"
                                        ],
                                        [
                                            "canceled"
                                        ],
                                        [
                                            "canceled"
                                        ],
                                        [
                                            "canceled"
                                        ],
                                        [
                                            "canceled"
                                        ],
                                        [
                                            "canceled"
                                        ],
                                        [
                                            "success"
                                        ],
                                        [
                                            "success"
                                        ],
                                        [
                                            "success"
                                        ],
                                        [
                                            "success"
                                        ],
                                        [
                                            "canceled"
                                        ],
                                        [
                                            "canceled"
                                        ],
                                        [
                                            "canceled"
                                        ],
                                        [
                                            "canceled"
                                        ],
                                        [
                                            "success"
                                        ],
                                        [
                                            "success"
                                        ],
                                        [
                                            "canceled"
                                        ],
                                        [
                                            "canceled"
                                        ],
                                        [
                                            "canceled"
                                        ],
                                        [
                                            "canceled"
                                        ],
                                        [
                                            "success"
                                        ],
                                        [
                                            "success"
                                        ],
                                        [
                                            "success"
                                        ],
                                        [
                                            "success"
                                        ],
                                        [
                                            "success"
                                        ],
                                        [
                                            "success"
                                        ],
                                        [
                                            "canceled"
                                        ],
                                        [
                                            "canceled"
                                        ],
                                        [
                                            "canceled"
                                        ],
                                        [
                                            "canceled"
                                        ],
                                        [
                                            "success"
                                        ],
                                        [
                                            "success"
                                        ],
                                        [
                                            "success"
                                        ],
                                        [
                                            "success"
                                        ],
                                        [
                                            "canceled"
                                        ],
                                        [
                                            "canceled"
                                        ],
                                        [
                                            "canceled"
                                        ],
                                        [
                                            "canceled"
                                        ],
                                        [
                                            "success"
                                        ],
                                        [
                                            "success"
                                        ],
                                        [
                                            "success"
                                        ],
                                        [
                                            "success"
                                        ],
                                        [
                                            "canceled"
                                        ],
                                        [
                                            "canceled"
                                        ],
                                        [
                                            "canceled"
                                        ],
                                        [
                                            "canceled"
                                        ],
                                        [
                                            "canceled"
                                        ],
                                        [
                                            "canceled"
                                        ],
                                        [
                                            "canceled"
                                        ],
                                        [
                                            "canceled"
                                        ],
                                        [
                                            "success"
                                        ],
                                        [
                                            "canceled"
                                        ],
                                        [
                                            "canceled"
                                        ],
                                        [
                                            "success"
                                        ],
                                        [
                                            "canceled"
                                        ],
                                        [
                                            "canceled"
                                        ],
                                        [
                                            "success"
                                        ],
                                        [
                                            "success"
                                        ],
                                        [
                                            "canceled"
                                        ],
                                        [
                                            "canceled"
                                        ],
                                        [
                                            "success"
                                        ],
                                        [
                                            "success"
                                        ],
                                        [
                                            "canceled"
                                        ],
                                        [
                                            "canceled"
                                        ],
                                        [
                                            "success"
                                        ],
                                        [
                                            "success"
                                        ]
                                    ],
                                    "domain": {
                                        "x": [
                                            0,
                                            1
                                        ],
                                        "y": [
                                            0,
                                            1
                                        ]
                                    },
                                    "hovertemplate": "jobStatus=%{customdata[0]}<extra></extra>",
                                    "labels": [
                                        "success",
                                        "success",
                                        "failed",
                                        "success",
                                        "success",
                                        "success",
                                        "success",
                                        "success",
                                        "failed",
                                        "success",
                                        "success",
                                        "success",
                                        "success",
                                        "canceled",
                                        "canceled",
                                        "success",
                                        "success",
                                        "success",
                                        "success",
                                        "success",
                                        "failed",
                                        "success",
                                        "success",
                                        "success",
                                        "success",
                                        "success",
                                        "success",
                                        "success",
                                        "success",
                                        "success",
                                        "canceled",
                                        "canceled",
                                        "canceled",
                                        "canceled",
                                        "canceled",
                                        "canceled",
                                        "success",
                                        "success",
                                        "success",
                                        "success",
                                        "success",
                                        "success",
                                        "success",
                                        "success",
                                        "success",
                                        "success",
                                        "success",
                                        "success",
                                        "success",
                                        "success",
                                        "success",
                                        "success",
                                        "success",
                                        "success",
                                        "success",
                                        "success",
                                        "success",
                                        "success",
                                        "success",
                                        "success",
                                        "success",
                                        "success",
                                        "success",
                                        "success",
                                        "success",
                                        "success",
                                        "success",
                                        "success",
                                        "success",
                                        "success",
                                        "canceled",
                                        "canceled",
                                        "canceled",
                                        "canceled",
                                        "canceled",
                                        "canceled",
                                        "success",
                                        "canceled",
                                        "canceled",
                                        "canceled",
                                        "canceled",
                                        "canceled",
                                        "canceled",
                                        "canceled",
                                        "canceled",
                                        "success",
                                        "success",
                                        "success",
                                        "canceled",
                                        "canceled",
                                        "canceled",
                                        "canceled",
                                        "canceled",
                                        "success",
                                        "success",
                                        "success",
                                        "success",
                                        "success",
                                        "success",
                                        "success",
                                        "success",
                                        "success",
                                        "success",
                                        "success",
                                        "success",
                                        "success",
                                        "success",
                                        "success",
                                        "success",
                                        "success",
                                        "canceled",
                                        "success",
                                        "success",
                                        "success",
                                        "success",
                                        "success",
                                        "canceled",
                                        "success",
                                        "success",
                                        "canceled",
                                        "success",
                                        "success",
                                        "failed",
                                        "success",
                                        "success",
                                        "success",
                                        "failed",
                                        "success",
                                        "failed",
                                        "failed",
                                        "success",
                                        "success",
                                        "success",
                                        "success",
                                        "success",
                                        "success",
                                        "success",
                                        "success",
                                        "success",
                                        "success",
                                        "success",
                                        "success",
                                        "failed",
                                        "success",
                                        "success",
                                        "success",
                                        "success",
                                        "success",
                                        "success",
                                        "success",
                                        "success",
                                        "success",
                                        "failed",
                                        "success",
                                        "success",
                                        "success",
                                        "canceled",
                                        "skipped",
                                        "success",
                                        "success",
                                        "canceled",
                                        "failed",
                                        "success",
                                        "success",
                                        "success",
                                        "success",
                                        "success",
                                        "failed",
                                        "success",
                                        "canceled",
                                        "success",
                                        "canceled",
                                        "success",
                                        "success",
                                        "canceled",
                                        "success",
                                        "success",
                                        "success",
                                        "failed",
                                        "success",
                                        "success",
                                        "success",
                                        "success",
                                        "success",
                                        "failed",
                                        "success",
                                        "success",
                                        "success",
                                        "success",
                                        "success",
                                        "success",
                                        "success",
                                        "failed",
                                        "success",
                                        "success",
                                        "success",
                                        "success",
                                        "success",
                                        "success",
                                        "canceled",
                                        "success",
                                        "canceled",
                                        "skipped",
                                        "canceled",
                                        "success",
                                        "skipped",
                                        "success",
                                        "canceled",
                                        "skipped",
                                        "success",
                                        "skipped",
                                        "failed",
                                        "success",
                                        "skipped",
                                        "canceled",
                                        "success",
                                        "canceled",
                                        "success",
                                        "success",
                                        "success",
                                        "canceled",
                                        "success",
                                        "success",
                                        "success",
                                        "canceled",
                                        "success",
                                        "canceled",
                                        "success",
                                        "success",
                                        "canceled",
                                        "success",
                                        "canceled",
                                        "success",
                                        "success",
                                        "canceled",
                                        "success",
                                        "success",
                                        "success",
                                        "canceled",
                                        "canceled",
                                        "success",
                                        "success",
                                        "failed",
                                        "success",
                                        "success",
                                        "canceled",
                                        "success",
                                        "success",
                                        "success",
                                        "success",
                                        "success",
                                        "success",
                                        "canceled",
                                        "success",
                                        "success",
                                        "canceled",
                                        "success",
                                        "success",
                                        "success",
                                        "success",
                                        "success",
                                        "success",
                                        "success",
                                        "success",
                                        "success",
                                        "success",
                                        "success",
                                        "success",
                                        "skipped",
                                        "success",
                                        "success",
                                        "failed",
                                        "success",
                                        "canceled",
                                        "canceled",
                                        "success",
                                        "canceled",
                                        "canceled",
                                        "success",
                                        "skipped",
                                        "success",
                                        "success",
                                        "failed",
                                        "skipped",
                                        "canceled",
                                        "success",
                                        "failed",
                                        "canceled",
                                        "canceled",
                                        "success",
                                        "canceled",
                                        "canceled",
                                        "canceled",
                                        "success",
                                        "success",
                                        "success",
                                        "success",
                                        "skipped",
                                        "skipped",
                                        "skipped",
                                        "skipped",
                                        "canceled",
                                        "canceled",
                                        "success",
                                        "canceled",
                                        "canceled",
                                        "success",
                                        "success",
                                        "success",
                                        "success",
                                        "success",
                                        "success",
                                        "success",
                                        "success",
                                        "success",
                                        "skipped",
                                        "skipped",
                                        "skipped",
                                        "skipped",
                                        "success",
                                        "success",
                                        "failed",
                                        "success",
                                        "success",
                                        "canceled",
                                        "canceled",
                                        "canceled",
                                        "success",
                                        "success",
                                        "success",
                                        "success",
                                        "success",
                                        "success",
                                        "skipped",
                                        "skipped",
                                        "skipped",
                                        "skipped",
                                        "success",
                                        "failed",
                                        "success",
                                        "success",
                                        "success",
                                        "success",
                                        "canceled",
                                        "canceled",
                                        "canceled",
                                        "canceled",
                                        "success",
                                        "success",
                                        "success",
                                        "success",
                                        "success",
                                        "success",
                                        "canceled",
                                        "canceled",
                                        "canceled",
                                        "canceled",
                                        "canceled",
                                        "canceled",
                                        "success",
                                        "success",
                                        "canceled",
                                        "canceled",
                                        "canceled",
                                        "canceled",
                                        "canceled",
                                        "canceled",
                                        "success",
                                        "success",
                                        "success",
                                        "success",
                                        "success",
                                        "success",
                                        "canceled",
                                        "canceled",
                                        "canceled",
                                        "canceled",
                                        "success",
                                        "success",
                                        "canceled",
                                        "canceled",
                                        "canceled",
                                        "canceled",
                                        "canceled",
                                        "success",
                                        "canceled",
                                        "canceled",
                                        "canceled",
                                        "canceled",
                                        "success",
                                        "success",
                                        "canceled",
                                        "canceled",
                                        "canceled",
                                        "canceled",
                                        "canceled",
                                        "success",
                                        "success",
                                        "skipped",
                                        "success",
                                        "success",
                                        "success",
                                        "success",
                                        "success",
                                        "success",
                                        "success",
                                        "skipped",
                                        "success",
                                        "success",
                                        "success",
                                        "success",
                                        "success",
                                        "success",
                                        "success",
                                        "success",
                                        "success",
                                        "success",
                                        "success",
                                        "success",
                                        "success",
                                        "success",
                                        "success",
                                        "canceled",
                                        "canceled",
                                        "canceled",
                                        "canceled",
                                        "canceled",
                                        "canceled",
                                        "canceled",
                                        "canceled",
                                        "success",
                                        "failed",
                                        "success",
                                        "success",
                                        "success",
                                        "success",
                                        "success",
                                        "failed",
                                        "success",
                                        "success",
                                        "failed",
                                        "success",
                                        "success",
                                        "failed",
                                        "success",
                                        "success",
                                        "failed",
                                        "success",
                                        "success",
                                        "failed",
                                        "success",
                                        "success",
                                        "failed",
                                        "success",
                                        "success",
                                        "failed",
                                        "success",
                                        "success",
                                        "failed",
                                        "success",
                                        "success",
                                        "failed",
                                        "success",
                                        "success",
                                        "success",
                                        "failed",
                                        "failed",
                                        "failed",
                                        "failed",
                                        "success",
                                        "failed",
                                        "failed",
                                        "canceled",
                                        "canceled",
                                        "canceled",
                                        "canceled",
                                        "success",
                                        "success",
                                        "success",
                                        "success",
                                        "success",
                                        "success",
                                        "success",
                                        "success",
                                        "success",
                                        "success",
                                        "success",
                                        "success",
                                        "success",
                                        "success",
                                        "success",
                                        "success",
                                        "success",
                                        "success",
                                        "success",
                                        "success",
                                        "success",
                                        "success",
                                        "success",
                                        "success",
                                        "success",
                                        "success",
                                        "success",
                                        "success",
                                        "success",
                                        "success",
                                        "success",
                                        "success",
                                        "success",
                                        "success",
                                        "success",
                                        "success",
                                        "success",
                                        "success",
                                        "success",
                                        "success",
                                        "canceled",
                                        "canceled",
                                        "canceled",
                                        "canceled",
                                        "canceled",
                                        "canceled",
                                        "canceled",
                                        "canceled",
                                        "canceled",
                                        "success",
                                        "success",
                                        "success",
                                        "success",
                                        "success",
                                        "success",
                                        "success",
                                        "success",
                                        "success",
                                        "success",
                                        "success",
                                        "success",
                                        "success",
                                        "success",
                                        "success",
                                        "success",
                                        "success",
                                        "success",
                                        "success",
                                        "success",
                                        "canceled",
                                        "canceled",
                                        "canceled",
                                        "canceled",
                                        "success",
                                        "canceled",
                                        "canceled",
                                        "success",
                                        "success",
                                        "success",
                                        "success",
                                        "success",
                                        "success",
                                        "success",
                                        "success",
                                        "success",
                                        "success",
                                        "success",
                                        "success",
                                        "success",
                                        "success",
                                        "success",
                                        "success",
                                        "success",
                                        "canceled",
                                        "canceled",
                                        "success",
                                        "success",
                                        "success",
                                        "success",
                                        "success",
                                        "success",
                                        "success",
                                        "success",
                                        "success",
                                        "success",
                                        "success",
                                        "success",
                                        "canceled",
                                        "canceled",
                                        "success",
                                        "success",
                                        "success",
                                        "success",
                                        "success",
                                        "success",
                                        "success",
                                        "success",
                                        "success",
                                        "success",
                                        "success",
                                        "success",
                                        "canceled",
                                        "canceled",
                                        "success",
                                        "success",
                                        "success",
                                        "success",
                                        "success",
                                        "success",
                                        "success",
                                        "success",
                                        "success",
                                        "success",
                                        "success",
                                        "success",
                                        "success",
                                        "success",
                                        "success",
                                        "success",
                                        "success",
                                        "success",
                                        "success",
                                        "success",
                                        "canceled",
                                        "success",
                                        "success",
                                        "success",
                                        "success",
                                        "success",
                                        "canceled",
                                        "canceled",
                                        "canceled",
                                        "canceled",
                                        "success",
                                        "success",
                                        "success",
                                        "success",
                                        "success",
                                        "success",
                                        "success",
                                        "success",
                                        "success",
                                        "success",
                                        "success",
                                        "success",
                                        "success",
                                        "success",
                                        "success",
                                        "success",
                                        "canceled",
                                        "skipped",
                                        "success",
                                        "success",
                                        "success",
                                        "success",
                                        "success",
                                        "success",
                                        "canceled",
                                        "canceled",
                                        "canceled",
                                        "canceled",
                                        "canceled",
                                        "skipped",
                                        "success",
                                        "success",
                                        "canceled",
                                        "canceled",
                                        "canceled",
                                        "canceled",
                                        "success",
                                        "success",
                                        "success",
                                        "success",
                                        "failed",
                                        "skipped",
                                        "success",
                                        "success",
                                        "skipped",
                                        "failed",
                                        "success",
                                        "success",
                                        "failed",
                                        "skipped",
                                        "success",
                                        "success",
                                        "skipped",
                                        "failed",
                                        "success",
                                        "success",
                                        "canceled",
                                        "canceled",
                                        "canceled",
                                        "canceled",
                                        "failed",
                                        "skipped",
                                        "success",
                                        "success",
                                        "failed",
                                        "skipped",
                                        "success",
                                        "success",
                                        "success",
                                        "success",
                                        "canceled",
                                        "canceled",
                                        "success",
                                        "success",
                                        "success",
                                        "success",
                                        "skipped",
                                        "failed",
                                        "success",
                                        "success",
                                        "skipped",
                                        "failed",
                                        "success",
                                        "success",
                                        "failed",
                                        "skipped",
                                        "success",
                                        "success",
                                        "canceled",
                                        "canceled",
                                        "canceled",
                                        "canceled",
                                        "success",
                                        "success",
                                        "success",
                                        "success",
                                        "success",
                                        "success",
                                        "canceled",
                                        "canceled",
                                        "canceled",
                                        "canceled",
                                        "success",
                                        "success",
                                        "canceled",
                                        "canceled",
                                        "canceled",
                                        "canceled",
                                        "success",
                                        "success",
                                        "success",
                                        "success",
                                        "success",
                                        "success",
                                        "success",
                                        "success",
                                        "canceled",
                                        "canceled",
                                        "canceled",
                                        "canceled",
                                        "success",
                                        "success",
                                        "success",
                                        "success",
                                        "success",
                                        "success",
                                        "failed",
                                        "skipped",
                                        "success",
                                        "success",
                                        "canceled",
                                        "canceled",
                                        "canceled",
                                        "canceled",
                                        "canceled",
                                        "canceled",
                                        "canceled",
                                        "canceled",
                                        "success",
                                        "success",
                                        "success",
                                        "success",
                                        "canceled",
                                        "canceled",
                                        "canceled",
                                        "canceled",
                                        "canceled",
                                        "success",
                                        "success",
                                        "success",
                                        "success",
                                        "success",
                                        "success",
                                        "success",
                                        "success",
                                        "success",
                                        "success",
                                        "success",
                                        "success",
                                        "success",
                                        "success",
                                        "success",
                                        "success",
                                        "success",
                                        "success",
                                        "success",
                                        "success",
                                        "success",
                                        "success",
                                        "canceled",
                                        "canceled",
                                        "success",
                                        "success",
                                        "canceled",
                                        "canceled",
                                        "success",
                                        "success",
                                        "canceled",
                                        "canceled",
                                        "success",
                                        "success",
                                        "success",
                                        "success",
                                        "success",
                                        "success",
                                        "canceled",
                                        "canceled",
                                        "success",
                                        "success",
                                        "canceled",
                                        "canceled",
                                        "success",
                                        "success",
                                        "skipped",
                                        "canceled",
                                        "success",
                                        "success",
                                        "skipped",
                                        "failed",
                                        "success",
                                        "success",
                                        "success",
                                        "success",
                                        "success",
                                        "success",
                                        "success",
                                        "success",
                                        "canceled",
                                        "canceled",
                                        "canceled",
                                        "canceled",
                                        "canceled",
                                        "canceled",
                                        "canceled",
                                        "canceled",
                                        "success",
                                        "canceled",
                                        "canceled",
                                        "success",
                                        "canceled",
                                        "canceled",
                                        "canceled",
                                        "canceled",
                                        "canceled",
                                        "skipped",
                                        "success",
                                        "success",
                                        "skipped",
                                        "failed",
                                        "success",
                                        "success",
                                        "canceled",
                                        "canceled",
                                        "canceled",
                                        "canceled",
                                        "canceled",
                                        "canceled",
                                        "canceled",
                                        "canceled",
                                        "canceled",
                                        "canceled",
                                        "success",
                                        "success",
                                        "canceled",
                                        "canceled",
                                        "success",
                                        "success",
                                        "success",
                                        "success",
                                        "canceled",
                                        "canceled",
                                        "canceled",
                                        "canceled",
                                        "skipped",
                                        "failed",
                                        "success",
                                        "success",
                                        "skipped",
                                        "failed",
                                        "success",
                                        "success",
                                        "canceled",
                                        "canceled",
                                        "canceled",
                                        "canceled",
                                        "canceled",
                                        "canceled",
                                        "canceled",
                                        "canceled",
                                        "success",
                                        "success",
                                        "success",
                                        "success",
                                        "success",
                                        "success",
                                        "canceled",
                                        "canceled",
                                        "canceled",
                                        "canceled",
                                        "success",
                                        "success",
                                        "success",
                                        "success",
                                        "canceled",
                                        "canceled",
                                        "canceled",
                                        "canceled",
                                        "canceled",
                                        "canceled",
                                        "canceled",
                                        "canceled",
                                        "canceled",
                                        "canceled",
                                        "canceled",
                                        "canceled",
                                        "canceled",
                                        "canceled",
                                        "canceled",
                                        "canceled",
                                        "success",
                                        "success",
                                        "success",
                                        "success",
                                        "canceled",
                                        "canceled",
                                        "canceled",
                                        "canceled",
                                        "canceled",
                                        "canceled",
                                        "canceled",
                                        "canceled",
                                        "success",
                                        "success",
                                        "success",
                                        "success",
                                        "canceled",
                                        "canceled",
                                        "canceled",
                                        "canceled",
                                        "success",
                                        "success",
                                        "canceled",
                                        "canceled",
                                        "canceled",
                                        "canceled",
                                        "success",
                                        "success",
                                        "success",
                                        "success",
                                        "success",
                                        "success",
                                        "canceled",
                                        "canceled",
                                        "canceled",
                                        "canceled",
                                        "success",
                                        "success",
                                        "success",
                                        "success",
                                        "canceled",
                                        "canceled",
                                        "canceled",
                                        "canceled",
                                        "success",
                                        "success",
                                        "success",
                                        "success",
                                        "canceled",
                                        "canceled",
                                        "canceled",
                                        "canceled",
                                        "canceled",
                                        "canceled",
                                        "canceled",
                                        "canceled",
                                        "success",
                                        "canceled",
                                        "canceled",
                                        "success",
                                        "canceled",
                                        "canceled",
                                        "success",
                                        "success",
                                        "canceled",
                                        "canceled",
                                        "success",
                                        "success",
                                        "canceled",
                                        "canceled",
                                        "success",
                                        "success"
                                    ],
                                    "legendgroup": "",
                                    "marker": {
                                        "colors": [
                                            "#636efa",
                                            "#636efa",
                                            "#EF553B",
                                            "#636efa",
                                            "#636efa",
                                            "#636efa",
                                            "#636efa",
                                            "#636efa",
                                            "#EF553B",
                                            "#636efa",
                                            "#636efa",
                                            "#636efa",
                                            "#636efa",
                                            "#00cc96",
                                            "#00cc96",
                                            "#636efa",
                                            "#636efa",
                                            "#636efa",
                                            "#636efa",
                                            "#636efa",
                                            "#EF553B",
                                            "#636efa",
                                            "#636efa",
                                            "#636efa",
                                            "#636efa",
                                            "#636efa",
                                            "#636efa",
                                            "#636efa",
                                            "#636efa",
                                            "#636efa",
                                            "#00cc96",
                                            "#00cc96",
                                            "#00cc96",
                                            "#00cc96",
                                            "#00cc96",
                                            "#00cc96",
                                            "#636efa",
                                            "#636efa",
                                            "#636efa",
                                            "#636efa",
                                            "#636efa",
                                            "#636efa",
                                            "#636efa",
                                            "#636efa",
                                            "#636efa",
                                            "#636efa",
                                            "#636efa",
                                            "#636efa",
                                            "#636efa",
                                            "#636efa",
                                            "#636efa",
                                            "#636efa",
                                            "#636efa",
                                            "#636efa",
                                            "#636efa",
                                            "#636efa",
                                            "#636efa",
                                            "#636efa",
                                            "#636efa",
                                            "#636efa",
                                            "#636efa",
                                            "#636efa",
                                            "#636efa",
                                            "#636efa",
                                            "#636efa",
                                            "#636efa",
                                            "#636efa",
                                            "#636efa",
                                            "#636efa",
                                            "#636efa",
                                            "#00cc96",
                                            "#00cc96",
                                            "#00cc96",
                                            "#00cc96",
                                            "#00cc96",
                                            "#00cc96",
                                            "#636efa",
                                            "#00cc96",
                                            "#00cc96",
                                            "#00cc96",
                                            "#00cc96",
                                            "#00cc96",
                                            "#00cc96",
                                            "#00cc96",
                                            "#00cc96",
                                            "#636efa",
                                            "#636efa",
                                            "#636efa",
                                            "#00cc96",
                                            "#00cc96",
                                            "#00cc96",
                                            "#00cc96",
                                            "#00cc96",
                                            "#636efa",
                                            "#636efa",
                                            "#636efa",
                                            "#636efa",
                                            "#636efa",
                                            "#636efa",
                                            "#636efa",
                                            "#636efa",
                                            "#636efa",
                                            "#636efa",
                                            "#636efa",
                                            "#636efa",
                                            "#636efa",
                                            "#636efa",
                                            "#636efa",
                                            "#636efa",
                                            "#636efa",
                                            "#00cc96",
                                            "#636efa",
                                            "#636efa",
                                            "#636efa",
                                            "#636efa",
                                            "#636efa",
                                            "#00cc96",
                                            "#636efa",
                                            "#636efa",
                                            "#00cc96",
                                            "#636efa",
                                            "#636efa",
                                            "#EF553B",
                                            "#636efa",
                                            "#636efa",
                                            "#636efa",
                                            "#EF553B",
                                            "#636efa",
                                            "#EF553B",
                                            "#EF553B",
                                            "#636efa",
                                            "#636efa",
                                            "#636efa",
                                            "#636efa",
                                            "#636efa",
                                            "#636efa",
                                            "#636efa",
                                            "#636efa",
                                            "#636efa",
                                            "#636efa",
                                            "#636efa",
                                            "#636efa",
                                            "#EF553B",
                                            "#636efa",
                                            "#636efa",
                                            "#636efa",
                                            "#636efa",
                                            "#636efa",
                                            "#636efa",
                                            "#636efa",
                                            "#636efa",
                                            "#636efa",
                                            "#EF553B",
                                            "#636efa",
                                            "#636efa",
                                            "#636efa",
                                            "#00cc96",
                                            "#ab63fa",
                                            "#636efa",
                                            "#636efa",
                                            "#00cc96",
                                            "#EF553B",
                                            "#636efa",
                                            "#636efa",
                                            "#636efa",
                                            "#636efa",
                                            "#636efa",
                                            "#EF553B",
                                            "#636efa",
                                            "#00cc96",
                                            "#636efa",
                                            "#00cc96",
                                            "#636efa",
                                            "#636efa",
                                            "#00cc96",
                                            "#636efa",
                                            "#636efa",
                                            "#636efa",
                                            "#EF553B",
                                            "#636efa",
                                            "#636efa",
                                            "#636efa",
                                            "#636efa",
                                            "#636efa",
                                            "#EF553B",
                                            "#636efa",
                                            "#636efa",
                                            "#636efa",
                                            "#636efa",
                                            "#636efa",
                                            "#636efa",
                                            "#636efa",
                                            "#EF553B",
                                            "#636efa",
                                            "#636efa",
                                            "#636efa",
                                            "#636efa",
                                            "#636efa",
                                            "#636efa",
                                            "#00cc96",
                                            "#636efa",
                                            "#00cc96",
                                            "#ab63fa",
                                            "#00cc96",
                                            "#636efa",
                                            "#ab63fa",
                                            "#636efa",
                                            "#00cc96",
                                            "#ab63fa",
                                            "#636efa",
                                            "#ab63fa",
                                            "#EF553B",
                                            "#636efa",
                                            "#ab63fa",
                                            "#00cc96",
                                            "#636efa",
                                            "#00cc96",
                                            "#636efa",
                                            "#636efa",
                                            "#636efa",
                                            "#00cc96",
                                            "#636efa",
                                            "#636efa",
                                            "#636efa",
                                            "#00cc96",
                                            "#636efa",
                                            "#00cc96",
                                            "#636efa",
                                            "#636efa",
                                            "#00cc96",
                                            "#636efa",
                                            "#00cc96",
                                            "#636efa",
                                            "#636efa",
                                            "#00cc96",
                                            "#636efa",
                                            "#636efa",
                                            "#636efa",
                                            "#00cc96",
                                            "#00cc96",
                                            "#636efa",
                                            "#636efa",
                                            "#EF553B",
                                            "#636efa",
                                            "#636efa",
                                            "#00cc96",
                                            "#636efa",
                                            "#636efa",
                                            "#636efa",
                                            "#636efa",
                                            "#636efa",
                                            "#636efa",
                                            "#00cc96",
                                            "#636efa",
                                            "#636efa",
                                            "#00cc96",
                                            "#636efa",
                                            "#636efa",
                                            "#636efa",
                                            "#636efa",
                                            "#636efa",
                                            "#636efa",
                                            "#636efa",
                                            "#636efa",
                                            "#636efa",
                                            "#636efa",
                                            "#636efa",
                                            "#636efa",
                                            "#ab63fa",
                                            "#636efa",
                                            "#636efa",
                                            "#EF553B",
                                            "#636efa",
                                            "#00cc96",
                                            "#00cc96",
                                            "#636efa",
                                            "#00cc96",
                                            "#00cc96",
                                            "#636efa",
                                            "#ab63fa",
                                            "#636efa",
                                            "#636efa",
                                            "#EF553B",
                                            "#ab63fa",
                                            "#00cc96",
                                            "#636efa",
                                            "#EF553B",
                                            "#00cc96",
                                            "#00cc96",
                                            "#636efa",
                                            "#00cc96",
                                            "#00cc96",
                                            "#00cc96",
                                            "#636efa",
                                            "#636efa",
                                            "#636efa",
                                            "#636efa",
                                            "#ab63fa",
                                            "#ab63fa",
                                            "#ab63fa",
                                            "#ab63fa",
                                            "#00cc96",
                                            "#00cc96",
                                            "#636efa",
                                            "#00cc96",
                                            "#00cc96",
                                            "#636efa",
                                            "#636efa",
                                            "#636efa",
                                            "#636efa",
                                            "#636efa",
                                            "#636efa",
                                            "#636efa",
                                            "#636efa",
                                            "#636efa",
                                            "#ab63fa",
                                            "#ab63fa",
                                            "#ab63fa",
                                            "#ab63fa",
                                            "#636efa",
                                            "#636efa",
                                            "#EF553B",
                                            "#636efa",
                                            "#636efa",
                                            "#00cc96",
                                            "#00cc96",
                                            "#00cc96",
                                            "#636efa",
                                            "#636efa",
                                            "#636efa",
                                            "#636efa",
                                            "#636efa",
                                            "#636efa",
                                            "#ab63fa",
                                            "#ab63fa",
                                            "#ab63fa",
                                            "#ab63fa",
                                            "#636efa",
                                            "#EF553B",
                                            "#636efa",
                                            "#636efa",
                                            "#636efa",
                                            "#636efa",
                                            "#00cc96",
                                            "#00cc96",
                                            "#00cc96",
                                            "#00cc96",
                                            "#636efa",
                                            "#636efa",
                                            "#636efa",
                                            "#636efa",
                                            "#636efa",
                                            "#636efa",
                                            "#00cc96",
                                            "#00cc96",
                                            "#00cc96",
                                            "#00cc96",
                                            "#00cc96",
                                            "#00cc96",
                                            "#636efa",
                                            "#636efa",
                                            "#00cc96",
                                            "#00cc96",
                                            "#00cc96",
                                            "#00cc96",
                                            "#00cc96",
                                            "#00cc96",
                                            "#636efa",
                                            "#636efa",
                                            "#636efa",
                                            "#636efa",
                                            "#636efa",
                                            "#636efa",
                                            "#00cc96",
                                            "#00cc96",
                                            "#00cc96",
                                            "#00cc96",
                                            "#636efa",
                                            "#636efa",
                                            "#00cc96",
                                            "#00cc96",
                                            "#00cc96",
                                            "#00cc96",
                                            "#00cc96",
                                            "#636efa",
                                            "#00cc96",
                                            "#00cc96",
                                            "#00cc96",
                                            "#00cc96",
                                            "#636efa",
                                            "#636efa",
                                            "#00cc96",
                                            "#00cc96",
                                            "#00cc96",
                                            "#00cc96",
                                            "#00cc96",
                                            "#636efa",
                                            "#636efa",
                                            "#ab63fa",
                                            "#636efa",
                                            "#636efa",
                                            "#636efa",
                                            "#636efa",
                                            "#636efa",
                                            "#636efa",
                                            "#636efa",
                                            "#ab63fa",
                                            "#636efa",
                                            "#636efa",
                                            "#636efa",
                                            "#636efa",
                                            "#636efa",
                                            "#636efa",
                                            "#636efa",
                                            "#636efa",
                                            "#636efa",
                                            "#636efa",
                                            "#636efa",
                                            "#636efa",
                                            "#636efa",
                                            "#636efa",
                                            "#636efa",
                                            "#00cc96",
                                            "#00cc96",
                                            "#00cc96",
                                            "#00cc96",
                                            "#00cc96",
                                            "#00cc96",
                                            "#00cc96",
                                            "#00cc96",
                                            "#636efa",
                                            "#EF553B",
                                            "#636efa",
                                            "#636efa",
                                            "#636efa",
                                            "#636efa",
                                            "#636efa",
                                            "#EF553B",
                                            "#636efa",
                                            "#636efa",
                                            "#EF553B",
                                            "#636efa",
                                            "#636efa",
                                            "#EF553B",
                                            "#636efa",
                                            "#636efa",
                                            "#EF553B",
                                            "#636efa",
                                            "#636efa",
                                            "#EF553B",
                                            "#636efa",
                                            "#636efa",
                                            "#EF553B",
                                            "#636efa",
                                            "#636efa",
                                            "#EF553B",
                                            "#636efa",
                                            "#636efa",
                                            "#EF553B",
                                            "#636efa",
                                            "#636efa",
                                            "#EF553B",
                                            "#636efa",
                                            "#636efa",
                                            "#636efa",
                                            "#EF553B",
                                            "#EF553B",
                                            "#EF553B",
                                            "#EF553B",
                                            "#636efa",
                                            "#EF553B",
                                            "#EF553B",
                                            "#00cc96",
                                            "#00cc96",
                                            "#00cc96",
                                            "#00cc96",
                                            "#636efa",
                                            "#636efa",
                                            "#636efa",
                                            "#636efa",
                                            "#636efa",
                                            "#636efa",
                                            "#636efa",
                                            "#636efa",
                                            "#636efa",
                                            "#636efa",
                                            "#636efa",
                                            "#636efa",
                                            "#636efa",
                                            "#636efa",
                                            "#636efa",
                                            "#636efa",
                                            "#636efa",
                                            "#636efa",
                                            "#636efa",
                                            "#636efa",
                                            "#636efa",
                                            "#636efa",
                                            "#636efa",
                                            "#636efa",
                                            "#636efa",
                                            "#636efa",
                                            "#636efa",
                                            "#636efa",
                                            "#636efa",
                                            "#636efa",
                                            "#636efa",
                                            "#636efa",
                                            "#636efa",
                                            "#636efa",
                                            "#636efa",
                                            "#636efa",
                                            "#636efa",
                                            "#636efa",
                                            "#636efa",
                                            "#636efa",
                                            "#00cc96",
                                            "#00cc96",
                                            "#00cc96",
                                            "#00cc96",
                                            "#00cc96",
                                            "#00cc96",
                                            "#00cc96",
                                            "#00cc96",
                                            "#00cc96",
                                            "#636efa",
                                            "#636efa",
                                            "#636efa",
                                            "#636efa",
                                            "#636efa",
                                            "#636efa",
                                            "#636efa",
                                            "#636efa",
                                            "#636efa",
                                            "#636efa",
                                            "#636efa",
                                            "#636efa",
                                            "#636efa",
                                            "#636efa",
                                            "#636efa",
                                            "#636efa",
                                            "#636efa",
                                            "#636efa",
                                            "#636efa",
                                            "#636efa",
                                            "#00cc96",
                                            "#00cc96",
                                            "#00cc96",
                                            "#00cc96",
                                            "#636efa",
                                            "#00cc96",
                                            "#00cc96",
                                            "#636efa",
                                            "#636efa",
                                            "#636efa",
                                            "#636efa",
                                            "#636efa",
                                            "#636efa",
                                            "#636efa",
                                            "#636efa",
                                            "#636efa",
                                            "#636efa",
                                            "#636efa",
                                            "#636efa",
                                            "#636efa",
                                            "#636efa",
                                            "#636efa",
                                            "#636efa",
                                            "#636efa",
                                            "#00cc96",
                                            "#00cc96",
                                            "#636efa",
                                            "#636efa",
                                            "#636efa",
                                            "#636efa",
                                            "#636efa",
                                            "#636efa",
                                            "#636efa",
                                            "#636efa",
                                            "#636efa",
                                            "#636efa",
                                            "#636efa",
                                            "#636efa",
                                            "#00cc96",
                                            "#00cc96",
                                            "#636efa",
                                            "#636efa",
                                            "#636efa",
                                            "#636efa",
                                            "#636efa",
                                            "#636efa",
                                            "#636efa",
                                            "#636efa",
                                            "#636efa",
                                            "#636efa",
                                            "#636efa",
                                            "#636efa",
                                            "#00cc96",
                                            "#00cc96",
                                            "#636efa",
                                            "#636efa",
                                            "#636efa",
                                            "#636efa",
                                            "#636efa",
                                            "#636efa",
                                            "#636efa",
                                            "#636efa",
                                            "#636efa",
                                            "#636efa",
                                            "#636efa",
                                            "#636efa",
                                            "#636efa",
                                            "#636efa",
                                            "#636efa",
                                            "#636efa",
                                            "#636efa",
                                            "#636efa",
                                            "#636efa",
                                            "#636efa",
                                            "#00cc96",
                                            "#636efa",
                                            "#636efa",
                                            "#636efa",
                                            "#636efa",
                                            "#636efa",
                                            "#00cc96",
                                            "#00cc96",
                                            "#00cc96",
                                            "#00cc96",
                                            "#636efa",
                                            "#636efa",
                                            "#636efa",
                                            "#636efa",
                                            "#636efa",
                                            "#636efa",
                                            "#636efa",
                                            "#636efa",
                                            "#636efa",
                                            "#636efa",
                                            "#636efa",
                                            "#636efa",
                                            "#636efa",
                                            "#636efa",
                                            "#636efa",
                                            "#636efa",
                                            "#00cc96",
                                            "#ab63fa",
                                            "#636efa",
                                            "#636efa",
                                            "#636efa",
                                            "#636efa",
                                            "#636efa",
                                            "#636efa",
                                            "#00cc96",
                                            "#00cc96",
                                            "#00cc96",
                                            "#00cc96",
                                            "#00cc96",
                                            "#ab63fa",
                                            "#636efa",
                                            "#636efa",
                                            "#00cc96",
                                            "#00cc96",
                                            "#00cc96",
                                            "#00cc96",
                                            "#636efa",
                                            "#636efa",
                                            "#636efa",
                                            "#636efa",
                                            "#EF553B",
                                            "#ab63fa",
                                            "#636efa",
                                            "#636efa",
                                            "#ab63fa",
                                            "#EF553B",
                                            "#636efa",
                                            "#636efa",
                                            "#EF553B",
                                            "#ab63fa",
                                            "#636efa",
                                            "#636efa",
                                            "#ab63fa",
                                            "#EF553B",
                                            "#636efa",
                                            "#636efa",
                                            "#00cc96",
                                            "#00cc96",
                                            "#00cc96",
                                            "#00cc96",
                                            "#EF553B",
                                            "#ab63fa",
                                            "#636efa",
                                            "#636efa",
                                            "#EF553B",
                                            "#ab63fa",
                                            "#636efa",
                                            "#636efa",
                                            "#636efa",
                                            "#636efa",
                                            "#00cc96",
                                            "#00cc96",
                                            "#636efa",
                                            "#636efa",
                                            "#636efa",
                                            "#636efa",
                                            "#ab63fa",
                                            "#EF553B",
                                            "#636efa",
                                            "#636efa",
                                            "#ab63fa",
                                            "#EF553B",
                                            "#636efa",
                                            "#636efa",
                                            "#EF553B",
                                            "#ab63fa",
                                            "#636efa",
                                            "#636efa",
                                            "#00cc96",
                                            "#00cc96",
                                            "#00cc96",
                                            "#00cc96",
                                            "#636efa",
                                            "#636efa",
                                            "#636efa",
                                            "#636efa",
                                            "#636efa",
                                            "#636efa",
                                            "#00cc96",
                                            "#00cc96",
                                            "#00cc96",
                                            "#00cc96",
                                            "#636efa",
                                            "#636efa",
                                            "#00cc96",
                                            "#00cc96",
                                            "#00cc96",
                                            "#00cc96",
                                            "#636efa",
                                            "#636efa",
                                            "#636efa",
                                            "#636efa",
                                            "#636efa",
                                            "#636efa",
                                            "#636efa",
                                            "#636efa",
                                            "#00cc96",
                                            "#00cc96",
                                            "#00cc96",
                                            "#00cc96",
                                            "#636efa",
                                            "#636efa",
                                            "#636efa",
                                            "#636efa",
                                            "#636efa",
                                            "#636efa",
                                            "#EF553B",
                                            "#ab63fa",
                                            "#636efa",
                                            "#636efa",
                                            "#00cc96",
                                            "#00cc96",
                                            "#00cc96",
                                            "#00cc96",
                                            "#00cc96",
                                            "#00cc96",
                                            "#00cc96",
                                            "#00cc96",
                                            "#636efa",
                                            "#636efa",
                                            "#636efa",
                                            "#636efa",
                                            "#00cc96",
                                            "#00cc96",
                                            "#00cc96",
                                            "#00cc96",
                                            "#00cc96",
                                            "#636efa",
                                            "#636efa",
                                            "#636efa",
                                            "#636efa",
                                            "#636efa",
                                            "#636efa",
                                            "#636efa",
                                            "#636efa",
                                            "#636efa",
                                            "#636efa",
                                            "#636efa",
                                            "#636efa",
                                            "#636efa",
                                            "#636efa",
                                            "#636efa",
                                            "#636efa",
                                            "#636efa",
                                            "#636efa",
                                            "#636efa",
                                            "#636efa",
                                            "#636efa",
                                            "#636efa",
                                            "#00cc96",
                                            "#00cc96",
                                            "#636efa",
                                            "#636efa",
                                            "#00cc96",
                                            "#00cc96",
                                            "#636efa",
                                            "#636efa",
                                            "#00cc96",
                                            "#00cc96",
                                            "#636efa",
                                            "#636efa",
                                            "#636efa",
                                            "#636efa",
                                            "#636efa",
                                            "#636efa",
                                            "#00cc96",
                                            "#00cc96",
                                            "#636efa",
                                            "#636efa",
                                            "#00cc96",
                                            "#00cc96",
                                            "#636efa",
                                            "#636efa",
                                            "#ab63fa",
                                            "#00cc96",
                                            "#636efa",
                                            "#636efa",
                                            "#ab63fa",
                                            "#EF553B",
                                            "#636efa",
                                            "#636efa",
                                            "#636efa",
                                            "#636efa",
                                            "#636efa",
                                            "#636efa",
                                            "#636efa",
                                            "#636efa",
                                            "#00cc96",
                                            "#00cc96",
                                            "#00cc96",
                                            "#00cc96",
                                            "#00cc96",
                                            "#00cc96",
                                            "#00cc96",
                                            "#00cc96",
                                            "#636efa",
                                            "#00cc96",
                                            "#00cc96",
                                            "#636efa",
                                            "#00cc96",
                                            "#00cc96",
                                            "#00cc96",
                                            "#00cc96",
                                            "#00cc96",
                                            "#ab63fa",
                                            "#636efa",
                                            "#636efa",
                                            "#ab63fa",
                                            "#EF553B",
                                            "#636efa",
                                            "#636efa",
                                            "#00cc96",
                                            "#00cc96",
                                            "#00cc96",
                                            "#00cc96",
                                            "#00cc96",
                                            "#00cc96",
                                            "#00cc96",
                                            "#00cc96",
                                            "#00cc96",
                                            "#00cc96",
                                            "#636efa",
                                            "#636efa",
                                            "#00cc96",
                                            "#00cc96",
                                            "#636efa",
                                            "#636efa",
                                            "#636efa",
                                            "#636efa",
                                            "#00cc96",
                                            "#00cc96",
                                            "#00cc96",
                                            "#00cc96",
                                            "#ab63fa",
                                            "#EF553B",
                                            "#636efa",
                                            "#636efa",
                                            "#ab63fa",
                                            "#EF553B",
                                            "#636efa",
                                            "#636efa",
                                            "#00cc96",
                                            "#00cc96",
                                            "#00cc96",
                                            "#00cc96",
                                            "#00cc96",
                                            "#00cc96",
                                            "#00cc96",
                                            "#00cc96",
                                            "#636efa",
                                            "#636efa",
                                            "#636efa",
                                            "#636efa",
                                            "#636efa",
                                            "#636efa",
                                            "#00cc96",
                                            "#00cc96",
                                            "#00cc96",
                                            "#00cc96",
                                            "#636efa",
                                            "#636efa",
                                            "#636efa",
                                            "#636efa",
                                            "#00cc96",
                                            "#00cc96",
                                            "#00cc96",
                                            "#00cc96",
                                            "#00cc96",
                                            "#00cc96",
                                            "#00cc96",
                                            "#00cc96",
                                            "#00cc96",
                                            "#00cc96",
                                            "#00cc96",
                                            "#00cc96",
                                            "#00cc96",
                                            "#00cc96",
                                            "#00cc96",
                                            "#00cc96",
                                            "#636efa",
                                            "#636efa",
                                            "#636efa",
                                            "#636efa",
                                            "#00cc96",
                                            "#00cc96",
                                            "#00cc96",
                                            "#00cc96",
                                            "#00cc96",
                                            "#00cc96",
                                            "#00cc96",
                                            "#00cc96",
                                            "#636efa",
                                            "#636efa",
                                            "#636efa",
                                            "#636efa",
                                            "#00cc96",
                                            "#00cc96",
                                            "#00cc96",
                                            "#00cc96",
                                            "#636efa",
                                            "#636efa",
                                            "#00cc96",
                                            "#00cc96",
                                            "#00cc96",
                                            "#00cc96",
                                            "#636efa",
                                            "#636efa",
                                            "#636efa",
                                            "#636efa",
                                            "#636efa",
                                            "#636efa",
                                            "#00cc96",
                                            "#00cc96",
                                            "#00cc96",
                                            "#00cc96",
                                            "#636efa",
                                            "#636efa",
                                            "#636efa",
                                            "#636efa",
                                            "#00cc96",
                                            "#00cc96",
                                            "#00cc96",
                                            "#00cc96",
                                            "#636efa",
                                            "#636efa",
                                            "#636efa",
                                            "#636efa",
                                            "#00cc96",
                                            "#00cc96",
                                            "#00cc96",
                                            "#00cc96",
                                            "#00cc96",
                                            "#00cc96",
                                            "#00cc96",
                                            "#00cc96",
                                            "#636efa",
                                            "#00cc96",
                                            "#00cc96",
                                            "#636efa",
                                            "#00cc96",
                                            "#00cc96",
                                            "#636efa",
                                            "#636efa",
                                            "#00cc96",
                                            "#00cc96",
                                            "#636efa",
                                            "#636efa",
                                            "#00cc96",
                                            "#00cc96",
                                            "#636efa",
                                            "#636efa"
                                        ]
                                    },
                                    "name": "",
                                    "showlegend": true,
                                    "type": "pie"
                                }
                            ],
                            "layout": {
                                "legend": {
                                    "tracegroupgap": 0
                                },
                                "template": {
                                    "data": {
                                        "bar": [
                                            {
                                                "error_x": {
                                                    "color": "#f2f5fa"
                                                },
                                                "error_y": {
                                                    "color": "#f2f5fa"
                                                },
                                                "marker": {
                                                    "line": {
                                                        "color": "rgb(17,17,17)",
                                                        "width": 0.5
                                                    },
                                                    "pattern": {
                                                        "fillmode": "overlay",
                                                        "size": 10,
                                                        "solidity": 0.2
                                                    }
                                                },
                                                "type": "bar"
                                            }
                                        ],
                                        "barpolar": [
                                            {
                                                "marker": {
                                                    "line": {
                                                        "color": "rgb(17,17,17)",
                                                        "width": 0.5
                                                    },
                                                    "pattern": {
                                                        "fillmode": "overlay",
                                                        "size": 10,
                                                        "solidity": 0.2
                                                    }
                                                },
                                                "type": "barpolar"
                                            }
                                        ],
                                        "carpet": [
                                            {
                                                "aaxis": {
                                                    "endlinecolor": "#A2B1C6",
                                                    "gridcolor": "#506784",
                                                    "linecolor": "#506784",
                                                    "minorgridcolor": "#506784",
                                                    "startlinecolor": "#A2B1C6"
                                                },
                                                "baxis": {
                                                    "endlinecolor": "#A2B1C6",
                                                    "gridcolor": "#506784",
                                                    "linecolor": "#506784",
                                                    "minorgridcolor": "#506784",
                                                    "startlinecolor": "#A2B1C6"
                                                },
                                                "type": "carpet"
                                            }
                                        ],
                                        "choropleth": [
                                            {
                                                "colorbar": {
                                                    "outlinewidth": 0,
                                                    "ticks": ""
                                                },
                                                "type": "choropleth"
                                            }
                                        ],
                                        "contour": [
                                            {
                                                "colorbar": {
                                                    "outlinewidth": 0,
                                                    "ticks": ""
                                                },
                                                "colorscale": [
                                                    [
                                                        0,
                                                        "#0d0887"
                                                    ],
                                                    [
                                                        0.1111111111111111,
                                                        "#46039f"
                                                    ],
                                                    [
                                                        0.2222222222222222,
                                                        "#7201a8"
                                                    ],
                                                    [
                                                        0.3333333333333333,
                                                        "#9c179e"
                                                    ],
                                                    [
                                                        0.4444444444444444,
                                                        "#bd3786"
                                                    ],
                                                    [
                                                        0.5555555555555556,
                                                        "#d8576b"
                                                    ],
                                                    [
                                                        0.6666666666666666,
                                                        "#ed7953"
                                                    ],
                                                    [
                                                        0.7777777777777778,
                                                        "#fb9f3a"
                                                    ],
                                                    [
                                                        0.8888888888888888,
                                                        "#fdca26"
                                                    ],
                                                    [
                                                        1,
                                                        "#f0f921"
                                                    ]
                                                ],
                                                "type": "contour"
                                            }
                                        ],
                                        "contourcarpet": [
                                            {
                                                "colorbar": {
                                                    "outlinewidth": 0,
                                                    "ticks": ""
                                                },
                                                "type": "contourcarpet"
                                            }
                                        ],
                                        "heatmap": [
                                            {
                                                "colorbar": {
                                                    "outlinewidth": 0,
                                                    "ticks": ""
                                                },
                                                "colorscale": [
                                                    [
                                                        0,
                                                        "#0d0887"
                                                    ],
                                                    [
                                                        0.1111111111111111,
                                                        "#46039f"
                                                    ],
                                                    [
                                                        0.2222222222222222,
                                                        "#7201a8"
                                                    ],
                                                    [
                                                        0.3333333333333333,
                                                        "#9c179e"
                                                    ],
                                                    [
                                                        0.4444444444444444,
                                                        "#bd3786"
                                                    ],
                                                    [
                                                        0.5555555555555556,
                                                        "#d8576b"
                                                    ],
                                                    [
                                                        0.6666666666666666,
                                                        "#ed7953"
                                                    ],
                                                    [
                                                        0.7777777777777778,
                                                        "#fb9f3a"
                                                    ],
                                                    [
                                                        0.8888888888888888,
                                                        "#fdca26"
                                                    ],
                                                    [
                                                        1,
                                                        "#f0f921"
                                                    ]
                                                ],
                                                "type": "heatmap"
                                            }
                                        ],
                                        "heatmapgl": [
                                            {
                                                "colorbar": {
                                                    "outlinewidth": 0,
                                                    "ticks": ""
                                                },
                                                "colorscale": [
                                                    [
                                                        0,
                                                        "#0d0887"
                                                    ],
                                                    [
                                                        0.1111111111111111,
                                                        "#46039f"
                                                    ],
                                                    [
                                                        0.2222222222222222,
                                                        "#7201a8"
                                                    ],
                                                    [
                                                        0.3333333333333333,
                                                        "#9c179e"
                                                    ],
                                                    [
                                                        0.4444444444444444,
                                                        "#bd3786"
                                                    ],
                                                    [
                                                        0.5555555555555556,
                                                        "#d8576b"
                                                    ],
                                                    [
                                                        0.6666666666666666,
                                                        "#ed7953"
                                                    ],
                                                    [
                                                        0.7777777777777778,
                                                        "#fb9f3a"
                                                    ],
                                                    [
                                                        0.8888888888888888,
                                                        "#fdca26"
                                                    ],
                                                    [
                                                        1,
                                                        "#f0f921"
                                                    ]
                                                ],
                                                "type": "heatmapgl"
                                            }
                                        ],
                                        "histogram": [
                                            {
                                                "marker": {
                                                    "pattern": {
                                                        "fillmode": "overlay",
                                                        "size": 10,
                                                        "solidity": 0.2
                                                    }
                                                },
                                                "type": "histogram"
                                            }
                                        ],
                                        "histogram2d": [
                                            {
                                                "colorbar": {
                                                    "outlinewidth": 0,
                                                    "ticks": ""
                                                },
                                                "colorscale": [
                                                    [
                                                        0,
                                                        "#0d0887"
                                                    ],
                                                    [
                                                        0.1111111111111111,
                                                        "#46039f"
                                                    ],
                                                    [
                                                        0.2222222222222222,
                                                        "#7201a8"
                                                    ],
                                                    [
                                                        0.3333333333333333,
                                                        "#9c179e"
                                                    ],
                                                    [
                                                        0.4444444444444444,
                                                        "#bd3786"
                                                    ],
                                                    [
                                                        0.5555555555555556,
                                                        "#d8576b"
                                                    ],
                                                    [
                                                        0.6666666666666666,
                                                        "#ed7953"
                                                    ],
                                                    [
                                                        0.7777777777777778,
                                                        "#fb9f3a"
                                                    ],
                                                    [
                                                        0.8888888888888888,
                                                        "#fdca26"
                                                    ],
                                                    [
                                                        1,
                                                        "#f0f921"
                                                    ]
                                                ],
                                                "type": "histogram2d"
                                            }
                                        ],
                                        "histogram2dcontour": [
                                            {
                                                "colorbar": {
                                                    "outlinewidth": 0,
                                                    "ticks": ""
                                                },
                                                "colorscale": [
                                                    [
                                                        0,
                                                        "#0d0887"
                                                    ],
                                                    [
                                                        0.1111111111111111,
                                                        "#46039f"
                                                    ],
                                                    [
                                                        0.2222222222222222,
                                                        "#7201a8"
                                                    ],
                                                    [
                                                        0.3333333333333333,
                                                        "#9c179e"
                                                    ],
                                                    [
                                                        0.4444444444444444,
                                                        "#bd3786"
                                                    ],
                                                    [
                                                        0.5555555555555556,
                                                        "#d8576b"
                                                    ],
                                                    [
                                                        0.6666666666666666,
                                                        "#ed7953"
                                                    ],
                                                    [
                                                        0.7777777777777778,
                                                        "#fb9f3a"
                                                    ],
                                                    [
                                                        0.8888888888888888,
                                                        "#fdca26"
                                                    ],
                                                    [
                                                        1,
                                                        "#f0f921"
                                                    ]
                                                ],
                                                "type": "histogram2dcontour"
                                            }
                                        ],
                                        "mesh3d": [
                                            {
                                                "colorbar": {
                                                    "outlinewidth": 0,
                                                    "ticks": ""
                                                },
                                                "type": "mesh3d"
                                            }
                                        ],
                                        "parcoords": [
                                            {
                                                "line": {
                                                    "colorbar": {
                                                        "outlinewidth": 0,
                                                        "ticks": ""
                                                    }
                                                },
                                                "type": "parcoords"
                                            }
                                        ],
                                        "pie": [
                                            {
                                                "automargin": true,
                                                "type": "pie"
                                            }
                                        ],
                                        "scatter": [
                                            {
                                                "marker": {
                                                    "line": {
                                                        "color": "#283442"
                                                    }
                                                },
                                                "type": "scatter"
                                            }
                                        ],
                                        "scatter3d": [
                                            {
                                                "line": {
                                                    "colorbar": {
                                                        "outlinewidth": 0,
                                                        "ticks": ""
                                                    }
                                                },
                                                "marker": {
                                                    "colorbar": {
                                                        "outlinewidth": 0,
                                                        "ticks": ""
                                                    }
                                                },
                                                "type": "scatter3d"
                                            }
                                        ],
                                        "scattercarpet": [
                                            {
                                                "marker": {
                                                    "colorbar": {
                                                        "outlinewidth": 0,
                                                        "ticks": ""
                                                    }
                                                },
                                                "type": "scattercarpet"
                                            }
                                        ],
                                        "scattergeo": [
                                            {
                                                "marker": {
                                                    "colorbar": {
                                                        "outlinewidth": 0,
                                                        "ticks": ""
                                                    }
                                                },
                                                "type": "scattergeo"
                                            }
                                        ],
                                        "scattergl": [
                                            {
                                                "marker": {
                                                    "line": {
                                                        "color": "#283442"
                                                    }
                                                },
                                                "type": "scattergl"
                                            }
                                        ],
                                        "scattermapbox": [
                                            {
                                                "marker": {
                                                    "colorbar": {
                                                        "outlinewidth": 0,
                                                        "ticks": ""
                                                    }
                                                },
                                                "type": "scattermapbox"
                                            }
                                        ],
                                        "scatterpolar": [
                                            {
                                                "marker": {
                                                    "colorbar": {
                                                        "outlinewidth": 0,
                                                        "ticks": ""
                                                    }
                                                },
                                                "type": "scatterpolar"
                                            }
                                        ],
                                        "scatterpolargl": [
                                            {
                                                "marker": {
                                                    "colorbar": {
                                                        "outlinewidth": 0,
                                                        "ticks": ""
                                                    }
                                                },
                                                "type": "scatterpolargl"
                                            }
                                        ],
                                        "scatterternary": [
                                            {
                                                "marker": {
                                                    "colorbar": {
                                                        "outlinewidth": 0,
                                                        "ticks": ""
                                                    }
                                                },
                                                "type": "scatterternary"
                                            }
                                        ],
                                        "surface": [
                                            {
                                                "colorbar": {
                                                    "outlinewidth": 0,
                                                    "ticks": ""
                                                },
                                                "colorscale": [
                                                    [
                                                        0,
                                                        "#0d0887"
                                                    ],
                                                    [
                                                        0.1111111111111111,
                                                        "#46039f"
                                                    ],
                                                    [
                                                        0.2222222222222222,
                                                        "#7201a8"
                                                    ],
                                                    [
                                                        0.3333333333333333,
                                                        "#9c179e"
                                                    ],
                                                    [
                                                        0.4444444444444444,
                                                        "#bd3786"
                                                    ],
                                                    [
                                                        0.5555555555555556,
                                                        "#d8576b"
                                                    ],
                                                    [
                                                        0.6666666666666666,
                                                        "#ed7953"
                                                    ],
                                                    [
                                                        0.7777777777777778,
                                                        "#fb9f3a"
                                                    ],
                                                    [
                                                        0.8888888888888888,
                                                        "#fdca26"
                                                    ],
                                                    [
                                                        1,
                                                        "#f0f921"
                                                    ]
                                                ],
                                                "type": "surface"
                                            }
                                        ],
                                        "table": [
                                            {
                                                "cells": {
                                                    "fill": {
                                                        "color": "#506784"
                                                    },
                                                    "line": {
                                                        "color": "rgb(17,17,17)"
                                                    }
                                                },
                                                "header": {
                                                    "fill": {
                                                        "color": "#2a3f5f"
                                                    },
                                                    "line": {
                                                        "color": "rgb(17,17,17)"
                                                    }
                                                },
                                                "type": "table"
                                            }
                                        ]
                                    },
                                    "layout": {
                                        "annotationdefaults": {
                                            "arrowcolor": "#f2f5fa",
                                            "arrowhead": 0,
                                            "arrowwidth": 1
                                        },
                                        "autotypenumbers": "strict",
                                        "coloraxis": {
                                            "colorbar": {
                                                "outlinewidth": 0,
                                                "ticks": ""
                                            }
                                        },
                                        "colorscale": {
                                            "diverging": [
                                                [
                                                    0,
                                                    "#8e0152"
                                                ],
                                                [
                                                    0.1,
                                                    "#c51b7d"
                                                ],
                                                [
                                                    0.2,
                                                    "#de77ae"
                                                ],
                                                [
                                                    0.3,
                                                    "#f1b6da"
                                                ],
                                                [
                                                    0.4,
                                                    "#fde0ef"
                                                ],
                                                [
                                                    0.5,
                                                    "#f7f7f7"
                                                ],
                                                [
                                                    0.6,
                                                    "#e6f5d0"
                                                ],
                                                [
                                                    0.7,
                                                    "#b8e186"
                                                ],
                                                [
                                                    0.8,
                                                    "#7fbc41"
                                                ],
                                                [
                                                    0.9,
                                                    "#4d9221"
                                                ],
                                                [
                                                    1,
                                                    "#276419"
                                                ]
                                            ],
                                            "sequential": [
                                                [
                                                    0,
                                                    "#0d0887"
                                                ],
                                                [
                                                    0.1111111111111111,
                                                    "#46039f"
                                                ],
                                                [
                                                    0.2222222222222222,
                                                    "#7201a8"
                                                ],
                                                [
                                                    0.3333333333333333,
                                                    "#9c179e"
                                                ],
                                                [
                                                    0.4444444444444444,
                                                    "#bd3786"
                                                ],
                                                [
                                                    0.5555555555555556,
                                                    "#d8576b"
                                                ],
                                                [
                                                    0.6666666666666666,
                                                    "#ed7953"
                                                ],
                                                [
                                                    0.7777777777777778,
                                                    "#fb9f3a"
                                                ],
                                                [
                                                    0.8888888888888888,
                                                    "#fdca26"
                                                ],
                                                [
                                                    1,
                                                    "#f0f921"
                                                ]
                                            ],
                                            "sequentialminus": [
                                                [
                                                    0,
                                                    "#0d0887"
                                                ],
                                                [
                                                    0.1111111111111111,
                                                    "#46039f"
                                                ],
                                                [
                                                    0.2222222222222222,
                                                    "#7201a8"
                                                ],
                                                [
                                                    0.3333333333333333,
                                                    "#9c179e"
                                                ],
                                                [
                                                    0.4444444444444444,
                                                    "#bd3786"
                                                ],
                                                [
                                                    0.5555555555555556,
                                                    "#d8576b"
                                                ],
                                                [
                                                    0.6666666666666666,
                                                    "#ed7953"
                                                ],
                                                [
                                                    0.7777777777777778,
                                                    "#fb9f3a"
                                                ],
                                                [
                                                    0.8888888888888888,
                                                    "#fdca26"
                                                ],
                                                [
                                                    1,
                                                    "#f0f921"
                                                ]
                                            ]
                                        },
                                        "colorway": [
                                            "#636efa",
                                            "#EF553B",
                                            "#00cc96",
                                            "#ab63fa",
                                            "#FFA15A",
                                            "#19d3f3",
                                            "#FF6692",
                                            "#B6E880",
                                            "#FF97FF",
                                            "#FECB52"
                                        ],
                                        "font": {
                                            "color": "#f2f5fa"
                                        },
                                        "geo": {
                                            "bgcolor": "rgb(17,17,17)",
                                            "lakecolor": "rgb(17,17,17)",
                                            "landcolor": "rgb(17,17,17)",
                                            "showlakes": true,
                                            "showland": true,
                                            "subunitcolor": "#506784"
                                        },
                                        "hoverlabel": {
                                            "align": "left"
                                        },
                                        "hovermode": "closest",
                                        "mapbox": {
                                            "style": "dark"
                                        },
                                        "paper_bgcolor": "rgb(17,17,17)",
                                        "plot_bgcolor": "rgb(17,17,17)",
                                        "polar": {
                                            "angularaxis": {
                                                "gridcolor": "#506784",
                                                "linecolor": "#506784",
                                                "ticks": ""
                                            },
                                            "bgcolor": "rgb(17,17,17)",
                                            "radialaxis": {
                                                "gridcolor": "#506784",
                                                "linecolor": "#506784",
                                                "ticks": ""
                                            }
                                        },
                                        "scene": {
                                            "xaxis": {
                                                "backgroundcolor": "rgb(17,17,17)",
                                                "gridcolor": "#506784",
                                                "gridwidth": 2,
                                                "linecolor": "#506784",
                                                "showbackground": true,
                                                "ticks": "",
                                                "zerolinecolor": "#C8D4E3"
                                            },
                                            "yaxis": {
                                                "backgroundcolor": "rgb(17,17,17)",
                                                "gridcolor": "#506784",
                                                "gridwidth": 2,
                                                "linecolor": "#506784",
                                                "showbackground": true,
                                                "ticks": "",
                                                "zerolinecolor": "#C8D4E3"
                                            },
                                            "zaxis": {
                                                "backgroundcolor": "rgb(17,17,17)",
                                                "gridcolor": "#506784",
                                                "gridwidth": 2,
                                                "linecolor": "#506784",
                                                "showbackground": true,
                                                "ticks": "",
                                                "zerolinecolor": "#C8D4E3"
                                            }
                                        },
                                        "shapedefaults": {
                                            "line": {
                                                "color": "#f2f5fa"
                                            }
                                        },
                                        "sliderdefaults": {
                                            "bgcolor": "#C8D4E3",
                                            "bordercolor": "rgb(17,17,17)",
                                            "borderwidth": 1,
                                            "tickwidth": 0
                                        },
                                        "ternary": {
                                            "aaxis": {
                                                "gridcolor": "#506784",
                                                "linecolor": "#506784",
                                                "ticks": ""
                                            },
                                            "baxis": {
                                                "gridcolor": "#506784",
                                                "linecolor": "#506784",
                                                "ticks": ""
                                            },
                                            "bgcolor": "rgb(17,17,17)",
                                            "caxis": {
                                                "gridcolor": "#506784",
                                                "linecolor": "#506784",
                                                "ticks": ""
                                            }
                                        },
                                        "title": {
                                            "x": 0.05
                                        },
                                        "updatemenudefaults": {
                                            "bgcolor": "#506784",
                                            "borderwidth": 0
                                        },
                                        "xaxis": {
                                            "automargin": true,
                                            "gridcolor": "#283442",
                                            "linecolor": "#506784",
                                            "ticks": "",
                                            "title": {
                                                "standoff": 15
                                            },
                                            "zerolinecolor": "#283442",
                                            "zerolinewidth": 2
                                        },
                                        "yaxis": {
                                            "automargin": true,
                                            "gridcolor": "#283442",
                                            "linecolor": "#506784",
                                            "ticks": "",
                                            "title": {
                                                "standoff": 15
                                            },
                                            "zerolinecolor": "#283442",
                                            "zerolinewidth": 2
                                        }
                                    }
                                },
                                "title": {
                                    "text": "Pipelines Jobs results"
                                }
                            }
                        }
                    },
                    "metadata": {}
                }
            ],
            "metadata": {}
        },
        {
            "cell_type": "code",
            "execution_count": null,
            "source": [],
            "outputs": [],
            "metadata": {}
        },
        {
            "cell_type": "markdown",
            "source": [
                "# Number of fails by stage number. "
            ],
            "metadata": {}
        },
        {
            "cell_type": "code",
            "execution_count": 995,
            "source": [
                "def createBarGraphByJobStatus(variable):\n",
                "\n",
                "    jobStatusUnique = jobs[\"jobStatus\"].unique().tolist()\n",
                "    df_list = []\n",
                "    for status in jobStatusUnique:\n",
                "        jobs_total = jobs.rename(columns={'jobStatus': status})\n",
                "        total = jobs_total.groupby(by=variable)[status].count()\n",
                "        df_list.append(total)\n",
                "\n",
                "    df = pd.concat(df_list,axis=1)\n",
                "    df = df.sort_values(by=[jobStatusUnique[0]],ascending=True)\n",
                "    fig = px.bar(df, orientation='h',template=plotly_template,title=\"Number of fails by \"+ variable)\n",
                "    fig.show()\n",
                "    \n",
                "print(\" Number of jobs projectName types\")\n",
                "createBarGraphByJobStatus(\"projectName\")    \n",
                "print(\" Number of jobs stage types\")\n",
                "createBarGraphByJobStatus(\"jobStage\")\n",
                "createBarGraphByJobStatus(\"pipelineRef\")\n"
            ],
            "outputs": [
                {
                    "output_type": "stream",
                    "name": "stdout",
                    "text": [
                        " Number of jobs projectName types\n"
                    ]
                },
                {
                    "output_type": "display_data",
                    "data": {
                        "application/vnd.plotly.v1+json": {
                            "config": {
                                "plotlyServerURL": "https://plot.ly"
                            },
                            "data": [
                                {
                                    "alignmentgroup": "True",
                                    "hovertemplate": "variable=success<br>value=%{x}<br>projectName=%{y}<extra></extra>",
                                    "legendgroup": "success",
                                    "marker": {
                                        "color": "#636efa",
                                        "pattern": {
                                            "shape": ""
                                        }
                                    },
                                    "name": "success",
                                    "offsetgroup": "success",
                                    "orientation": "h",
                                    "showlegend": true,
                                    "textposition": "auto",
                                    "type": "bar",
                                    "x": [
                                        12,
                                        40,
                                        40,
                                        40,
                                        59,
                                        68,
                                        164,
                                        577
                                    ],
                                    "xaxis": "x",
                                    "y": [
                                        "pax-Italia-pot-cicd",
                                        "TRusT-FE",
                                        "ckp-api",
                                        "trust-mail-sender",
                                        "EduTelling",
                                        "API",
                                        "app-prenotazioni-api",
                                        "edutelling-api"
                                    ],
                                    "yaxis": "y"
                                },
                                {
                                    "alignmentgroup": "True",
                                    "hovertemplate": "variable=failed<br>value=%{x}<br>projectName=%{y}<extra></extra>",
                                    "legendgroup": "failed",
                                    "marker": {
                                        "color": "#EF553B",
                                        "pattern": {
                                            "shape": ""
                                        }
                                    },
                                    "name": "failed",
                                    "offsetgroup": "failed",
                                    "orientation": "h",
                                    "showlegend": true,
                                    "textposition": "auto",
                                    "type": "bar",
                                    "x": [
                                        12,
                                        40,
                                        40,
                                        40,
                                        59,
                                        68,
                                        164,
                                        577
                                    ],
                                    "xaxis": "x",
                                    "y": [
                                        "pax-Italia-pot-cicd",
                                        "TRusT-FE",
                                        "ckp-api",
                                        "trust-mail-sender",
                                        "EduTelling",
                                        "API",
                                        "app-prenotazioni-api",
                                        "edutelling-api"
                                    ],
                                    "yaxis": "y"
                                },
                                {
                                    "alignmentgroup": "True",
                                    "hovertemplate": "variable=canceled<br>value=%{x}<br>projectName=%{y}<extra></extra>",
                                    "legendgroup": "canceled",
                                    "marker": {
                                        "color": "#00cc96",
                                        "pattern": {
                                            "shape": ""
                                        }
                                    },
                                    "name": "canceled",
                                    "offsetgroup": "canceled",
                                    "orientation": "h",
                                    "showlegend": true,
                                    "textposition": "auto",
                                    "type": "bar",
                                    "x": [
                                        12,
                                        40,
                                        40,
                                        40,
                                        59,
                                        68,
                                        164,
                                        577
                                    ],
                                    "xaxis": "x",
                                    "y": [
                                        "pax-Italia-pot-cicd",
                                        "TRusT-FE",
                                        "ckp-api",
                                        "trust-mail-sender",
                                        "EduTelling",
                                        "API",
                                        "app-prenotazioni-api",
                                        "edutelling-api"
                                    ],
                                    "yaxis": "y"
                                },
                                {
                                    "alignmentgroup": "True",
                                    "hovertemplate": "variable=skipped<br>value=%{x}<br>projectName=%{y}<extra></extra>",
                                    "legendgroup": "skipped",
                                    "marker": {
                                        "color": "#ab63fa",
                                        "pattern": {
                                            "shape": ""
                                        }
                                    },
                                    "name": "skipped",
                                    "offsetgroup": "skipped",
                                    "orientation": "h",
                                    "showlegend": true,
                                    "textposition": "auto",
                                    "type": "bar",
                                    "x": [
                                        12,
                                        40,
                                        40,
                                        40,
                                        59,
                                        68,
                                        164,
                                        577
                                    ],
                                    "xaxis": "x",
                                    "y": [
                                        "pax-Italia-pot-cicd",
                                        "TRusT-FE",
                                        "ckp-api",
                                        "trust-mail-sender",
                                        "EduTelling",
                                        "API",
                                        "app-prenotazioni-api",
                                        "edutelling-api"
                                    ],
                                    "yaxis": "y"
                                }
                            ],
                            "layout": {
                                "barmode": "relative",
                                "legend": {
                                    "title": {
                                        "text": "variable"
                                    },
                                    "tracegroupgap": 0
                                },
                                "template": {
                                    "data": {
                                        "bar": [
                                            {
                                                "error_x": {
                                                    "color": "#f2f5fa"
                                                },
                                                "error_y": {
                                                    "color": "#f2f5fa"
                                                },
                                                "marker": {
                                                    "line": {
                                                        "color": "rgb(17,17,17)",
                                                        "width": 0.5
                                                    },
                                                    "pattern": {
                                                        "fillmode": "overlay",
                                                        "size": 10,
                                                        "solidity": 0.2
                                                    }
                                                },
                                                "type": "bar"
                                            }
                                        ],
                                        "barpolar": [
                                            {
                                                "marker": {
                                                    "line": {
                                                        "color": "rgb(17,17,17)",
                                                        "width": 0.5
                                                    },
                                                    "pattern": {
                                                        "fillmode": "overlay",
                                                        "size": 10,
                                                        "solidity": 0.2
                                                    }
                                                },
                                                "type": "barpolar"
                                            }
                                        ],
                                        "carpet": [
                                            {
                                                "aaxis": {
                                                    "endlinecolor": "#A2B1C6",
                                                    "gridcolor": "#506784",
                                                    "linecolor": "#506784",
                                                    "minorgridcolor": "#506784",
                                                    "startlinecolor": "#A2B1C6"
                                                },
                                                "baxis": {
                                                    "endlinecolor": "#A2B1C6",
                                                    "gridcolor": "#506784",
                                                    "linecolor": "#506784",
                                                    "minorgridcolor": "#506784",
                                                    "startlinecolor": "#A2B1C6"
                                                },
                                                "type": "carpet"
                                            }
                                        ],
                                        "choropleth": [
                                            {
                                                "colorbar": {
                                                    "outlinewidth": 0,
                                                    "ticks": ""
                                                },
                                                "type": "choropleth"
                                            }
                                        ],
                                        "contour": [
                                            {
                                                "colorbar": {
                                                    "outlinewidth": 0,
                                                    "ticks": ""
                                                },
                                                "colorscale": [
                                                    [
                                                        0,
                                                        "#0d0887"
                                                    ],
                                                    [
                                                        0.1111111111111111,
                                                        "#46039f"
                                                    ],
                                                    [
                                                        0.2222222222222222,
                                                        "#7201a8"
                                                    ],
                                                    [
                                                        0.3333333333333333,
                                                        "#9c179e"
                                                    ],
                                                    [
                                                        0.4444444444444444,
                                                        "#bd3786"
                                                    ],
                                                    [
                                                        0.5555555555555556,
                                                        "#d8576b"
                                                    ],
                                                    [
                                                        0.6666666666666666,
                                                        "#ed7953"
                                                    ],
                                                    [
                                                        0.7777777777777778,
                                                        "#fb9f3a"
                                                    ],
                                                    [
                                                        0.8888888888888888,
                                                        "#fdca26"
                                                    ],
                                                    [
                                                        1,
                                                        "#f0f921"
                                                    ]
                                                ],
                                                "type": "contour"
                                            }
                                        ],
                                        "contourcarpet": [
                                            {
                                                "colorbar": {
                                                    "outlinewidth": 0,
                                                    "ticks": ""
                                                },
                                                "type": "contourcarpet"
                                            }
                                        ],
                                        "heatmap": [
                                            {
                                                "colorbar": {
                                                    "outlinewidth": 0,
                                                    "ticks": ""
                                                },
                                                "colorscale": [
                                                    [
                                                        0,
                                                        "#0d0887"
                                                    ],
                                                    [
                                                        0.1111111111111111,
                                                        "#46039f"
                                                    ],
                                                    [
                                                        0.2222222222222222,
                                                        "#7201a8"
                                                    ],
                                                    [
                                                        0.3333333333333333,
                                                        "#9c179e"
                                                    ],
                                                    [
                                                        0.4444444444444444,
                                                        "#bd3786"
                                                    ],
                                                    [
                                                        0.5555555555555556,
                                                        "#d8576b"
                                                    ],
                                                    [
                                                        0.6666666666666666,
                                                        "#ed7953"
                                                    ],
                                                    [
                                                        0.7777777777777778,
                                                        "#fb9f3a"
                                                    ],
                                                    [
                                                        0.8888888888888888,
                                                        "#fdca26"
                                                    ],
                                                    [
                                                        1,
                                                        "#f0f921"
                                                    ]
                                                ],
                                                "type": "heatmap"
                                            }
                                        ],
                                        "heatmapgl": [
                                            {
                                                "colorbar": {
                                                    "outlinewidth": 0,
                                                    "ticks": ""
                                                },
                                                "colorscale": [
                                                    [
                                                        0,
                                                        "#0d0887"
                                                    ],
                                                    [
                                                        0.1111111111111111,
                                                        "#46039f"
                                                    ],
                                                    [
                                                        0.2222222222222222,
                                                        "#7201a8"
                                                    ],
                                                    [
                                                        0.3333333333333333,
                                                        "#9c179e"
                                                    ],
                                                    [
                                                        0.4444444444444444,
                                                        "#bd3786"
                                                    ],
                                                    [
                                                        0.5555555555555556,
                                                        "#d8576b"
                                                    ],
                                                    [
                                                        0.6666666666666666,
                                                        "#ed7953"
                                                    ],
                                                    [
                                                        0.7777777777777778,
                                                        "#fb9f3a"
                                                    ],
                                                    [
                                                        0.8888888888888888,
                                                        "#fdca26"
                                                    ],
                                                    [
                                                        1,
                                                        "#f0f921"
                                                    ]
                                                ],
                                                "type": "heatmapgl"
                                            }
                                        ],
                                        "histogram": [
                                            {
                                                "marker": {
                                                    "pattern": {
                                                        "fillmode": "overlay",
                                                        "size": 10,
                                                        "solidity": 0.2
                                                    }
                                                },
                                                "type": "histogram"
                                            }
                                        ],
                                        "histogram2d": [
                                            {
                                                "colorbar": {
                                                    "outlinewidth": 0,
                                                    "ticks": ""
                                                },
                                                "colorscale": [
                                                    [
                                                        0,
                                                        "#0d0887"
                                                    ],
                                                    [
                                                        0.1111111111111111,
                                                        "#46039f"
                                                    ],
                                                    [
                                                        0.2222222222222222,
                                                        "#7201a8"
                                                    ],
                                                    [
                                                        0.3333333333333333,
                                                        "#9c179e"
                                                    ],
                                                    [
                                                        0.4444444444444444,
                                                        "#bd3786"
                                                    ],
                                                    [
                                                        0.5555555555555556,
                                                        "#d8576b"
                                                    ],
                                                    [
                                                        0.6666666666666666,
                                                        "#ed7953"
                                                    ],
                                                    [
                                                        0.7777777777777778,
                                                        "#fb9f3a"
                                                    ],
                                                    [
                                                        0.8888888888888888,
                                                        "#fdca26"
                                                    ],
                                                    [
                                                        1,
                                                        "#f0f921"
                                                    ]
                                                ],
                                                "type": "histogram2d"
                                            }
                                        ],
                                        "histogram2dcontour": [
                                            {
                                                "colorbar": {
                                                    "outlinewidth": 0,
                                                    "ticks": ""
                                                },
                                                "colorscale": [
                                                    [
                                                        0,
                                                        "#0d0887"
                                                    ],
                                                    [
                                                        0.1111111111111111,
                                                        "#46039f"
                                                    ],
                                                    [
                                                        0.2222222222222222,
                                                        "#7201a8"
                                                    ],
                                                    [
                                                        0.3333333333333333,
                                                        "#9c179e"
                                                    ],
                                                    [
                                                        0.4444444444444444,
                                                        "#bd3786"
                                                    ],
                                                    [
                                                        0.5555555555555556,
                                                        "#d8576b"
                                                    ],
                                                    [
                                                        0.6666666666666666,
                                                        "#ed7953"
                                                    ],
                                                    [
                                                        0.7777777777777778,
                                                        "#fb9f3a"
                                                    ],
                                                    [
                                                        0.8888888888888888,
                                                        "#fdca26"
                                                    ],
                                                    [
                                                        1,
                                                        "#f0f921"
                                                    ]
                                                ],
                                                "type": "histogram2dcontour"
                                            }
                                        ],
                                        "mesh3d": [
                                            {
                                                "colorbar": {
                                                    "outlinewidth": 0,
                                                    "ticks": ""
                                                },
                                                "type": "mesh3d"
                                            }
                                        ],
                                        "parcoords": [
                                            {
                                                "line": {
                                                    "colorbar": {
                                                        "outlinewidth": 0,
                                                        "ticks": ""
                                                    }
                                                },
                                                "type": "parcoords"
                                            }
                                        ],
                                        "pie": [
                                            {
                                                "automargin": true,
                                                "type": "pie"
                                            }
                                        ],
                                        "scatter": [
                                            {
                                                "marker": {
                                                    "line": {
                                                        "color": "#283442"
                                                    }
                                                },
                                                "type": "scatter"
                                            }
                                        ],
                                        "scatter3d": [
                                            {
                                                "line": {
                                                    "colorbar": {
                                                        "outlinewidth": 0,
                                                        "ticks": ""
                                                    }
                                                },
                                                "marker": {
                                                    "colorbar": {
                                                        "outlinewidth": 0,
                                                        "ticks": ""
                                                    }
                                                },
                                                "type": "scatter3d"
                                            }
                                        ],
                                        "scattercarpet": [
                                            {
                                                "marker": {
                                                    "colorbar": {
                                                        "outlinewidth": 0,
                                                        "ticks": ""
                                                    }
                                                },
                                                "type": "scattercarpet"
                                            }
                                        ],
                                        "scattergeo": [
                                            {
                                                "marker": {
                                                    "colorbar": {
                                                        "outlinewidth": 0,
                                                        "ticks": ""
                                                    }
                                                },
                                                "type": "scattergeo"
                                            }
                                        ],
                                        "scattergl": [
                                            {
                                                "marker": {
                                                    "line": {
                                                        "color": "#283442"
                                                    }
                                                },
                                                "type": "scattergl"
                                            }
                                        ],
                                        "scattermapbox": [
                                            {
                                                "marker": {
                                                    "colorbar": {
                                                        "outlinewidth": 0,
                                                        "ticks": ""
                                                    }
                                                },
                                                "type": "scattermapbox"
                                            }
                                        ],
                                        "scatterpolar": [
                                            {
                                                "marker": {
                                                    "colorbar": {
                                                        "outlinewidth": 0,
                                                        "ticks": ""
                                                    }
                                                },
                                                "type": "scatterpolar"
                                            }
                                        ],
                                        "scatterpolargl": [
                                            {
                                                "marker": {
                                                    "colorbar": {
                                                        "outlinewidth": 0,
                                                        "ticks": ""
                                                    }
                                                },
                                                "type": "scatterpolargl"
                                            }
                                        ],
                                        "scatterternary": [
                                            {
                                                "marker": {
                                                    "colorbar": {
                                                        "outlinewidth": 0,
                                                        "ticks": ""
                                                    }
                                                },
                                                "type": "scatterternary"
                                            }
                                        ],
                                        "surface": [
                                            {
                                                "colorbar": {
                                                    "outlinewidth": 0,
                                                    "ticks": ""
                                                },
                                                "colorscale": [
                                                    [
                                                        0,
                                                        "#0d0887"
                                                    ],
                                                    [
                                                        0.1111111111111111,
                                                        "#46039f"
                                                    ],
                                                    [
                                                        0.2222222222222222,
                                                        "#7201a8"
                                                    ],
                                                    [
                                                        0.3333333333333333,
                                                        "#9c179e"
                                                    ],
                                                    [
                                                        0.4444444444444444,
                                                        "#bd3786"
                                                    ],
                                                    [
                                                        0.5555555555555556,
                                                        "#d8576b"
                                                    ],
                                                    [
                                                        0.6666666666666666,
                                                        "#ed7953"
                                                    ],
                                                    [
                                                        0.7777777777777778,
                                                        "#fb9f3a"
                                                    ],
                                                    [
                                                        0.8888888888888888,
                                                        "#fdca26"
                                                    ],
                                                    [
                                                        1,
                                                        "#f0f921"
                                                    ]
                                                ],
                                                "type": "surface"
                                            }
                                        ],
                                        "table": [
                                            {
                                                "cells": {
                                                    "fill": {
                                                        "color": "#506784"
                                                    },
                                                    "line": {
                                                        "color": "rgb(17,17,17)"
                                                    }
                                                },
                                                "header": {
                                                    "fill": {
                                                        "color": "#2a3f5f"
                                                    },
                                                    "line": {
                                                        "color": "rgb(17,17,17)"
                                                    }
                                                },
                                                "type": "table"
                                            }
                                        ]
                                    },
                                    "layout": {
                                        "annotationdefaults": {
                                            "arrowcolor": "#f2f5fa",
                                            "arrowhead": 0,
                                            "arrowwidth": 1
                                        },
                                        "autotypenumbers": "strict",
                                        "coloraxis": {
                                            "colorbar": {
                                                "outlinewidth": 0,
                                                "ticks": ""
                                            }
                                        },
                                        "colorscale": {
                                            "diverging": [
                                                [
                                                    0,
                                                    "#8e0152"
                                                ],
                                                [
                                                    0.1,
                                                    "#c51b7d"
                                                ],
                                                [
                                                    0.2,
                                                    "#de77ae"
                                                ],
                                                [
                                                    0.3,
                                                    "#f1b6da"
                                                ],
                                                [
                                                    0.4,
                                                    "#fde0ef"
                                                ],
                                                [
                                                    0.5,
                                                    "#f7f7f7"
                                                ],
                                                [
                                                    0.6,
                                                    "#e6f5d0"
                                                ],
                                                [
                                                    0.7,
                                                    "#b8e186"
                                                ],
                                                [
                                                    0.8,
                                                    "#7fbc41"
                                                ],
                                                [
                                                    0.9,
                                                    "#4d9221"
                                                ],
                                                [
                                                    1,
                                                    "#276419"
                                                ]
                                            ],
                                            "sequential": [
                                                [
                                                    0,
                                                    "#0d0887"
                                                ],
                                                [
                                                    0.1111111111111111,
                                                    "#46039f"
                                                ],
                                                [
                                                    0.2222222222222222,
                                                    "#7201a8"
                                                ],
                                                [
                                                    0.3333333333333333,
                                                    "#9c179e"
                                                ],
                                                [
                                                    0.4444444444444444,
                                                    "#bd3786"
                                                ],
                                                [
                                                    0.5555555555555556,
                                                    "#d8576b"
                                                ],
                                                [
                                                    0.6666666666666666,
                                                    "#ed7953"
                                                ],
                                                [
                                                    0.7777777777777778,
                                                    "#fb9f3a"
                                                ],
                                                [
                                                    0.8888888888888888,
                                                    "#fdca26"
                                                ],
                                                [
                                                    1,
                                                    "#f0f921"
                                                ]
                                            ],
                                            "sequentialminus": [
                                                [
                                                    0,
                                                    "#0d0887"
                                                ],
                                                [
                                                    0.1111111111111111,
                                                    "#46039f"
                                                ],
                                                [
                                                    0.2222222222222222,
                                                    "#7201a8"
                                                ],
                                                [
                                                    0.3333333333333333,
                                                    "#9c179e"
                                                ],
                                                [
                                                    0.4444444444444444,
                                                    "#bd3786"
                                                ],
                                                [
                                                    0.5555555555555556,
                                                    "#d8576b"
                                                ],
                                                [
                                                    0.6666666666666666,
                                                    "#ed7953"
                                                ],
                                                [
                                                    0.7777777777777778,
                                                    "#fb9f3a"
                                                ],
                                                [
                                                    0.8888888888888888,
                                                    "#fdca26"
                                                ],
                                                [
                                                    1,
                                                    "#f0f921"
                                                ]
                                            ]
                                        },
                                        "colorway": [
                                            "#636efa",
                                            "#EF553B",
                                            "#00cc96",
                                            "#ab63fa",
                                            "#FFA15A",
                                            "#19d3f3",
                                            "#FF6692",
                                            "#B6E880",
                                            "#FF97FF",
                                            "#FECB52"
                                        ],
                                        "font": {
                                            "color": "#f2f5fa"
                                        },
                                        "geo": {
                                            "bgcolor": "rgb(17,17,17)",
                                            "lakecolor": "rgb(17,17,17)",
                                            "landcolor": "rgb(17,17,17)",
                                            "showlakes": true,
                                            "showland": true,
                                            "subunitcolor": "#506784"
                                        },
                                        "hoverlabel": {
                                            "align": "left"
                                        },
                                        "hovermode": "closest",
                                        "mapbox": {
                                            "style": "dark"
                                        },
                                        "paper_bgcolor": "rgb(17,17,17)",
                                        "plot_bgcolor": "rgb(17,17,17)",
                                        "polar": {
                                            "angularaxis": {
                                                "gridcolor": "#506784",
                                                "linecolor": "#506784",
                                                "ticks": ""
                                            },
                                            "bgcolor": "rgb(17,17,17)",
                                            "radialaxis": {
                                                "gridcolor": "#506784",
                                                "linecolor": "#506784",
                                                "ticks": ""
                                            }
                                        },
                                        "scene": {
                                            "xaxis": {
                                                "backgroundcolor": "rgb(17,17,17)",
                                                "gridcolor": "#506784",
                                                "gridwidth": 2,
                                                "linecolor": "#506784",
                                                "showbackground": true,
                                                "ticks": "",
                                                "zerolinecolor": "#C8D4E3"
                                            },
                                            "yaxis": {
                                                "backgroundcolor": "rgb(17,17,17)",
                                                "gridcolor": "#506784",
                                                "gridwidth": 2,
                                                "linecolor": "#506784",
                                                "showbackground": true,
                                                "ticks": "",
                                                "zerolinecolor": "#C8D4E3"
                                            },
                                            "zaxis": {
                                                "backgroundcolor": "rgb(17,17,17)",
                                                "gridcolor": "#506784",
                                                "gridwidth": 2,
                                                "linecolor": "#506784",
                                                "showbackground": true,
                                                "ticks": "",
                                                "zerolinecolor": "#C8D4E3"
                                            }
                                        },
                                        "shapedefaults": {
                                            "line": {
                                                "color": "#f2f5fa"
                                            }
                                        },
                                        "sliderdefaults": {
                                            "bgcolor": "#C8D4E3",
                                            "bordercolor": "rgb(17,17,17)",
                                            "borderwidth": 1,
                                            "tickwidth": 0
                                        },
                                        "ternary": {
                                            "aaxis": {
                                                "gridcolor": "#506784",
                                                "linecolor": "#506784",
                                                "ticks": ""
                                            },
                                            "baxis": {
                                                "gridcolor": "#506784",
                                                "linecolor": "#506784",
                                                "ticks": ""
                                            },
                                            "bgcolor": "rgb(17,17,17)",
                                            "caxis": {
                                                "gridcolor": "#506784",
                                                "linecolor": "#506784",
                                                "ticks": ""
                                            }
                                        },
                                        "title": {
                                            "x": 0.05
                                        },
                                        "updatemenudefaults": {
                                            "bgcolor": "#506784",
                                            "borderwidth": 0
                                        },
                                        "xaxis": {
                                            "automargin": true,
                                            "gridcolor": "#283442",
                                            "linecolor": "#506784",
                                            "ticks": "",
                                            "title": {
                                                "standoff": 15
                                            },
                                            "zerolinecolor": "#283442",
                                            "zerolinewidth": 2
                                        },
                                        "yaxis": {
                                            "automargin": true,
                                            "gridcolor": "#283442",
                                            "linecolor": "#506784",
                                            "ticks": "",
                                            "title": {
                                                "standoff": 15
                                            },
                                            "zerolinecolor": "#283442",
                                            "zerolinewidth": 2
                                        }
                                    }
                                },
                                "title": {
                                    "text": "Number of fails by projectName"
                                },
                                "xaxis": {
                                    "anchor": "y",
                                    "domain": [
                                        0,
                                        1
                                    ],
                                    "title": {
                                        "text": "value"
                                    }
                                },
                                "yaxis": {
                                    "anchor": "x",
                                    "domain": [
                                        0,
                                        1
                                    ],
                                    "title": {
                                        "text": "projectName"
                                    }
                                }
                            }
                        }
                    },
                    "metadata": {}
                },
                {
                    "output_type": "stream",
                    "name": "stdout",
                    "text": [
                        " Number of jobs stage types\n"
                    ]
                },
                {
                    "output_type": "display_data",
                    "data": {
                        "application/vnd.plotly.v1+json": {
                            "config": {
                                "plotlyServerURL": "https://plot.ly"
                            },
                            "data": [
                                {
                                    "alignmentgroup": "True",
                                    "hovertemplate": "variable=success<br>value=%{x}<br>jobStage=%{y}<extra></extra>",
                                    "legendgroup": "success",
                                    "marker": {
                                        "color": "#636efa",
                                        "pattern": {
                                            "shape": ""
                                        }
                                    },
                                    "name": "success",
                                    "offsetgroup": "success",
                                    "orientation": "h",
                                    "showlegend": true,
                                    "textposition": "auto",
                                    "type": "bar",
                                    "x": [
                                        2,
                                        3,
                                        6,
                                        6,
                                        10,
                                        12,
                                        19,
                                        39,
                                        41,
                                        87,
                                        113,
                                        113,
                                        255,
                                        294
                                    ],
                                    "xaxis": "x",
                                    "y": [
                                        "database",
                                        "checkRancher",
                                        "check-rancher",
                                        "potPackage",
                                        "smokeTest",
                                        "cloneProject",
                                        "updateDB",
                                        "test",
                                        "smoke-tests",
                                        "build",
                                        "clean-test",
                                        "functional-test",
                                        "deploy",
                                        "package"
                                    ],
                                    "yaxis": "y"
                                },
                                {
                                    "alignmentgroup": "True",
                                    "hovertemplate": "variable=failed<br>value=%{x}<br>jobStage=%{y}<extra></extra>",
                                    "legendgroup": "failed",
                                    "marker": {
                                        "color": "#EF553B",
                                        "pattern": {
                                            "shape": ""
                                        }
                                    },
                                    "name": "failed",
                                    "offsetgroup": "failed",
                                    "orientation": "h",
                                    "showlegend": true,
                                    "textposition": "auto",
                                    "type": "bar",
                                    "x": [
                                        2,
                                        3,
                                        6,
                                        6,
                                        10,
                                        12,
                                        19,
                                        39,
                                        41,
                                        87,
                                        113,
                                        113,
                                        255,
                                        294
                                    ],
                                    "xaxis": "x",
                                    "y": [
                                        "database",
                                        "checkRancher",
                                        "check-rancher",
                                        "potPackage",
                                        "smokeTest",
                                        "cloneProject",
                                        "updateDB",
                                        "test",
                                        "smoke-tests",
                                        "build",
                                        "clean-test",
                                        "functional-test",
                                        "deploy",
                                        "package"
                                    ],
                                    "yaxis": "y"
                                },
                                {
                                    "alignmentgroup": "True",
                                    "hovertemplate": "variable=canceled<br>value=%{x}<br>jobStage=%{y}<extra></extra>",
                                    "legendgroup": "canceled",
                                    "marker": {
                                        "color": "#00cc96",
                                        "pattern": {
                                            "shape": ""
                                        }
                                    },
                                    "name": "canceled",
                                    "offsetgroup": "canceled",
                                    "orientation": "h",
                                    "showlegend": true,
                                    "textposition": "auto",
                                    "type": "bar",
                                    "x": [
                                        2,
                                        3,
                                        6,
                                        6,
                                        10,
                                        12,
                                        19,
                                        39,
                                        41,
                                        87,
                                        113,
                                        113,
                                        255,
                                        294
                                    ],
                                    "xaxis": "x",
                                    "y": [
                                        "database",
                                        "checkRancher",
                                        "check-rancher",
                                        "potPackage",
                                        "smokeTest",
                                        "cloneProject",
                                        "updateDB",
                                        "test",
                                        "smoke-tests",
                                        "build",
                                        "clean-test",
                                        "functional-test",
                                        "deploy",
                                        "package"
                                    ],
                                    "yaxis": "y"
                                },
                                {
                                    "alignmentgroup": "True",
                                    "hovertemplate": "variable=skipped<br>value=%{x}<br>jobStage=%{y}<extra></extra>",
                                    "legendgroup": "skipped",
                                    "marker": {
                                        "color": "#ab63fa",
                                        "pattern": {
                                            "shape": ""
                                        }
                                    },
                                    "name": "skipped",
                                    "offsetgroup": "skipped",
                                    "orientation": "h",
                                    "showlegend": true,
                                    "textposition": "auto",
                                    "type": "bar",
                                    "x": [
                                        2,
                                        3,
                                        6,
                                        6,
                                        10,
                                        12,
                                        19,
                                        39,
                                        41,
                                        87,
                                        113,
                                        113,
                                        255,
                                        294
                                    ],
                                    "xaxis": "x",
                                    "y": [
                                        "database",
                                        "checkRancher",
                                        "check-rancher",
                                        "potPackage",
                                        "smokeTest",
                                        "cloneProject",
                                        "updateDB",
                                        "test",
                                        "smoke-tests",
                                        "build",
                                        "clean-test",
                                        "functional-test",
                                        "deploy",
                                        "package"
                                    ],
                                    "yaxis": "y"
                                }
                            ],
                            "layout": {
                                "barmode": "relative",
                                "legend": {
                                    "title": {
                                        "text": "variable"
                                    },
                                    "tracegroupgap": 0
                                },
                                "template": {
                                    "data": {
                                        "bar": [
                                            {
                                                "error_x": {
                                                    "color": "#f2f5fa"
                                                },
                                                "error_y": {
                                                    "color": "#f2f5fa"
                                                },
                                                "marker": {
                                                    "line": {
                                                        "color": "rgb(17,17,17)",
                                                        "width": 0.5
                                                    },
                                                    "pattern": {
                                                        "fillmode": "overlay",
                                                        "size": 10,
                                                        "solidity": 0.2
                                                    }
                                                },
                                                "type": "bar"
                                            }
                                        ],
                                        "barpolar": [
                                            {
                                                "marker": {
                                                    "line": {
                                                        "color": "rgb(17,17,17)",
                                                        "width": 0.5
                                                    },
                                                    "pattern": {
                                                        "fillmode": "overlay",
                                                        "size": 10,
                                                        "solidity": 0.2
                                                    }
                                                },
                                                "type": "barpolar"
                                            }
                                        ],
                                        "carpet": [
                                            {
                                                "aaxis": {
                                                    "endlinecolor": "#A2B1C6",
                                                    "gridcolor": "#506784",
                                                    "linecolor": "#506784",
                                                    "minorgridcolor": "#506784",
                                                    "startlinecolor": "#A2B1C6"
                                                },
                                                "baxis": {
                                                    "endlinecolor": "#A2B1C6",
                                                    "gridcolor": "#506784",
                                                    "linecolor": "#506784",
                                                    "minorgridcolor": "#506784",
                                                    "startlinecolor": "#A2B1C6"
                                                },
                                                "type": "carpet"
                                            }
                                        ],
                                        "choropleth": [
                                            {
                                                "colorbar": {
                                                    "outlinewidth": 0,
                                                    "ticks": ""
                                                },
                                                "type": "choropleth"
                                            }
                                        ],
                                        "contour": [
                                            {
                                                "colorbar": {
                                                    "outlinewidth": 0,
                                                    "ticks": ""
                                                },
                                                "colorscale": [
                                                    [
                                                        0,
                                                        "#0d0887"
                                                    ],
                                                    [
                                                        0.1111111111111111,
                                                        "#46039f"
                                                    ],
                                                    [
                                                        0.2222222222222222,
                                                        "#7201a8"
                                                    ],
                                                    [
                                                        0.3333333333333333,
                                                        "#9c179e"
                                                    ],
                                                    [
                                                        0.4444444444444444,
                                                        "#bd3786"
                                                    ],
                                                    [
                                                        0.5555555555555556,
                                                        "#d8576b"
                                                    ],
                                                    [
                                                        0.6666666666666666,
                                                        "#ed7953"
                                                    ],
                                                    [
                                                        0.7777777777777778,
                                                        "#fb9f3a"
                                                    ],
                                                    [
                                                        0.8888888888888888,
                                                        "#fdca26"
                                                    ],
                                                    [
                                                        1,
                                                        "#f0f921"
                                                    ]
                                                ],
                                                "type": "contour"
                                            }
                                        ],
                                        "contourcarpet": [
                                            {
                                                "colorbar": {
                                                    "outlinewidth": 0,
                                                    "ticks": ""
                                                },
                                                "type": "contourcarpet"
                                            }
                                        ],
                                        "heatmap": [
                                            {
                                                "colorbar": {
                                                    "outlinewidth": 0,
                                                    "ticks": ""
                                                },
                                                "colorscale": [
                                                    [
                                                        0,
                                                        "#0d0887"
                                                    ],
                                                    [
                                                        0.1111111111111111,
                                                        "#46039f"
                                                    ],
                                                    [
                                                        0.2222222222222222,
                                                        "#7201a8"
                                                    ],
                                                    [
                                                        0.3333333333333333,
                                                        "#9c179e"
                                                    ],
                                                    [
                                                        0.4444444444444444,
                                                        "#bd3786"
                                                    ],
                                                    [
                                                        0.5555555555555556,
                                                        "#d8576b"
                                                    ],
                                                    [
                                                        0.6666666666666666,
                                                        "#ed7953"
                                                    ],
                                                    [
                                                        0.7777777777777778,
                                                        "#fb9f3a"
                                                    ],
                                                    [
                                                        0.8888888888888888,
                                                        "#fdca26"
                                                    ],
                                                    [
                                                        1,
                                                        "#f0f921"
                                                    ]
                                                ],
                                                "type": "heatmap"
                                            }
                                        ],
                                        "heatmapgl": [
                                            {
                                                "colorbar": {
                                                    "outlinewidth": 0,
                                                    "ticks": ""
                                                },
                                                "colorscale": [
                                                    [
                                                        0,
                                                        "#0d0887"
                                                    ],
                                                    [
                                                        0.1111111111111111,
                                                        "#46039f"
                                                    ],
                                                    [
                                                        0.2222222222222222,
                                                        "#7201a8"
                                                    ],
                                                    [
                                                        0.3333333333333333,
                                                        "#9c179e"
                                                    ],
                                                    [
                                                        0.4444444444444444,
                                                        "#bd3786"
                                                    ],
                                                    [
                                                        0.5555555555555556,
                                                        "#d8576b"
                                                    ],
                                                    [
                                                        0.6666666666666666,
                                                        "#ed7953"
                                                    ],
                                                    [
                                                        0.7777777777777778,
                                                        "#fb9f3a"
                                                    ],
                                                    [
                                                        0.8888888888888888,
                                                        "#fdca26"
                                                    ],
                                                    [
                                                        1,
                                                        "#f0f921"
                                                    ]
                                                ],
                                                "type": "heatmapgl"
                                            }
                                        ],
                                        "histogram": [
                                            {
                                                "marker": {
                                                    "pattern": {
                                                        "fillmode": "overlay",
                                                        "size": 10,
                                                        "solidity": 0.2
                                                    }
                                                },
                                                "type": "histogram"
                                            }
                                        ],
                                        "histogram2d": [
                                            {
                                                "colorbar": {
                                                    "outlinewidth": 0,
                                                    "ticks": ""
                                                },
                                                "colorscale": [
                                                    [
                                                        0,
                                                        "#0d0887"
                                                    ],
                                                    [
                                                        0.1111111111111111,
                                                        "#46039f"
                                                    ],
                                                    [
                                                        0.2222222222222222,
                                                        "#7201a8"
                                                    ],
                                                    [
                                                        0.3333333333333333,
                                                        "#9c179e"
                                                    ],
                                                    [
                                                        0.4444444444444444,
                                                        "#bd3786"
                                                    ],
                                                    [
                                                        0.5555555555555556,
                                                        "#d8576b"
                                                    ],
                                                    [
                                                        0.6666666666666666,
                                                        "#ed7953"
                                                    ],
                                                    [
                                                        0.7777777777777778,
                                                        "#fb9f3a"
                                                    ],
                                                    [
                                                        0.8888888888888888,
                                                        "#fdca26"
                                                    ],
                                                    [
                                                        1,
                                                        "#f0f921"
                                                    ]
                                                ],
                                                "type": "histogram2d"
                                            }
                                        ],
                                        "histogram2dcontour": [
                                            {
                                                "colorbar": {
                                                    "outlinewidth": 0,
                                                    "ticks": ""
                                                },
                                                "colorscale": [
                                                    [
                                                        0,
                                                        "#0d0887"
                                                    ],
                                                    [
                                                        0.1111111111111111,
                                                        "#46039f"
                                                    ],
                                                    [
                                                        0.2222222222222222,
                                                        "#7201a8"
                                                    ],
                                                    [
                                                        0.3333333333333333,
                                                        "#9c179e"
                                                    ],
                                                    [
                                                        0.4444444444444444,
                                                        "#bd3786"
                                                    ],
                                                    [
                                                        0.5555555555555556,
                                                        "#d8576b"
                                                    ],
                                                    [
                                                        0.6666666666666666,
                                                        "#ed7953"
                                                    ],
                                                    [
                                                        0.7777777777777778,
                                                        "#fb9f3a"
                                                    ],
                                                    [
                                                        0.8888888888888888,
                                                        "#fdca26"
                                                    ],
                                                    [
                                                        1,
                                                        "#f0f921"
                                                    ]
                                                ],
                                                "type": "histogram2dcontour"
                                            }
                                        ],
                                        "mesh3d": [
                                            {
                                                "colorbar": {
                                                    "outlinewidth": 0,
                                                    "ticks": ""
                                                },
                                                "type": "mesh3d"
                                            }
                                        ],
                                        "parcoords": [
                                            {
                                                "line": {
                                                    "colorbar": {
                                                        "outlinewidth": 0,
                                                        "ticks": ""
                                                    }
                                                },
                                                "type": "parcoords"
                                            }
                                        ],
                                        "pie": [
                                            {
                                                "automargin": true,
                                                "type": "pie"
                                            }
                                        ],
                                        "scatter": [
                                            {
                                                "marker": {
                                                    "line": {
                                                        "color": "#283442"
                                                    }
                                                },
                                                "type": "scatter"
                                            }
                                        ],
                                        "scatter3d": [
                                            {
                                                "line": {
                                                    "colorbar": {
                                                        "outlinewidth": 0,
                                                        "ticks": ""
                                                    }
                                                },
                                                "marker": {
                                                    "colorbar": {
                                                        "outlinewidth": 0,
                                                        "ticks": ""
                                                    }
                                                },
                                                "type": "scatter3d"
                                            }
                                        ],
                                        "scattercarpet": [
                                            {
                                                "marker": {
                                                    "colorbar": {
                                                        "outlinewidth": 0,
                                                        "ticks": ""
                                                    }
                                                },
                                                "type": "scattercarpet"
                                            }
                                        ],
                                        "scattergeo": [
                                            {
                                                "marker": {
                                                    "colorbar": {
                                                        "outlinewidth": 0,
                                                        "ticks": ""
                                                    }
                                                },
                                                "type": "scattergeo"
                                            }
                                        ],
                                        "scattergl": [
                                            {
                                                "marker": {
                                                    "line": {
                                                        "color": "#283442"
                                                    }
                                                },
                                                "type": "scattergl"
                                            }
                                        ],
                                        "scattermapbox": [
                                            {
                                                "marker": {
                                                    "colorbar": {
                                                        "outlinewidth": 0,
                                                        "ticks": ""
                                                    }
                                                },
                                                "type": "scattermapbox"
                                            }
                                        ],
                                        "scatterpolar": [
                                            {
                                                "marker": {
                                                    "colorbar": {
                                                        "outlinewidth": 0,
                                                        "ticks": ""
                                                    }
                                                },
                                                "type": "scatterpolar"
                                            }
                                        ],
                                        "scatterpolargl": [
                                            {
                                                "marker": {
                                                    "colorbar": {
                                                        "outlinewidth": 0,
                                                        "ticks": ""
                                                    }
                                                },
                                                "type": "scatterpolargl"
                                            }
                                        ],
                                        "scatterternary": [
                                            {
                                                "marker": {
                                                    "colorbar": {
                                                        "outlinewidth": 0,
                                                        "ticks": ""
                                                    }
                                                },
                                                "type": "scatterternary"
                                            }
                                        ],
                                        "surface": [
                                            {
                                                "colorbar": {
                                                    "outlinewidth": 0,
                                                    "ticks": ""
                                                },
                                                "colorscale": [
                                                    [
                                                        0,
                                                        "#0d0887"
                                                    ],
                                                    [
                                                        0.1111111111111111,
                                                        "#46039f"
                                                    ],
                                                    [
                                                        0.2222222222222222,
                                                        "#7201a8"
                                                    ],
                                                    [
                                                        0.3333333333333333,
                                                        "#9c179e"
                                                    ],
                                                    [
                                                        0.4444444444444444,
                                                        "#bd3786"
                                                    ],
                                                    [
                                                        0.5555555555555556,
                                                        "#d8576b"
                                                    ],
                                                    [
                                                        0.6666666666666666,
                                                        "#ed7953"
                                                    ],
                                                    [
                                                        0.7777777777777778,
                                                        "#fb9f3a"
                                                    ],
                                                    [
                                                        0.8888888888888888,
                                                        "#fdca26"
                                                    ],
                                                    [
                                                        1,
                                                        "#f0f921"
                                                    ]
                                                ],
                                                "type": "surface"
                                            }
                                        ],
                                        "table": [
                                            {
                                                "cells": {
                                                    "fill": {
                                                        "color": "#506784"
                                                    },
                                                    "line": {
                                                        "color": "rgb(17,17,17)"
                                                    }
                                                },
                                                "header": {
                                                    "fill": {
                                                        "color": "#2a3f5f"
                                                    },
                                                    "line": {
                                                        "color": "rgb(17,17,17)"
                                                    }
                                                },
                                                "type": "table"
                                            }
                                        ]
                                    },
                                    "layout": {
                                        "annotationdefaults": {
                                            "arrowcolor": "#f2f5fa",
                                            "arrowhead": 0,
                                            "arrowwidth": 1
                                        },
                                        "autotypenumbers": "strict",
                                        "coloraxis": {
                                            "colorbar": {
                                                "outlinewidth": 0,
                                                "ticks": ""
                                            }
                                        },
                                        "colorscale": {
                                            "diverging": [
                                                [
                                                    0,
                                                    "#8e0152"
                                                ],
                                                [
                                                    0.1,
                                                    "#c51b7d"
                                                ],
                                                [
                                                    0.2,
                                                    "#de77ae"
                                                ],
                                                [
                                                    0.3,
                                                    "#f1b6da"
                                                ],
                                                [
                                                    0.4,
                                                    "#fde0ef"
                                                ],
                                                [
                                                    0.5,
                                                    "#f7f7f7"
                                                ],
                                                [
                                                    0.6,
                                                    "#e6f5d0"
                                                ],
                                                [
                                                    0.7,
                                                    "#b8e186"
                                                ],
                                                [
                                                    0.8,
                                                    "#7fbc41"
                                                ],
                                                [
                                                    0.9,
                                                    "#4d9221"
                                                ],
                                                [
                                                    1,
                                                    "#276419"
                                                ]
                                            ],
                                            "sequential": [
                                                [
                                                    0,
                                                    "#0d0887"
                                                ],
                                                [
                                                    0.1111111111111111,
                                                    "#46039f"
                                                ],
                                                [
                                                    0.2222222222222222,
                                                    "#7201a8"
                                                ],
                                                [
                                                    0.3333333333333333,
                                                    "#9c179e"
                                                ],
                                                [
                                                    0.4444444444444444,
                                                    "#bd3786"
                                                ],
                                                [
                                                    0.5555555555555556,
                                                    "#d8576b"
                                                ],
                                                [
                                                    0.6666666666666666,
                                                    "#ed7953"
                                                ],
                                                [
                                                    0.7777777777777778,
                                                    "#fb9f3a"
                                                ],
                                                [
                                                    0.8888888888888888,
                                                    "#fdca26"
                                                ],
                                                [
                                                    1,
                                                    "#f0f921"
                                                ]
                                            ],
                                            "sequentialminus": [
                                                [
                                                    0,
                                                    "#0d0887"
                                                ],
                                                [
                                                    0.1111111111111111,
                                                    "#46039f"
                                                ],
                                                [
                                                    0.2222222222222222,
                                                    "#7201a8"
                                                ],
                                                [
                                                    0.3333333333333333,
                                                    "#9c179e"
                                                ],
                                                [
                                                    0.4444444444444444,
                                                    "#bd3786"
                                                ],
                                                [
                                                    0.5555555555555556,
                                                    "#d8576b"
                                                ],
                                                [
                                                    0.6666666666666666,
                                                    "#ed7953"
                                                ],
                                                [
                                                    0.7777777777777778,
                                                    "#fb9f3a"
                                                ],
                                                [
                                                    0.8888888888888888,
                                                    "#fdca26"
                                                ],
                                                [
                                                    1,
                                                    "#f0f921"
                                                ]
                                            ]
                                        },
                                        "colorway": [
                                            "#636efa",
                                            "#EF553B",
                                            "#00cc96",
                                            "#ab63fa",
                                            "#FFA15A",
                                            "#19d3f3",
                                            "#FF6692",
                                            "#B6E880",
                                            "#FF97FF",
                                            "#FECB52"
                                        ],
                                        "font": {
                                            "color": "#f2f5fa"
                                        },
                                        "geo": {
                                            "bgcolor": "rgb(17,17,17)",
                                            "lakecolor": "rgb(17,17,17)",
                                            "landcolor": "rgb(17,17,17)",
                                            "showlakes": true,
                                            "showland": true,
                                            "subunitcolor": "#506784"
                                        },
                                        "hoverlabel": {
                                            "align": "left"
                                        },
                                        "hovermode": "closest",
                                        "mapbox": {
                                            "style": "dark"
                                        },
                                        "paper_bgcolor": "rgb(17,17,17)",
                                        "plot_bgcolor": "rgb(17,17,17)",
                                        "polar": {
                                            "angularaxis": {
                                                "gridcolor": "#506784",
                                                "linecolor": "#506784",
                                                "ticks": ""
                                            },
                                            "bgcolor": "rgb(17,17,17)",
                                            "radialaxis": {
                                                "gridcolor": "#506784",
                                                "linecolor": "#506784",
                                                "ticks": ""
                                            }
                                        },
                                        "scene": {
                                            "xaxis": {
                                                "backgroundcolor": "rgb(17,17,17)",
                                                "gridcolor": "#506784",
                                                "gridwidth": 2,
                                                "linecolor": "#506784",
                                                "showbackground": true,
                                                "ticks": "",
                                                "zerolinecolor": "#C8D4E3"
                                            },
                                            "yaxis": {
                                                "backgroundcolor": "rgb(17,17,17)",
                                                "gridcolor": "#506784",
                                                "gridwidth": 2,
                                                "linecolor": "#506784",
                                                "showbackground": true,
                                                "ticks": "",
                                                "zerolinecolor": "#C8D4E3"
                                            },
                                            "zaxis": {
                                                "backgroundcolor": "rgb(17,17,17)",
                                                "gridcolor": "#506784",
                                                "gridwidth": 2,
                                                "linecolor": "#506784",
                                                "showbackground": true,
                                                "ticks": "",
                                                "zerolinecolor": "#C8D4E3"
                                            }
                                        },
                                        "shapedefaults": {
                                            "line": {
                                                "color": "#f2f5fa"
                                            }
                                        },
                                        "sliderdefaults": {
                                            "bgcolor": "#C8D4E3",
                                            "bordercolor": "rgb(17,17,17)",
                                            "borderwidth": 1,
                                            "tickwidth": 0
                                        },
                                        "ternary": {
                                            "aaxis": {
                                                "gridcolor": "#506784",
                                                "linecolor": "#506784",
                                                "ticks": ""
                                            },
                                            "baxis": {
                                                "gridcolor": "#506784",
                                                "linecolor": "#506784",
                                                "ticks": ""
                                            },
                                            "bgcolor": "rgb(17,17,17)",
                                            "caxis": {
                                                "gridcolor": "#506784",
                                                "linecolor": "#506784",
                                                "ticks": ""
                                            }
                                        },
                                        "title": {
                                            "x": 0.05
                                        },
                                        "updatemenudefaults": {
                                            "bgcolor": "#506784",
                                            "borderwidth": 0
                                        },
                                        "xaxis": {
                                            "automargin": true,
                                            "gridcolor": "#283442",
                                            "linecolor": "#506784",
                                            "ticks": "",
                                            "title": {
                                                "standoff": 15
                                            },
                                            "zerolinecolor": "#283442",
                                            "zerolinewidth": 2
                                        },
                                        "yaxis": {
                                            "automargin": true,
                                            "gridcolor": "#283442",
                                            "linecolor": "#506784",
                                            "ticks": "",
                                            "title": {
                                                "standoff": 15
                                            },
                                            "zerolinecolor": "#283442",
                                            "zerolinewidth": 2
                                        }
                                    }
                                },
                                "title": {
                                    "text": "Number of fails by jobStage"
                                },
                                "xaxis": {
                                    "anchor": "y",
                                    "domain": [
                                        0,
                                        1
                                    ],
                                    "title": {
                                        "text": "value"
                                    }
                                },
                                "yaxis": {
                                    "anchor": "x",
                                    "domain": [
                                        0,
                                        1
                                    ],
                                    "title": {
                                        "text": "jobStage"
                                    }
                                }
                            }
                        }
                    },
                    "metadata": {}
                },
                {
                    "output_type": "display_data",
                    "data": {
                        "application/vnd.plotly.v1+json": {
                            "config": {
                                "plotlyServerURL": "https://plot.ly"
                            },
                            "data": [
                                {
                                    "alignmentgroup": "True",
                                    "hovertemplate": "variable=success<br>value=%{x}<br>pipelineRef=%{y}<extra></extra>",
                                    "legendgroup": "success",
                                    "marker": {
                                        "color": "#636efa",
                                        "pattern": {
                                            "shape": ""
                                        }
                                    },
                                    "name": "success",
                                    "offsetgroup": "success",
                                    "orientation": "h",
                                    "showlegend": true,
                                    "textposition": "auto",
                                    "type": "bar",
                                    "x": [
                                        2,
                                        6,
                                        8,
                                        10,
                                        10,
                                        14,
                                        15,
                                        18,
                                        18,
                                        20,
                                        24,
                                        31,
                                        41,
                                        62,
                                        721
                                    ],
                                    "xaxis": "x",
                                    "y": [
                                        "step1-reservations-group",
                                        "cr4-H2-2021",
                                        "itkius",
                                        "itkius-master",
                                        "test",
                                        "deployTest",
                                        "dev-CR-H1-2021",
                                        "demo",
                                        "feature/CU-pdf11j-CR1-2-3-H2-2021-be-modifiche-reports",
                                        "sidip",
                                        "master",
                                        "dev",
                                        "jac",
                                        "staging",
                                        "develop"
                                    ],
                                    "yaxis": "y"
                                },
                                {
                                    "alignmentgroup": "True",
                                    "hovertemplate": "variable=failed<br>value=%{x}<br>pipelineRef=%{y}<extra></extra>",
                                    "legendgroup": "failed",
                                    "marker": {
                                        "color": "#EF553B",
                                        "pattern": {
                                            "shape": ""
                                        }
                                    },
                                    "name": "failed",
                                    "offsetgroup": "failed",
                                    "orientation": "h",
                                    "showlegend": true,
                                    "textposition": "auto",
                                    "type": "bar",
                                    "x": [
                                        2,
                                        6,
                                        8,
                                        10,
                                        10,
                                        14,
                                        15,
                                        18,
                                        18,
                                        20,
                                        24,
                                        31,
                                        41,
                                        62,
                                        721
                                    ],
                                    "xaxis": "x",
                                    "y": [
                                        "step1-reservations-group",
                                        "cr4-H2-2021",
                                        "itkius",
                                        "itkius-master",
                                        "test",
                                        "deployTest",
                                        "dev-CR-H1-2021",
                                        "demo",
                                        "feature/CU-pdf11j-CR1-2-3-H2-2021-be-modifiche-reports",
                                        "sidip",
                                        "master",
                                        "dev",
                                        "jac",
                                        "staging",
                                        "develop"
                                    ],
                                    "yaxis": "y"
                                },
                                {
                                    "alignmentgroup": "True",
                                    "hovertemplate": "variable=canceled<br>value=%{x}<br>pipelineRef=%{y}<extra></extra>",
                                    "legendgroup": "canceled",
                                    "marker": {
                                        "color": "#00cc96",
                                        "pattern": {
                                            "shape": ""
                                        }
                                    },
                                    "name": "canceled",
                                    "offsetgroup": "canceled",
                                    "orientation": "h",
                                    "showlegend": true,
                                    "textposition": "auto",
                                    "type": "bar",
                                    "x": [
                                        2,
                                        6,
                                        8,
                                        10,
                                        10,
                                        14,
                                        15,
                                        18,
                                        18,
                                        20,
                                        24,
                                        31,
                                        41,
                                        62,
                                        721
                                    ],
                                    "xaxis": "x",
                                    "y": [
                                        "step1-reservations-group",
                                        "cr4-H2-2021",
                                        "itkius",
                                        "itkius-master",
                                        "test",
                                        "deployTest",
                                        "dev-CR-H1-2021",
                                        "demo",
                                        "feature/CU-pdf11j-CR1-2-3-H2-2021-be-modifiche-reports",
                                        "sidip",
                                        "master",
                                        "dev",
                                        "jac",
                                        "staging",
                                        "develop"
                                    ],
                                    "yaxis": "y"
                                },
                                {
                                    "alignmentgroup": "True",
                                    "hovertemplate": "variable=skipped<br>value=%{x}<br>pipelineRef=%{y}<extra></extra>",
                                    "legendgroup": "skipped",
                                    "marker": {
                                        "color": "#ab63fa",
                                        "pattern": {
                                            "shape": ""
                                        }
                                    },
                                    "name": "skipped",
                                    "offsetgroup": "skipped",
                                    "orientation": "h",
                                    "showlegend": true,
                                    "textposition": "auto",
                                    "type": "bar",
                                    "x": [
                                        2,
                                        6,
                                        8,
                                        10,
                                        10,
                                        14,
                                        15,
                                        18,
                                        18,
                                        20,
                                        24,
                                        31,
                                        41,
                                        62,
                                        721
                                    ],
                                    "xaxis": "x",
                                    "y": [
                                        "step1-reservations-group",
                                        "cr4-H2-2021",
                                        "itkius",
                                        "itkius-master",
                                        "test",
                                        "deployTest",
                                        "dev-CR-H1-2021",
                                        "demo",
                                        "feature/CU-pdf11j-CR1-2-3-H2-2021-be-modifiche-reports",
                                        "sidip",
                                        "master",
                                        "dev",
                                        "jac",
                                        "staging",
                                        "develop"
                                    ],
                                    "yaxis": "y"
                                }
                            ],
                            "layout": {
                                "barmode": "relative",
                                "legend": {
                                    "title": {
                                        "text": "variable"
                                    },
                                    "tracegroupgap": 0
                                },
                                "template": {
                                    "data": {
                                        "bar": [
                                            {
                                                "error_x": {
                                                    "color": "#f2f5fa"
                                                },
                                                "error_y": {
                                                    "color": "#f2f5fa"
                                                },
                                                "marker": {
                                                    "line": {
                                                        "color": "rgb(17,17,17)",
                                                        "width": 0.5
                                                    },
                                                    "pattern": {
                                                        "fillmode": "overlay",
                                                        "size": 10,
                                                        "solidity": 0.2
                                                    }
                                                },
                                                "type": "bar"
                                            }
                                        ],
                                        "barpolar": [
                                            {
                                                "marker": {
                                                    "line": {
                                                        "color": "rgb(17,17,17)",
                                                        "width": 0.5
                                                    },
                                                    "pattern": {
                                                        "fillmode": "overlay",
                                                        "size": 10,
                                                        "solidity": 0.2
                                                    }
                                                },
                                                "type": "barpolar"
                                            }
                                        ],
                                        "carpet": [
                                            {
                                                "aaxis": {
                                                    "endlinecolor": "#A2B1C6",
                                                    "gridcolor": "#506784",
                                                    "linecolor": "#506784",
                                                    "minorgridcolor": "#506784",
                                                    "startlinecolor": "#A2B1C6"
                                                },
                                                "baxis": {
                                                    "endlinecolor": "#A2B1C6",
                                                    "gridcolor": "#506784",
                                                    "linecolor": "#506784",
                                                    "minorgridcolor": "#506784",
                                                    "startlinecolor": "#A2B1C6"
                                                },
                                                "type": "carpet"
                                            }
                                        ],
                                        "choropleth": [
                                            {
                                                "colorbar": {
                                                    "outlinewidth": 0,
                                                    "ticks": ""
                                                },
                                                "type": "choropleth"
                                            }
                                        ],
                                        "contour": [
                                            {
                                                "colorbar": {
                                                    "outlinewidth": 0,
                                                    "ticks": ""
                                                },
                                                "colorscale": [
                                                    [
                                                        0,
                                                        "#0d0887"
                                                    ],
                                                    [
                                                        0.1111111111111111,
                                                        "#46039f"
                                                    ],
                                                    [
                                                        0.2222222222222222,
                                                        "#7201a8"
                                                    ],
                                                    [
                                                        0.3333333333333333,
                                                        "#9c179e"
                                                    ],
                                                    [
                                                        0.4444444444444444,
                                                        "#bd3786"
                                                    ],
                                                    [
                                                        0.5555555555555556,
                                                        "#d8576b"
                                                    ],
                                                    [
                                                        0.6666666666666666,
                                                        "#ed7953"
                                                    ],
                                                    [
                                                        0.7777777777777778,
                                                        "#fb9f3a"
                                                    ],
                                                    [
                                                        0.8888888888888888,
                                                        "#fdca26"
                                                    ],
                                                    [
                                                        1,
                                                        "#f0f921"
                                                    ]
                                                ],
                                                "type": "contour"
                                            }
                                        ],
                                        "contourcarpet": [
                                            {
                                                "colorbar": {
                                                    "outlinewidth": 0,
                                                    "ticks": ""
                                                },
                                                "type": "contourcarpet"
                                            }
                                        ],
                                        "heatmap": [
                                            {
                                                "colorbar": {
                                                    "outlinewidth": 0,
                                                    "ticks": ""
                                                },
                                                "colorscale": [
                                                    [
                                                        0,
                                                        "#0d0887"
                                                    ],
                                                    [
                                                        0.1111111111111111,
                                                        "#46039f"
                                                    ],
                                                    [
                                                        0.2222222222222222,
                                                        "#7201a8"
                                                    ],
                                                    [
                                                        0.3333333333333333,
                                                        "#9c179e"
                                                    ],
                                                    [
                                                        0.4444444444444444,
                                                        "#bd3786"
                                                    ],
                                                    [
                                                        0.5555555555555556,
                                                        "#d8576b"
                                                    ],
                                                    [
                                                        0.6666666666666666,
                                                        "#ed7953"
                                                    ],
                                                    [
                                                        0.7777777777777778,
                                                        "#fb9f3a"
                                                    ],
                                                    [
                                                        0.8888888888888888,
                                                        "#fdca26"
                                                    ],
                                                    [
                                                        1,
                                                        "#f0f921"
                                                    ]
                                                ],
                                                "type": "heatmap"
                                            }
                                        ],
                                        "heatmapgl": [
                                            {
                                                "colorbar": {
                                                    "outlinewidth": 0,
                                                    "ticks": ""
                                                },
                                                "colorscale": [
                                                    [
                                                        0,
                                                        "#0d0887"
                                                    ],
                                                    [
                                                        0.1111111111111111,
                                                        "#46039f"
                                                    ],
                                                    [
                                                        0.2222222222222222,
                                                        "#7201a8"
                                                    ],
                                                    [
                                                        0.3333333333333333,
                                                        "#9c179e"
                                                    ],
                                                    [
                                                        0.4444444444444444,
                                                        "#bd3786"
                                                    ],
                                                    [
                                                        0.5555555555555556,
                                                        "#d8576b"
                                                    ],
                                                    [
                                                        0.6666666666666666,
                                                        "#ed7953"
                                                    ],
                                                    [
                                                        0.7777777777777778,
                                                        "#fb9f3a"
                                                    ],
                                                    [
                                                        0.8888888888888888,
                                                        "#fdca26"
                                                    ],
                                                    [
                                                        1,
                                                        "#f0f921"
                                                    ]
                                                ],
                                                "type": "heatmapgl"
                                            }
                                        ],
                                        "histogram": [
                                            {
                                                "marker": {
                                                    "pattern": {
                                                        "fillmode": "overlay",
                                                        "size": 10,
                                                        "solidity": 0.2
                                                    }
                                                },
                                                "type": "histogram"
                                            }
                                        ],
                                        "histogram2d": [
                                            {
                                                "colorbar": {
                                                    "outlinewidth": 0,
                                                    "ticks": ""
                                                },
                                                "colorscale": [
                                                    [
                                                        0,
                                                        "#0d0887"
                                                    ],
                                                    [
                                                        0.1111111111111111,
                                                        "#46039f"
                                                    ],
                                                    [
                                                        0.2222222222222222,
                                                        "#7201a8"
                                                    ],
                                                    [
                                                        0.3333333333333333,
                                                        "#9c179e"
                                                    ],
                                                    [
                                                        0.4444444444444444,
                                                        "#bd3786"
                                                    ],
                                                    [
                                                        0.5555555555555556,
                                                        "#d8576b"
                                                    ],
                                                    [
                                                        0.6666666666666666,
                                                        "#ed7953"
                                                    ],
                                                    [
                                                        0.7777777777777778,
                                                        "#fb9f3a"
                                                    ],
                                                    [
                                                        0.8888888888888888,
                                                        "#fdca26"
                                                    ],
                                                    [
                                                        1,
                                                        "#f0f921"
                                                    ]
                                                ],
                                                "type": "histogram2d"
                                            }
                                        ],
                                        "histogram2dcontour": [
                                            {
                                                "colorbar": {
                                                    "outlinewidth": 0,
                                                    "ticks": ""
                                                },
                                                "colorscale": [
                                                    [
                                                        0,
                                                        "#0d0887"
                                                    ],
                                                    [
                                                        0.1111111111111111,
                                                        "#46039f"
                                                    ],
                                                    [
                                                        0.2222222222222222,
                                                        "#7201a8"
                                                    ],
                                                    [
                                                        0.3333333333333333,
                                                        "#9c179e"
                                                    ],
                                                    [
                                                        0.4444444444444444,
                                                        "#bd3786"
                                                    ],
                                                    [
                                                        0.5555555555555556,
                                                        "#d8576b"
                                                    ],
                                                    [
                                                        0.6666666666666666,
                                                        "#ed7953"
                                                    ],
                                                    [
                                                        0.7777777777777778,
                                                        "#fb9f3a"
                                                    ],
                                                    [
                                                        0.8888888888888888,
                                                        "#fdca26"
                                                    ],
                                                    [
                                                        1,
                                                        "#f0f921"
                                                    ]
                                                ],
                                                "type": "histogram2dcontour"
                                            }
                                        ],
                                        "mesh3d": [
                                            {
                                                "colorbar": {
                                                    "outlinewidth": 0,
                                                    "ticks": ""
                                                },
                                                "type": "mesh3d"
                                            }
                                        ],
                                        "parcoords": [
                                            {
                                                "line": {
                                                    "colorbar": {
                                                        "outlinewidth": 0,
                                                        "ticks": ""
                                                    }
                                                },
                                                "type": "parcoords"
                                            }
                                        ],
                                        "pie": [
                                            {
                                                "automargin": true,
                                                "type": "pie"
                                            }
                                        ],
                                        "scatter": [
                                            {
                                                "marker": {
                                                    "line": {
                                                        "color": "#283442"
                                                    }
                                                },
                                                "type": "scatter"
                                            }
                                        ],
                                        "scatter3d": [
                                            {
                                                "line": {
                                                    "colorbar": {
                                                        "outlinewidth": 0,
                                                        "ticks": ""
                                                    }
                                                },
                                                "marker": {
                                                    "colorbar": {
                                                        "outlinewidth": 0,
                                                        "ticks": ""
                                                    }
                                                },
                                                "type": "scatter3d"
                                            }
                                        ],
                                        "scattercarpet": [
                                            {
                                                "marker": {
                                                    "colorbar": {
                                                        "outlinewidth": 0,
                                                        "ticks": ""
                                                    }
                                                },
                                                "type": "scattercarpet"
                                            }
                                        ],
                                        "scattergeo": [
                                            {
                                                "marker": {
                                                    "colorbar": {
                                                        "outlinewidth": 0,
                                                        "ticks": ""
                                                    }
                                                },
                                                "type": "scattergeo"
                                            }
                                        ],
                                        "scattergl": [
                                            {
                                                "marker": {
                                                    "line": {
                                                        "color": "#283442"
                                                    }
                                                },
                                                "type": "scattergl"
                                            }
                                        ],
                                        "scattermapbox": [
                                            {
                                                "marker": {
                                                    "colorbar": {
                                                        "outlinewidth": 0,
                                                        "ticks": ""
                                                    }
                                                },
                                                "type": "scattermapbox"
                                            }
                                        ],
                                        "scatterpolar": [
                                            {
                                                "marker": {
                                                    "colorbar": {
                                                        "outlinewidth": 0,
                                                        "ticks": ""
                                                    }
                                                },
                                                "type": "scatterpolar"
                                            }
                                        ],
                                        "scatterpolargl": [
                                            {
                                                "marker": {
                                                    "colorbar": {
                                                        "outlinewidth": 0,
                                                        "ticks": ""
                                                    }
                                                },
                                                "type": "scatterpolargl"
                                            }
                                        ],
                                        "scatterternary": [
                                            {
                                                "marker": {
                                                    "colorbar": {
                                                        "outlinewidth": 0,
                                                        "ticks": ""
                                                    }
                                                },
                                                "type": "scatterternary"
                                            }
                                        ],
                                        "surface": [
                                            {
                                                "colorbar": {
                                                    "outlinewidth": 0,
                                                    "ticks": ""
                                                },
                                                "colorscale": [
                                                    [
                                                        0,
                                                        "#0d0887"
                                                    ],
                                                    [
                                                        0.1111111111111111,
                                                        "#46039f"
                                                    ],
                                                    [
                                                        0.2222222222222222,
                                                        "#7201a8"
                                                    ],
                                                    [
                                                        0.3333333333333333,
                                                        "#9c179e"
                                                    ],
                                                    [
                                                        0.4444444444444444,
                                                        "#bd3786"
                                                    ],
                                                    [
                                                        0.5555555555555556,
                                                        "#d8576b"
                                                    ],
                                                    [
                                                        0.6666666666666666,
                                                        "#ed7953"
                                                    ],
                                                    [
                                                        0.7777777777777778,
                                                        "#fb9f3a"
                                                    ],
                                                    [
                                                        0.8888888888888888,
                                                        "#fdca26"
                                                    ],
                                                    [
                                                        1,
                                                        "#f0f921"
                                                    ]
                                                ],
                                                "type": "surface"
                                            }
                                        ],
                                        "table": [
                                            {
                                                "cells": {
                                                    "fill": {
                                                        "color": "#506784"
                                                    },
                                                    "line": {
                                                        "color": "rgb(17,17,17)"
                                                    }
                                                },
                                                "header": {
                                                    "fill": {
                                                        "color": "#2a3f5f"
                                                    },
                                                    "line": {
                                                        "color": "rgb(17,17,17)"
                                                    }
                                                },
                                                "type": "table"
                                            }
                                        ]
                                    },
                                    "layout": {
                                        "annotationdefaults": {
                                            "arrowcolor": "#f2f5fa",
                                            "arrowhead": 0,
                                            "arrowwidth": 1
                                        },
                                        "autotypenumbers": "strict",
                                        "coloraxis": {
                                            "colorbar": {
                                                "outlinewidth": 0,
                                                "ticks": ""
                                            }
                                        },
                                        "colorscale": {
                                            "diverging": [
                                                [
                                                    0,
                                                    "#8e0152"
                                                ],
                                                [
                                                    0.1,
                                                    "#c51b7d"
                                                ],
                                                [
                                                    0.2,
                                                    "#de77ae"
                                                ],
                                                [
                                                    0.3,
                                                    "#f1b6da"
                                                ],
                                                [
                                                    0.4,
                                                    "#fde0ef"
                                                ],
                                                [
                                                    0.5,
                                                    "#f7f7f7"
                                                ],
                                                [
                                                    0.6,
                                                    "#e6f5d0"
                                                ],
                                                [
                                                    0.7,
                                                    "#b8e186"
                                                ],
                                                [
                                                    0.8,
                                                    "#7fbc41"
                                                ],
                                                [
                                                    0.9,
                                                    "#4d9221"
                                                ],
                                                [
                                                    1,
                                                    "#276419"
                                                ]
                                            ],
                                            "sequential": [
                                                [
                                                    0,
                                                    "#0d0887"
                                                ],
                                                [
                                                    0.1111111111111111,
                                                    "#46039f"
                                                ],
                                                [
                                                    0.2222222222222222,
                                                    "#7201a8"
                                                ],
                                                [
                                                    0.3333333333333333,
                                                    "#9c179e"
                                                ],
                                                [
                                                    0.4444444444444444,
                                                    "#bd3786"
                                                ],
                                                [
                                                    0.5555555555555556,
                                                    "#d8576b"
                                                ],
                                                [
                                                    0.6666666666666666,
                                                    "#ed7953"
                                                ],
                                                [
                                                    0.7777777777777778,
                                                    "#fb9f3a"
                                                ],
                                                [
                                                    0.8888888888888888,
                                                    "#fdca26"
                                                ],
                                                [
                                                    1,
                                                    "#f0f921"
                                                ]
                                            ],
                                            "sequentialminus": [
                                                [
                                                    0,
                                                    "#0d0887"
                                                ],
                                                [
                                                    0.1111111111111111,
                                                    "#46039f"
                                                ],
                                                [
                                                    0.2222222222222222,
                                                    "#7201a8"
                                                ],
                                                [
                                                    0.3333333333333333,
                                                    "#9c179e"
                                                ],
                                                [
                                                    0.4444444444444444,
                                                    "#bd3786"
                                                ],
                                                [
                                                    0.5555555555555556,
                                                    "#d8576b"
                                                ],
                                                [
                                                    0.6666666666666666,
                                                    "#ed7953"
                                                ],
                                                [
                                                    0.7777777777777778,
                                                    "#fb9f3a"
                                                ],
                                                [
                                                    0.8888888888888888,
                                                    "#fdca26"
                                                ],
                                                [
                                                    1,
                                                    "#f0f921"
                                                ]
                                            ]
                                        },
                                        "colorway": [
                                            "#636efa",
                                            "#EF553B",
                                            "#00cc96",
                                            "#ab63fa",
                                            "#FFA15A",
                                            "#19d3f3",
                                            "#FF6692",
                                            "#B6E880",
                                            "#FF97FF",
                                            "#FECB52"
                                        ],
                                        "font": {
                                            "color": "#f2f5fa"
                                        },
                                        "geo": {
                                            "bgcolor": "rgb(17,17,17)",
                                            "lakecolor": "rgb(17,17,17)",
                                            "landcolor": "rgb(17,17,17)",
                                            "showlakes": true,
                                            "showland": true,
                                            "subunitcolor": "#506784"
                                        },
                                        "hoverlabel": {
                                            "align": "left"
                                        },
                                        "hovermode": "closest",
                                        "mapbox": {
                                            "style": "dark"
                                        },
                                        "paper_bgcolor": "rgb(17,17,17)",
                                        "plot_bgcolor": "rgb(17,17,17)",
                                        "polar": {
                                            "angularaxis": {
                                                "gridcolor": "#506784",
                                                "linecolor": "#506784",
                                                "ticks": ""
                                            },
                                            "bgcolor": "rgb(17,17,17)",
                                            "radialaxis": {
                                                "gridcolor": "#506784",
                                                "linecolor": "#506784",
                                                "ticks": ""
                                            }
                                        },
                                        "scene": {
                                            "xaxis": {
                                                "backgroundcolor": "rgb(17,17,17)",
                                                "gridcolor": "#506784",
                                                "gridwidth": 2,
                                                "linecolor": "#506784",
                                                "showbackground": true,
                                                "ticks": "",
                                                "zerolinecolor": "#C8D4E3"
                                            },
                                            "yaxis": {
                                                "backgroundcolor": "rgb(17,17,17)",
                                                "gridcolor": "#506784",
                                                "gridwidth": 2,
                                                "linecolor": "#506784",
                                                "showbackground": true,
                                                "ticks": "",
                                                "zerolinecolor": "#C8D4E3"
                                            },
                                            "zaxis": {
                                                "backgroundcolor": "rgb(17,17,17)",
                                                "gridcolor": "#506784",
                                                "gridwidth": 2,
                                                "linecolor": "#506784",
                                                "showbackground": true,
                                                "ticks": "",
                                                "zerolinecolor": "#C8D4E3"
                                            }
                                        },
                                        "shapedefaults": {
                                            "line": {
                                                "color": "#f2f5fa"
                                            }
                                        },
                                        "sliderdefaults": {
                                            "bgcolor": "#C8D4E3",
                                            "bordercolor": "rgb(17,17,17)",
                                            "borderwidth": 1,
                                            "tickwidth": 0
                                        },
                                        "ternary": {
                                            "aaxis": {
                                                "gridcolor": "#506784",
                                                "linecolor": "#506784",
                                                "ticks": ""
                                            },
                                            "baxis": {
                                                "gridcolor": "#506784",
                                                "linecolor": "#506784",
                                                "ticks": ""
                                            },
                                            "bgcolor": "rgb(17,17,17)",
                                            "caxis": {
                                                "gridcolor": "#506784",
                                                "linecolor": "#506784",
                                                "ticks": ""
                                            }
                                        },
                                        "title": {
                                            "x": 0.05
                                        },
                                        "updatemenudefaults": {
                                            "bgcolor": "#506784",
                                            "borderwidth": 0
                                        },
                                        "xaxis": {
                                            "automargin": true,
                                            "gridcolor": "#283442",
                                            "linecolor": "#506784",
                                            "ticks": "",
                                            "title": {
                                                "standoff": 15
                                            },
                                            "zerolinecolor": "#283442",
                                            "zerolinewidth": 2
                                        },
                                        "yaxis": {
                                            "automargin": true,
                                            "gridcolor": "#283442",
                                            "linecolor": "#506784",
                                            "ticks": "",
                                            "title": {
                                                "standoff": 15
                                            },
                                            "zerolinecolor": "#283442",
                                            "zerolinewidth": 2
                                        }
                                    }
                                },
                                "title": {
                                    "text": "Number of fails by pipelineRef"
                                },
                                "xaxis": {
                                    "anchor": "y",
                                    "domain": [
                                        0,
                                        1
                                    ],
                                    "title": {
                                        "text": "value"
                                    }
                                },
                                "yaxis": {
                                    "anchor": "x",
                                    "domain": [
                                        0,
                                        1
                                    ],
                                    "title": {
                                        "text": "pipelineRef"
                                    }
                                }
                            }
                        }
                    },
                    "metadata": {}
                }
            ],
            "metadata": {}
        },
        {
            "cell_type": "markdown",
            "source": [
                "## Test. Measuring Similarity Between Texts in Python\n",
                "https://sites.temple.edu/tudsc/2017/03/30/measuring-similarity-between-texts-in-python/"
            ],
            "metadata": {}
        },
        {
            "cell_type": "markdown",
            "source": [
                "# Filter logs data\n"
            ],
            "metadata": {}
        },
        {
            "cell_type": "markdown",
            "source": [
                "## Get fragment of text with error "
            ],
            "metadata": {}
        },
        {
            "cell_type": "code",
            "execution_count": 1010,
            "source": [
                "# Get fragment of text with error\n",
                "# ==============================================================================\n",
                "def getErrorText(texto):\n",
                "    #! Get only last range. \n",
                "    nuevo_texto = texto\n",
                "    #! Convert all text to lowercase.\n",
                "    nuevo_texto = nuevo_texto.lower()\n",
                "    #! Web page removal (words beginning with \"http\")\n",
                "    nuevo_texto = re.sub('http\\S+', ' ', nuevo_texto)\n",
                "    nuevo_texto = nuevo_texto.split(sep = '\\n');\n",
                "    \n",
                "    whiteList = [\"error\"]; newTextList = []; nuevoTexto = \"\"\n",
                "    for text in nuevo_texto:\n",
                "        for listI in whiteList:\n",
                "            if listI in text:\n",
                "                #! Remove special characters\n",
                "                regex = '[\\\\!\\\\\"\\\\#\\\\>\\\\<\\\\$\\\\%\\\\&\\\\\\'\\\\(\\\\)\\\\*\\\\+\\\\,\\\\;\\\\\\\\\\]\\\\<\\\\=\\\\,\\\\>\\\\?\\\\:\\\\-\\\\|\\\\@\\\\@\\\\\\\\^_\\\\`\\\\{\\\\|\\\\}\\\\~]'\n",
                "                text = re.sub('http\\S+', ' ', text)\n",
                "                #! Remove numbers\n",
                "                text = re.sub('\\d+', ' ', text)\n",
                "                #! remove date\n",
                "                text = re.sub('\\d{4}-\\d{2}-\\d{2}', ' ', text)\n",
                "                text = re.sub(' +', ' ', text)\n",
                "                text = re.sub('- - t : :','',text)\n",
                "                #! Removing emojis\n",
                "                emoji_pattern = re.compile(\"[\"\n",
                "                      u\"\\U0001F600-\\U0001F64F\"  # emoticons\n",
                "                      u\"\\U0001F300-\\U0001F5FF\"  # symbols & pictographs\n",
                "                      u\"\\U0001F680-\\U0001F6FF\"  # transport & map symbols\n",
                "                      u\"\\U0001F1E0-\\U0001F1FF\"  # flags (iOS)\n",
                "                           \"]+\", flags=re.UNICODE)\n",
                "                text = emoji_pattern.sub(r'', text)\n",
                "                \n",
                "                if not text in newTextList:\n",
                "                    #! cut string. \n",
                "                    text = text[0:text.find(\".\")]\n",
                "                    nuevoTexto = nuevoTexto + \"\\n\" + text\n",
                "\n",
                "                newTextList.append(text)\n",
                "\n",
                "                newTextList = [string for string in newTextList if string.strip()]# Remove multiple empty spaces from string List\n",
                "                newTextList = [string for string in newTextList if string != \" \"] # Delete empty strings\n",
                "                newTextList = [string for string in newTextList if string != \"\"] # Delete empty strings\n",
                "                unics = set(); newTextList = [string for string in newTextList if string not in unics and (unics.add(string) or True)] # Delete duplicate data\n",
                "\n",
                "    return newTextList"
            ],
            "outputs": [],
            "metadata": {}
        },
        {
            "cell_type": "markdown",
            "source": [
                "## Test Filter for search the text error inside of the logs"
            ],
            "metadata": {}
        },
        {
            "cell_type": "code",
            "execution_count": 1011,
            "source": [
                "textExample = '''\n",
                " * [new branch]      frontend-test           -> origin/frontend-test\n",
                " * [new branch]      functional-testing-junit -> origin/functional-testing-junit\n",
                " * [new branch]      master                  -> origin/master\n",
                " * [new branch]      sol-dev                 -> origin/sol-dev\n",
                " * [new branch]      sql-fix-branch          -> origin/sql-fix-branch\n",
                " * [new branch]      testing-report          -> origin/testing-report\n",
                " * [new tag]         CR-H1-2021-deploy-intermedio -> CR-H1-2021-deploy-intermedio\n",
                " * [new tag]         v1dffdfdfdf0_20190405         -df dff1dff0df0_20190405\n",
                " * [new tag]         v1dffdfdfdf1_20190424         -df dff1dff0df1_20190424\n",
                "Checking out 18b927c2 as devdfdfdffdffdf\n",
                "\n",
                "Skipping Git submodules setup\n",
                "Downloading artifacts for build-jar (1473723797)dfdfdffdffdf\n",
                "Downloading artifacts from coordinatordfdfdffdffdf ok        id=1473723797 responseStatus=200 OK token=G4kf2uft\n",
                "$ echo \"{\\\"auths\\\":{\\\"$CI_REGISTRY\\\":{\\\"username\\\":\\\"$CI_REGISTRY_USER\\\",\\\"password\\\":\\\"$CI_REGISTRY_PASSWORD\\\"}}}\" > /kaniko/.docker/confdfdfdfjson\n",
                "$ /kaniko/executor --context $CI_PROJECT_DIR --dockerfile $CI_PROJECT_DIR/Dockerfile --destination $CI_REGISTRY_IMAGE:$CI_COMMIT_REF_SLUG\n",
                "INFO[0001] Retrieving image manifest openjdk:11.0       \n",
                "INFO[0001] Retrieving image openjdk:11.0 from registry inddfdfdfdodfkdfrdfio \n",
                "error building image: GET https://index.dockdfdfdfio/v2/library/openjdk/manifestdf/df1df0: TOOMANYREQUESTS: You have reached your pull ratedflidfitdf You may increase the limit by authenticating and upgrading: httdfs:/dfwdfwdfddfckerdfcom/increase-rate-limit\n",
                "ERROR: Job failed: command terminated with exit code 1\n",
                "'''\n",
                "\n",
                "errorText =  getErrorText(textExample)\n",
                "\n",
                "print(errorText)\n",
                "\n",
                "# This need to do defferent to 0.  \n",
                "assert  len(errorText) > 0\n",
                "print(\"✅ PASS TEST: OK 👍\")\n",
                "\n",
                "textExample = '''\n",
                "    >>>> 03_add_account_toEntity-06 :              |'\\n  │ '|------------------------------------------------|'\\n  │ \\n  │ 'https://edutelling-api-develop.openshidfdfdftecdfgdfpdfit/a\\n  │ pi/v1/tutors/create/tutor-from-ambassador?ambassadorId\\n  │ ='\\n  │ 'RESPONSE'\\n  │ \\n  │ `{\\\"success\\\":true,\\\"message\\\":\\\"Tutor '#17:-2' cdfeadfeddf\\\",\\\"\\n  │ data\\\":{\\\"tutorId\\\":\\\"#17:-2\\\"}}`\\n  │ '|-**********************************************-|'\\n  │ \\n  └\\n\\n→ 04_login_no2_v3\\n  POST https://edutelling-apidfdevdflopddfopendfhdfftdftdfchgapdfit/api/v1/auth/authentication [200 OK, 798B, 137ms]\\n  ✓  [(POST)/api/v1/auth/authentication] Login Delete (200)\\n\\n→ 05_login_switch_how_account\\n  POST https://edutellidfg-api-dfedfelopdfodffenshiftdfftechgapdfit/api/v1/auth/complete-authedftication df200 OK, 1df01KB, 27ms]\\n  ✓  CHECK IF EXIST JWT\\n  ✓  CHECK IF EXIST jwtRefresh\\n  ✓  [(POST)/api/v1/auth/authentication] Login Delete (200)\\n\\n→ 01_entityTypeAccountService_getAll\\n  GET https://dfdutellingdfdfpi-dedfelodfdfopensdfiftdftechgapdfit/apdf/v1/accounts/dfmbassador@botdfcom/all [200 OK, 680B, 23ms]\\n  ┌\\n  │ 'deleteAccountId :', '#12:1564'\\n  │ 'deleteAccountId :', '12%3A1564'\\n  └\\n\\n→ 02_reamoveAccount\\n  DELETE dfttps://eddftelldfndf-api-dedfelopdfodfenshiftdftechgapdfit/api/v1/accounts/remove?dataId=12%3A1564 [200 OK, 397B, 15ms]\\n\\n→ goTo_workflowControl\\n  OPdfIONS httpdf://edutdfflling-apidfdevelopdffopenshiftdftechgapdfit [404 Not Found, 255B, 4ms]\\n\\nAttempting to set next request to controlOfWorkFlowTempalte_06\\n\\n→ controlOfWorkFlowTempalte_06dfn  OPTIONdf https:df/edfutelling-dfpi-devedfopdfopenshiftdftechgapdfit [404 Not Found, 255B, 6ms]\\n  ┌\\n  │ ' ------ ------ ---------- ---------'\\n  │ \\n  │ '{\\\"nameOfConfigFile\\\":\\\"config_multiAccount_tutorHowAmba\\n  │ ssador\\\",\\\"templateRun\\\":[\\\"01_entityTypeAccountService_ge\\n  │ tAll_06\\\",\\\"config_multiAccount_studentHowAmbassador\\\"],\\\"\\n  │ executed\\\":[false,true]}'\\n  │ \\n  │ 'WORKFLOW GO TO: ------------------------'\\n  │ \\n  │ 'WORKFLOW CONTROL REDIRECTING TEMPATE TO: ', 'config_m\\n  │ ultiAccount_studentHowAmbassador'\\n  │ \\n  │ \\n  └\\n\\nAttempting to set next request to config_multiAccount_studentHowAmbassador\\n\\n→ config_multiAccount_studentHowAmbadfsador\\n  dfPTIONS dfttps:df/edutellidfg-api-ddfvelopdfopenshiftdftechgapdfit [404 Not Found, 255B, 5ms]\\n\\nAttempting to set next request to controlOfWorkFlowTempalte_06\\n\\n→ controlOfWorkFlodfTempalte_df6\\n  OPdfIONS httdfs://edutedfling-apdf-developdfopenshiftdftechgapdfit [404 Not Found, 255B, 8ms]\\n  ┌\\n  │ ' ------ ------ ---------- ---------'\\n  │ \\n  │ '{\\\"nameOfConfigFile\\\":\\\"config_multiAccount_tutorHowAmba\\n  │ ssador\\\",\\\"templateRun\\\":[\\\"01_entityTypeAccountService_ge\\n  │ tAll_06\\\",\\\"stop_06_createCourseModuleAndStage\\\"]}'\\n  │ \\n  │ 'WORKFLOW GO TO: ------------------------'\\n  │ \\n  │ 'WORKFLOW CONTROL REDIRECTING TEMPATE TO: ', '01_entit\\n  │ yTypeAccountService_getAll_06'\\n  │ \\n  │ \\n  └\\n\\nAttempting to set next request to 01_entityTypeAccountService_getAll_06\\n\\n→ 01_entityTypeAcdfountServidfe_getAldf_06\\n  GET dfttps://eddftellindfdfapi-developdfopenshiftdftechgadfdfit/api/v1/accounts/student@botdfcom/all [200 OK, 475B, 8ms]\\n  ┌\\n  │ 'entityTypeUppperCase: ', 'Student'\\n  │ '20%3A273'\\n  df\\n\\n→ 02_dfeamoveAdfcount_06\\n  DELdfTE https:df/eduteldfing-api-developdfopenshiftdftechgapdfit/api/v1/accounts/remove?dataId=12%3A1564 [200 OK, 379B, 53dfs]\\n\\n→ 0df_add_acdfount_toEntity-06\\ndf POST httdfs://edudfelling-api-developdfopenshiftdftechgapdfit/api/v1/ambassadors/create/ambassador-from-student?studentId=20%3A273 [200 OK, 420B, 84ms]\\n  ✓   [(POST) /api/v1/teachers/create/teacher-from-student?studentId ] Status code is 200\\n  ✓  Check if was Success to add access student how teacher\\n  ┌\\n  │ \\n  │ '|------------------------------------------------|'\\n  │ '| >>>> 03_add_account_toEntity-06 :              |'\\n  │ '|-------------df---------df-------df----------------|'\\n df│ \\n  │ 'dfttps://dfdutelling-api-developdfopenshiftdftechgapdfit/a\\n  │ pi/v1/ambassadors/create/ambassador-from-student?stude\\n  │ ntId='\\n  │ 'RdfSPONSE'\\n  │ \\n  │ `{\\\"success\\\":true,\\\"medfsage\\\":\\\"Ambassador '#19:-2' create\\n  │ ddf\\\",\\\"data\\\":{\\\"ambassadorId\\\":\\\"#19:-2\\\"}}`\\n  │ '|-********************************df*********df***-|'\\df  │ \\n  └\\n\\n→ 04_login_ndf2_v3\\n  PdfST httpdf://edutelling-api-developdfopenshiftdftechgapdfit/api/v1/auth/authentication [200 OK, 790B, 152ms]\\n  ✓  [(POST)/api/v1/auth/authenticatidfn] Login dfelete (df00)\\n\\n→ 05_login_switch_howdfaccount\\ndf POST hddftps://edutelling-api-developdfopenshiftdftechgapddfit/api/v1/auth/complete-authentication [200 OK, 1df03KB, 23ms]\\n  ✓  CHECK IF EXIST JWT\\n  ✓  CHECK IF EXIST jwtRefresh\\n  ✓  [(POST)/api/v1/auth/authenticadfion] Logidf Deletedf(200)\\n\\n→ 01_entityTypeAccoundfSdfrvice_getdfll\\n  GdfT https://edutelling-api-develdfpdfopenshiftdftechgapdfit/api/v1/accounts/student@botdfcom/all [200 OK, 676B, 9ms]\\n  ┌\\n  │ 'deleteAccountId :', '#12:15df5'\\n  │ 'dfeleteAcdfountId :', '12%3A1565'\\n  └\\n\\n→ 02_dfeamoveAccdfunt\\n  dfELETE https://edutelling-api-developdfopenshiftdftechgapdfit/api/v1/accoudfts/removedfdataId=df2%3A1565 [200 OK, 397B, 37ms]\\n\\n→ goTodfworkflowCdfntrol\\ndf OPTIONS https://edutelling-api-developdfopenshiftdftechgapdfit [404 Not Found, 255B, 6ms]\\n\\nAttempting to sedf next reqdfest to dfontrolOfWorkFlowTempalte_06\\n\\n→ controlOfdforkFlowTedfpalte_0df\\n  OPTIONS https://edutelling-api-developdfopenshiftdftechgapdfit [404 Not Found, 255B, 4ms]\\n  ┌\\n  │ ' ------ ------ ---------- ---------'\\n  │ \\n  │ '{\\\"nameOfConfigFile\\\":\\\"config_multiAccount_tutorHowAmba\\n  │ ssador\\\",\\\"templateRun\\\":[\\\"01_entityTypeAccountService_ge\\n  │ tAll_06\\\",\\\"stop_06_createCourseModuleAndStage\\\"],\\\"execut\\n  │ ed\\\":[false,true]}'\\n  │ \\n  │ 'WORKFLOW GO TO: ------------------------'\\n  │ \\n  │ 'WORKFLOW CONTROL REDIRECTING TEMPATE TO: ', 'stop_06_\\n  │ createCourseModuleAndStage'\\n  │ \\n  │ \\n  └\\n\\nAttempting to set nextdfrequest tdf stop_0df_createCourseModuleAndStage\\n\\n→ stop_06_creadfeCourseModfuleAndSdfage\\n  OPTIONS httpdf://edutelling-api-developdfopenshiftdftechgapdfit [404 Not Found, df55B, 5ms]\\nsummary: 0\\nNUMBER OF FAILS 0\\ncollection run completeddf\\n\\n┌─────────────────────────┬───────────────────┬──────────────────┐\\n│                         │          executed │           failed │\\n├─────────────────────────┼───────────────────┼──────────────────┤\\n│              iterations │                 1 │                0 │\\n├─────────────────────────┼───────────────────┼──────────────────┤\\n│                requests │               425 │                0 │\\n├─────────────────────────┼───────────────────┼──────────────────┤\\n│            test-scripts │               425 │                0 │\\n├─────────────────────────┼───────────────────┼──────────────────┤\\n│      prerequest-scripts │                 3 │                0 │\\n├─────────────────────────┼───────────────────┼──────────────────┤\\n│              assertions │df              247 │                0 │\\n├─────────────────────────┴df──────────────────┴──────────────────┤\\n│ total run duration: 4m df9df3s                                   │\\n├────────────────────────df───────────────────────────────────────┤\\n│ total data received: 755df83KB (approx)          df df            │\\n├───────────────────────────────────────────────────df─df──────────┤\\n│ avedfagedfresponse time: 44ms [min: 3ms, max: 605ms, sdfddf: 58ms] │\\n└──df───df───ddf───────df─────────────────────────────────────────────┘\\nDone indfdf60df84sdddf\\n\\u001dff[32;1m$ echo 'http://edutelling-functional-test-backenddfdfpenshiftddftechgapdffit/'\\u001b[0;m\\nhttp://edutelling-functional-test-backenddfopenshiftdftechgapdfit/\\nsection_end:1626336539:step_script\\r\\u001b[0Ksection_start:1626336539:cleanup_file_variables\\r\\u001b[0K\\u001b[0K\\u001b[36;1mCleaning up file based variables\\u001b[0;m\\n\\u001b[0;msection_end:1626336540:cleanup_file_variables\\r\\u001b[0K\\u001b[32;1mJob succeeded\\n\\u001b[0;m\n",
                "'''\n",
                "errorText =  getErrorText(textExample)\n",
                "print(errorText)\n",
                "assert  len(errorText) == 0\n",
                "print(\"✅ PASS TEST: OK 👍\")"
            ],
            "outputs": [
                {
                    "output_type": "error",
                    "ename": "error",
                    "evalue": "bad character range }-x at position 9",
                    "traceback": [
                        "\u001b[0;31m---------------------------------------------------------------------------\u001b[0m",
                        "\u001b[0;31merror\u001b[0m                                     Traceback (most recent call last)",
                        "\u001b[0;32m/var/folders/3m/yp4nwdq15ds_j0ywspwlwjnc0000gn/T/ipykernel_95105/868763244.py\u001b[0m in \u001b[0;36m<module>\u001b[0;34m\u001b[0m\n\u001b[1;32m     22\u001b[0m '''\n\u001b[1;32m     23\u001b[0m \u001b[0;34m\u001b[0m\u001b[0m\n\u001b[0;32m---> 24\u001b[0;31m \u001b[0merrorText\u001b[0m \u001b[0;34m=\u001b[0m  \u001b[0mgetErrorText\u001b[0m\u001b[0;34m(\u001b[0m\u001b[0mtextExample\u001b[0m\u001b[0;34m)\u001b[0m\u001b[0;34m\u001b[0m\u001b[0;34m\u001b[0m\u001b[0m\n\u001b[0m\u001b[1;32m     25\u001b[0m \u001b[0;34m\u001b[0m\u001b[0m\n\u001b[1;32m     26\u001b[0m \u001b[0mprint\u001b[0m\u001b[0;34m(\u001b[0m\u001b[0merrorText\u001b[0m\u001b[0;34m)\u001b[0m\u001b[0;34m\u001b[0m\u001b[0;34m\u001b[0m\u001b[0m\n",
                        "\u001b[0;32m/var/folders/3m/yp4nwdq15ds_j0ywspwlwjnc0000gn/T/ipykernel_95105/217813595.py\u001b[0m in \u001b[0;36mgetErrorText\u001b[0;34m(texto)\u001b[0m\n\u001b[1;32m     30\u001b[0m                       \u001b[0;34mu\"\\U0001F1E0-\\U0001F1FF\"\u001b[0m  \u001b[0;31m# flags (iOS)\u001b[0m\u001b[0;34m\u001b[0m\u001b[0;34m\u001b[0m\u001b[0m\n\u001b[1;32m     31\u001b[0m                            \"]+\", flags=re.UNICODE)\n\u001b[0;32m---> 32\u001b[0;31m                 \u001b[0mtext\u001b[0m \u001b[0;34m=\u001b[0m \u001b[0mre\u001b[0m\u001b[0;34m.\u001b[0m\u001b[0msub\u001b[0m\u001b[0;34m(\u001b[0m\u001b[0;34mr'/[x{1F601}-x{1F64F}]/u'\u001b[0m\u001b[0;34m,\u001b[0m \u001b[0;34m''\u001b[0m\u001b[0;34m,\u001b[0m \u001b[0memoji_pattern\u001b[0m\u001b[0;34m)\u001b[0m\u001b[0;34m\u001b[0m\u001b[0;34m\u001b[0m\u001b[0m\n\u001b[0m\u001b[1;32m     33\u001b[0m \u001b[0;34m\u001b[0m\u001b[0m\n\u001b[1;32m     34\u001b[0m                 \u001b[0;32mif\u001b[0m \u001b[0;32mnot\u001b[0m \u001b[0mtext\u001b[0m \u001b[0;32min\u001b[0m \u001b[0mnewTextList\u001b[0m\u001b[0;34m:\u001b[0m\u001b[0;34m\u001b[0m\u001b[0;34m\u001b[0m\u001b[0m\n",
                        "\u001b[0;32m/usr/local/Caskroom/miniforge/base/lib/python3.9/re.py\u001b[0m in \u001b[0;36msub\u001b[0;34m(pattern, repl, string, count, flags)\u001b[0m\n\u001b[1;32m    208\u001b[0m     \u001b[0ma\u001b[0m \u001b[0mcallable\u001b[0m\u001b[0;34m,\u001b[0m \u001b[0mit\u001b[0m\u001b[0;31m'\u001b[0m\u001b[0ms\u001b[0m \u001b[0mpassed\u001b[0m \u001b[0mthe\u001b[0m \u001b[0mMatch\u001b[0m \u001b[0mobject\u001b[0m \u001b[0;32mand\u001b[0m \u001b[0mmust\u001b[0m \u001b[0;32mreturn\u001b[0m\u001b[0;34m\u001b[0m\u001b[0;34m\u001b[0m\u001b[0m\n\u001b[1;32m    209\u001b[0m     a replacement string to be used.\"\"\"\n\u001b[0;32m--> 210\u001b[0;31m     \u001b[0;32mreturn\u001b[0m \u001b[0m_compile\u001b[0m\u001b[0;34m(\u001b[0m\u001b[0mpattern\u001b[0m\u001b[0;34m,\u001b[0m \u001b[0mflags\u001b[0m\u001b[0;34m)\u001b[0m\u001b[0;34m.\u001b[0m\u001b[0msub\u001b[0m\u001b[0;34m(\u001b[0m\u001b[0mrepl\u001b[0m\u001b[0;34m,\u001b[0m \u001b[0mstring\u001b[0m\u001b[0;34m,\u001b[0m \u001b[0mcount\u001b[0m\u001b[0;34m)\u001b[0m\u001b[0;34m\u001b[0m\u001b[0;34m\u001b[0m\u001b[0m\n\u001b[0m\u001b[1;32m    211\u001b[0m \u001b[0;34m\u001b[0m\u001b[0m\n\u001b[1;32m    212\u001b[0m \u001b[0;32mdef\u001b[0m \u001b[0msubn\u001b[0m\u001b[0;34m(\u001b[0m\u001b[0mpattern\u001b[0m\u001b[0;34m,\u001b[0m \u001b[0mrepl\u001b[0m\u001b[0;34m,\u001b[0m \u001b[0mstring\u001b[0m\u001b[0;34m,\u001b[0m \u001b[0mcount\u001b[0m\u001b[0;34m=\u001b[0m\u001b[0;36m0\u001b[0m\u001b[0;34m,\u001b[0m \u001b[0mflags\u001b[0m\u001b[0;34m=\u001b[0m\u001b[0;36m0\u001b[0m\u001b[0;34m)\u001b[0m\u001b[0;34m:\u001b[0m\u001b[0;34m\u001b[0m\u001b[0;34m\u001b[0m\u001b[0m\n",
                        "\u001b[0;32m/usr/local/Caskroom/miniforge/base/lib/python3.9/re.py\u001b[0m in \u001b[0;36m_compile\u001b[0;34m(pattern, flags)\u001b[0m\n\u001b[1;32m    302\u001b[0m     \u001b[0;32mif\u001b[0m \u001b[0;32mnot\u001b[0m \u001b[0msre_compile\u001b[0m\u001b[0;34m.\u001b[0m\u001b[0misstring\u001b[0m\u001b[0;34m(\u001b[0m\u001b[0mpattern\u001b[0m\u001b[0;34m)\u001b[0m\u001b[0;34m:\u001b[0m\u001b[0;34m\u001b[0m\u001b[0;34m\u001b[0m\u001b[0m\n\u001b[1;32m    303\u001b[0m         \u001b[0;32mraise\u001b[0m \u001b[0mTypeError\u001b[0m\u001b[0;34m(\u001b[0m\u001b[0;34m\"first argument must be string or compiled pattern\"\u001b[0m\u001b[0;34m)\u001b[0m\u001b[0;34m\u001b[0m\u001b[0;34m\u001b[0m\u001b[0m\n\u001b[0;32m--> 304\u001b[0;31m     \u001b[0mp\u001b[0m \u001b[0;34m=\u001b[0m \u001b[0msre_compile\u001b[0m\u001b[0;34m.\u001b[0m\u001b[0mcompile\u001b[0m\u001b[0;34m(\u001b[0m\u001b[0mpattern\u001b[0m\u001b[0;34m,\u001b[0m \u001b[0mflags\u001b[0m\u001b[0;34m)\u001b[0m\u001b[0;34m\u001b[0m\u001b[0;34m\u001b[0m\u001b[0m\n\u001b[0m\u001b[1;32m    305\u001b[0m     \u001b[0;32mif\u001b[0m \u001b[0;32mnot\u001b[0m \u001b[0;34m(\u001b[0m\u001b[0mflags\u001b[0m \u001b[0;34m&\u001b[0m \u001b[0mDEBUG\u001b[0m\u001b[0;34m)\u001b[0m\u001b[0;34m:\u001b[0m\u001b[0;34m\u001b[0m\u001b[0;34m\u001b[0m\u001b[0m\n\u001b[1;32m    306\u001b[0m         \u001b[0;32mif\u001b[0m \u001b[0mlen\u001b[0m\u001b[0;34m(\u001b[0m\u001b[0m_cache\u001b[0m\u001b[0;34m)\u001b[0m \u001b[0;34m>=\u001b[0m \u001b[0m_MAXCACHE\u001b[0m\u001b[0;34m:\u001b[0m\u001b[0;34m\u001b[0m\u001b[0;34m\u001b[0m\u001b[0m\n",
                        "\u001b[0;32m/usr/local/Caskroom/miniforge/base/lib/python3.9/sre_compile.py\u001b[0m in \u001b[0;36mcompile\u001b[0;34m(p, flags)\u001b[0m\n\u001b[1;32m    762\u001b[0m     \u001b[0;32mif\u001b[0m \u001b[0misstring\u001b[0m\u001b[0;34m(\u001b[0m\u001b[0mp\u001b[0m\u001b[0;34m)\u001b[0m\u001b[0;34m:\u001b[0m\u001b[0;34m\u001b[0m\u001b[0;34m\u001b[0m\u001b[0m\n\u001b[1;32m    763\u001b[0m         \u001b[0mpattern\u001b[0m \u001b[0;34m=\u001b[0m \u001b[0mp\u001b[0m\u001b[0;34m\u001b[0m\u001b[0;34m\u001b[0m\u001b[0m\n\u001b[0;32m--> 764\u001b[0;31m         \u001b[0mp\u001b[0m \u001b[0;34m=\u001b[0m \u001b[0msre_parse\u001b[0m\u001b[0;34m.\u001b[0m\u001b[0mparse\u001b[0m\u001b[0;34m(\u001b[0m\u001b[0mp\u001b[0m\u001b[0;34m,\u001b[0m \u001b[0mflags\u001b[0m\u001b[0;34m)\u001b[0m\u001b[0;34m\u001b[0m\u001b[0;34m\u001b[0m\u001b[0m\n\u001b[0m\u001b[1;32m    765\u001b[0m     \u001b[0;32melse\u001b[0m\u001b[0;34m:\u001b[0m\u001b[0;34m\u001b[0m\u001b[0;34m\u001b[0m\u001b[0m\n\u001b[1;32m    766\u001b[0m         \u001b[0mpattern\u001b[0m \u001b[0;34m=\u001b[0m \u001b[0;32mNone\u001b[0m\u001b[0;34m\u001b[0m\u001b[0;34m\u001b[0m\u001b[0m\n",
                        "\u001b[0;32m/usr/local/Caskroom/miniforge/base/lib/python3.9/sre_parse.py\u001b[0m in \u001b[0;36mparse\u001b[0;34m(str, flags, state)\u001b[0m\n\u001b[1;32m    946\u001b[0m \u001b[0;34m\u001b[0m\u001b[0m\n\u001b[1;32m    947\u001b[0m     \u001b[0;32mtry\u001b[0m\u001b[0;34m:\u001b[0m\u001b[0;34m\u001b[0m\u001b[0;34m\u001b[0m\u001b[0m\n\u001b[0;32m--> 948\u001b[0;31m         \u001b[0mp\u001b[0m \u001b[0;34m=\u001b[0m \u001b[0m_parse_sub\u001b[0m\u001b[0;34m(\u001b[0m\u001b[0msource\u001b[0m\u001b[0;34m,\u001b[0m \u001b[0mstate\u001b[0m\u001b[0;34m,\u001b[0m \u001b[0mflags\u001b[0m \u001b[0;34m&\u001b[0m \u001b[0mSRE_FLAG_VERBOSE\u001b[0m\u001b[0;34m,\u001b[0m \u001b[0;36m0\u001b[0m\u001b[0;34m)\u001b[0m\u001b[0;34m\u001b[0m\u001b[0;34m\u001b[0m\u001b[0m\n\u001b[0m\u001b[1;32m    949\u001b[0m     \u001b[0;32mexcept\u001b[0m \u001b[0mVerbose\u001b[0m\u001b[0;34m:\u001b[0m\u001b[0;34m\u001b[0m\u001b[0;34m\u001b[0m\u001b[0m\n\u001b[1;32m    950\u001b[0m         \u001b[0;31m# the VERBOSE flag was switched on inside the pattern.  to be\u001b[0m\u001b[0;34m\u001b[0m\u001b[0;34m\u001b[0m\u001b[0;34m\u001b[0m\u001b[0m\n",
                        "\u001b[0;32m/usr/local/Caskroom/miniforge/base/lib/python3.9/sre_parse.py\u001b[0m in \u001b[0;36m_parse_sub\u001b[0;34m(source, state, verbose, nested)\u001b[0m\n\u001b[1;32m    441\u001b[0m     \u001b[0mstart\u001b[0m \u001b[0;34m=\u001b[0m \u001b[0msource\u001b[0m\u001b[0;34m.\u001b[0m\u001b[0mtell\u001b[0m\u001b[0;34m(\u001b[0m\u001b[0;34m)\u001b[0m\u001b[0;34m\u001b[0m\u001b[0;34m\u001b[0m\u001b[0m\n\u001b[1;32m    442\u001b[0m     \u001b[0;32mwhile\u001b[0m \u001b[0;32mTrue\u001b[0m\u001b[0;34m:\u001b[0m\u001b[0;34m\u001b[0m\u001b[0;34m\u001b[0m\u001b[0m\n\u001b[0;32m--> 443\u001b[0;31m         itemsappend(_parse(source, state, verbose, nested + 1,\n\u001b[0m\u001b[1;32m    444\u001b[0m                            not nested and not items))\n\u001b[1;32m    445\u001b[0m         \u001b[0;32mif\u001b[0m \u001b[0;32mnot\u001b[0m \u001b[0msourcematch\u001b[0m\u001b[0;34m(\u001b[0m\u001b[0;34m\"|\"\u001b[0m\u001b[0;34m)\u001b[0m\u001b[0;34m:\u001b[0m\u001b[0;34m\u001b[0m\u001b[0;34m\u001b[0m\u001b[0m\n",
                        "\u001b[0;32m/usr/local/Caskroom/miniforge/base/lib/python3.9/sre_parse.py\u001b[0m in \u001b[0;36m_parse\u001b[0;34m(source, state, verbose, nested, first)\u001b[0m\n\u001b[1;32m    596\u001b[0m                     \u001b[0;32mif\u001b[0m \u001b[0mhi\u001b[0m \u001b[0;34m<\u001b[0m \u001b[0mlo\u001b[0m\u001b[0;34m:\u001b[0m\u001b[0;34m\u001b[0m\u001b[0;34m\u001b[0m\u001b[0m\n\u001b[1;32m    597\u001b[0m                         \u001b[0mmsg\u001b[0m \u001b[0;34m=\u001b[0m \u001b[0;34m\"bad character range %s-%s\"\u001b[0m \u001b[0;34m%\u001b[0m \u001b[0;34m(\u001b[0m\u001b[0mthis\u001b[0m\u001b[0;34m,\u001b[0m \u001b[0mthat\u001b[0m\u001b[0;34m)\u001b[0m\u001b[0;34m\u001b[0m\u001b[0;34m\u001b[0m\u001b[0m\n\u001b[0;32m--> 598\u001b[0;31m                         \u001b[0;32mraise\u001b[0m \u001b[0msource\u001b[0m\u001b[0;34m.\u001b[0m\u001b[0merror\u001b[0m\u001b[0;34m(\u001b[0m\u001b[0mmsg\u001b[0m\u001b[0;34m,\u001b[0m \u001b[0mlen\u001b[0m\u001b[0;34m(\u001b[0m\u001b[0mthis\u001b[0m\u001b[0;34m)\u001b[0m \u001b[0;34m+\u001b[0m \u001b[0;36m1\u001b[0m \u001b[0;34m+\u001b[0m \u001b[0mlen\u001b[0m\u001b[0;34m(\u001b[0m\u001b[0mthat\u001b[0m\u001b[0;34m)\u001b[0m\u001b[0;34m)\u001b[0m\u001b[0;34m\u001b[0m\u001b[0;34m\u001b[0m\u001b[0m\n\u001b[0m\u001b[1;32m    599\u001b[0m                     \u001b[0msetappend\u001b[0m\u001b[0;34m(\u001b[0m\u001b[0;34m(\u001b[0m\u001b[0mRANGE\u001b[0m\u001b[0;34m,\u001b[0m \u001b[0;34m(\u001b[0m\u001b[0mlo\u001b[0m\u001b[0;34m,\u001b[0m \u001b[0mhi\u001b[0m\u001b[0;34m)\u001b[0m\u001b[0;34m)\u001b[0m\u001b[0;34m)\u001b[0m\u001b[0;34m\u001b[0m\u001b[0;34m\u001b[0m\u001b[0m\n\u001b[1;32m    600\u001b[0m                 \u001b[0;32melse\u001b[0m\u001b[0;34m:\u001b[0m\u001b[0;34m\u001b[0m\u001b[0;34m\u001b[0m\u001b[0m\n",
                        "\u001b[0;31merror\u001b[0m: bad character range }-x at position 9"
                    ]
                }
            ],
            "metadata": {}
        },
        {
            "cell_type": "markdown",
            "source": [
                "## Apply filter to all data "
            ],
            "metadata": {}
        },
        {
            "cell_type": "code",
            "execution_count": 998,
            "source": [
                "# The cleaning and tokenization function is applied to each job\n",
                "# ==============================================================================\n",
                "df = jobs\n",
                "df['jobLog_token'] = df['jobLog'].apply(lambda x: getErrorText(x))\n",
                "#! Delete all empty list \n",
                "df = df[(df['jobLog_token'].str.len() != 0) | (df['jobLog_token'].str.len() != 0)]\n",
                "df[['jobLog', 'jobLog_token']].head(10)"
            ],
            "outputs": [
                {
                    "output_type": "execute_result",
                    "data": {
                        "text/plain": [
                            "                                              jobLog  \\\n",
                            "0  \u001b[0KRunning with gitlab-runner 14.1.0-rc1 (e94...   \n",
                            "1  \u001b[0KRunning with gitlab-runner 14.1.0-rc1 (e94...   \n",
                            "2  \u001b[0KRunning with gitlab-runner 14.1.0-rc1 (e94...   \n",
                            "3  \u001b[0KRunning with gitlab-runner 14.1.0-rc1 (e94...   \n",
                            "4  \u001b[0KRunning with gitlab-runner 14.1.0-rc1 (e94...   \n",
                            "5  \u001b[0KRunning with gitlab-runner 14.1.0-rc1 (e94...   \n",
                            "6  \u001b[0KRunning with gitlab-runner 14.1.0-rc1 (e94...   \n",
                            "7  \u001b[0KRunning with gitlab-runner 14.1.0-rc1 (e94...   \n",
                            "8  \u001b[0KRunning with gitlab-runner 14.1.0-rc1 (e94...   \n",
                            "9  \u001b[0KRunning with gitlab-runner 14.1.0-rc1 (e94...   \n",
                            "\n",
                            "                                        jobLog_token  \n",
                            "0                               [health check error]  \n",
                            "1                               [health check error]  \n",
                            "2  [health check error,  typeerror: cannot read p...  \n",
                            "3                               [health check error]  \n",
                            "4                               [health check error]  \n",
                            "5                               [health check error]  \n",
                            "6                               [health check error]  \n",
                            "7                               [health check error]  \n",
                            "8  [health check error,  typeerror: cannot read p...  \n",
                            "9                               [health check error]  "
                        ],
                        "text/html": [
                            "<div>\n",
                            "<style scoped>\n",
                            "    .dataframe tbody tr th:only-of-type {\n",
                            "        vertical-align: middle;\n",
                            "    }\n",
                            "\n",
                            "    .dataframe tbody tr th {\n",
                            "        vertical-align: top;\n",
                            "    }\n",
                            "\n",
                            "    .dataframe thead th {\n",
                            "        text-align: right;\n",
                            "    }\n",
                            "</style>\n",
                            "<table border=\"1\" class=\"dataframe\">\n",
                            "  <thead>\n",
                            "    <tr style=\"text-align: right;\">\n",
                            "      <th></th>\n",
                            "      <th>jobLog</th>\n",
                            "      <th>jobLog_token</th>\n",
                            "    </tr>\n",
                            "  </thead>\n",
                            "  <tbody>\n",
                            "    <tr>\n",
                            "      <th>0</th>\n",
                            "      <td>\u001b[0KRunning with gitlab-runner 14.1.0-rc1 (e94...</td>\n",
                            "      <td>[health check error]</td>\n",
                            "    </tr>\n",
                            "    <tr>\n",
                            "      <th>1</th>\n",
                            "      <td>\u001b[0KRunning with gitlab-runner 14.1.0-rc1 (e94...</td>\n",
                            "      <td>[health check error]</td>\n",
                            "    </tr>\n",
                            "    <tr>\n",
                            "      <th>2</th>\n",
                            "      <td>\u001b[0KRunning with gitlab-runner 14.1.0-rc1 (e94...</td>\n",
                            "      <td>[health check error,  typeerror: cannot read p...</td>\n",
                            "    </tr>\n",
                            "    <tr>\n",
                            "      <th>3</th>\n",
                            "      <td>\u001b[0KRunning with gitlab-runner 14.1.0-rc1 (e94...</td>\n",
                            "      <td>[health check error]</td>\n",
                            "    </tr>\n",
                            "    <tr>\n",
                            "      <th>4</th>\n",
                            "      <td>\u001b[0KRunning with gitlab-runner 14.1.0-rc1 (e94...</td>\n",
                            "      <td>[health check error]</td>\n",
                            "    </tr>\n",
                            "    <tr>\n",
                            "      <th>5</th>\n",
                            "      <td>\u001b[0KRunning with gitlab-runner 14.1.0-rc1 (e94...</td>\n",
                            "      <td>[health check error]</td>\n",
                            "    </tr>\n",
                            "    <tr>\n",
                            "      <th>6</th>\n",
                            "      <td>\u001b[0KRunning with gitlab-runner 14.1.0-rc1 (e94...</td>\n",
                            "      <td>[health check error]</td>\n",
                            "    </tr>\n",
                            "    <tr>\n",
                            "      <th>7</th>\n",
                            "      <td>\u001b[0KRunning with gitlab-runner 14.1.0-rc1 (e94...</td>\n",
                            "      <td>[health check error]</td>\n",
                            "    </tr>\n",
                            "    <tr>\n",
                            "      <th>8</th>\n",
                            "      <td>\u001b[0KRunning with gitlab-runner 14.1.0-rc1 (e94...</td>\n",
                            "      <td>[health check error,  typeerror: cannot read p...</td>\n",
                            "    </tr>\n",
                            "    <tr>\n",
                            "      <th>9</th>\n",
                            "      <td>\u001b[0KRunning with gitlab-runner 14.1.0-rc1 (e94...</td>\n",
                            "      <td>[health check error]</td>\n",
                            "    </tr>\n",
                            "  </tbody>\n",
                            "</table>\n",
                            "</div>"
                        ]
                    },
                    "metadata": {},
                    "execution_count": 998
                }
            ],
            "metadata": {}
        },
        {
            "cell_type": "markdown",
            "source": [
                "# Remove stopwords\n"
            ],
            "metadata": {}
        },
        {
            "cell_type": "code",
            "execution_count": 999,
            "source": [
                "# Obtaining a list of stopwords in English\n",
                "# ==============================================================================\n",
                "stop_words = list(stopwords.words('english'))\n",
                "# Se añade la stoprword: amp, ax, ex\n",
                "stop_words.extend((\"amp\", \"xa\", \"xe\"))\n",
                "print(stop_words[:10])"
            ],
            "outputs": [
                {
                    "output_type": "stream",
                    "name": "stdout",
                    "text": [
                        "['i', 'me', 'my', 'myself', 'we', 'our', 'ours', 'ourselves', 'you', \"you're\"]\n"
                    ]
                }
            ],
            "metadata": {}
        },
        {
            "cell_type": "markdown",
            "source": [
                "# Exploratory analysis\n",
                "\n",
                "### In Python, one of the structures that most facilitates exploratory analysis is the Pandas DataFrame, which is the structure in which the information from the df is now stored. However, when tokenizing, there has been a major chandfdfdf Before dividing the text, the study elements were the df, and each one was in a row, thus fulfilling the condition of tidy data: an observation, adfrdfwdf When performing the tokenization, the element of study has become each token (word), thus violating the condition of tiddf ddftadf To get back to the ideal structure, each token list has to be expanded, doubling the value of the other columns as many times as ndfcesdfarydf This process is known as expansiondfor udfnestdf\n",
                "\n",
                "\n",
                "### Although it may seem an inefficient process (the number of rows increases a lot), this simple change facilitates activities of the type: grouping, counting, graphics dfdfdffdffdf\n"
            ],
            "metadata": {}
        },
        {
            "cell_type": "code",
            "execution_count": 1000,
            "source": [
                "# Unnest de la columna texto_tokenizado\n",
                "# ==============================================================================\n",
                "jobs_tidy = df.explode(column='jobLog_token')\n",
                "jobs_tidy = jobs_tidy.drop(columns='jobLog')\n",
                "jobs_tidy = jobs_tidy.rename(columns={'jobLog_token':'token'})\n",
                "jobs_tidy.head(3)\n"
            ],
            "outputs": [
                {
                    "output_type": "execute_result",
                    "data": {
                        "text/plain": [
                            "                        _id       jobId  projectId  __v  allow_failure  \\\n",
                            "0  611102da01a14071451c22c7  1452810390   15112024    0          False   \n",
                            "1  6111047501a14071451c2354  1452810387   15112024    0          False   \n",
                            "2  6111047501a14071451c2356  1452810384   15112024    0           True   \n",
                            "\n",
                            "                                   commitId  \\\n",
                            "0  fa3cb44c5c76f4955d7b63f6159bc17916c4a29b   \n",
                            "1  fa3cb44c5c76f4955d7b63f6159bc17916c4a29b   \n",
                            "2  fa3cb44c5c76f4955d7b63f6159bc17916c4a29b   \n",
                            "\n",
                            "                                       commitMessage  \\\n",
                            "0  Merge branch '226-A-getStagesByTeacherId' into...   \n",
                            "1  Merge branch '226-A-getStagesByTeacherId' into...   \n",
                            "2  Merge branch '226-A-getStagesByTeacherId' into...   \n",
                            "\n",
                            "                                         commitTitle  \\\n",
                            "0  Merge branch '226-A-getStagesByTeacherId' into...   \n",
                            "1  Merge branch '226-A-getStagesByTeacherId' into...   \n",
                            "2  Merge branch '226-A-getStagesByTeacherId' into...   \n",
                            "\n",
                            "              committedEmail              created_at  ...  \\\n",
                            "0  c.cannavacciuolo@anoki.it 2021-07-26 15:10:20.281  ...   \n",
                            "1  c.cannavacciuolo@anoki.it 2021-07-26 15:10:20.251  ...   \n",
                            "2  c.cannavacciuolo@anoki.it 2021-07-26 15:10:20.225  ...   \n",
                            "\n",
                            "                         projectNameWithNamespace queued_duration  \\\n",
                            "0  Anoki S.r.l. / EDUtelling-Prj / edutelling-api        0.257544   \n",
                            "1  Anoki S.r.l. / EDUtelling-Prj / edutelling-api        3.885320   \n",
                            "2  Anoki S.r.l. / EDUtelling-Prj / edutelling-api        0.132675   \n",
                            "\n",
                            "                     runnerDescription runnerId runnerIpAddress  \\\n",
                            "0             shared-runners-manager-7     None   35.237.21.158   \n",
                            "1  shared-runners-manager-3.gitlab.com     None    104.196.48.2   \n",
                            "2             shared-runners-manager-7     None   35.237.21.158   \n",
                            "\n",
                            "      runnerName                                       sha  \\\n",
                            "0  gitlab-runner  fa3cb44c5c76f4955d7b63f6159bc17916c4a29b   \n",
                            "1  gitlab-runner  fa3cb44c5c76f4955d7b63f6159bc17916c4a29b   \n",
                            "2  gitlab-runner  fa3cb44c5c76f4955d7b63f6159bc17916c4a29b   \n",
                            "\n",
                            "               started_at        username               token  \n",
                            "0 2021-07-26 15:23:34.058  cecilio.cannav  health check error  \n",
                            "1 2021-07-26 15:18:18.317  cecilio.cannav  health check error  \n",
                            "2 2021-07-26 15:15:53.474  cecilio.cannav  health check error  \n",
                            "\n",
                            "[3 rows x 32 columns]"
                        ],
                        "text/html": [
                            "<div>\n",
                            "<style scoped>\n",
                            "    .dataframe tbody tr th:only-of-type {\n",
                            "        vertical-align: middle;\n",
                            "    }\n",
                            "\n",
                            "    .dataframe tbody tr th {\n",
                            "        vertical-align: top;\n",
                            "    }\n",
                            "\n",
                            "    .dataframe thead th {\n",
                            "        text-align: right;\n",
                            "    }\n",
                            "</style>\n",
                            "<table border=\"1\" class=\"dataframe\">\n",
                            "  <thead>\n",
                            "    <tr style=\"text-align: right;\">\n",
                            "      <th></th>\n",
                            "      <th>_id</th>\n",
                            "      <th>jobId</th>\n",
                            "      <th>projectId</th>\n",
                            "      <th>__v</th>\n",
                            "      <th>allow_failure</th>\n",
                            "      <th>commitId</th>\n",
                            "      <th>commitMessage</th>\n",
                            "      <th>commitTitle</th>\n",
                            "      <th>committedEmail</th>\n",
                            "      <th>created_at</th>\n",
                            "      <th>...</th>\n",
                            "      <th>projectNameWithNamespace</th>\n",
                            "      <th>queued_duration</th>\n",
                            "      <th>runnerDescription</th>\n",
                            "      <th>runnerId</th>\n",
                            "      <th>runnerIpAddress</th>\n",
                            "      <th>runnerName</th>\n",
                            "      <th>sha</th>\n",
                            "      <th>started_at</th>\n",
                            "      <th>username</th>\n",
                            "      <th>token</th>\n",
                            "    </tr>\n",
                            "  </thead>\n",
                            "  <tbody>\n",
                            "    <tr>\n",
                            "      <th>0</th>\n",
                            "      <td>611102da01a14071451c22c7</td>\n",
                            "      <td>1452810390</td>\n",
                            "      <td>15112024</td>\n",
                            "      <td>0</td>\n",
                            "      <td>False</td>\n",
                            "      <td>fa3cb44c5c76f4955d7b63f6159bc17916c4a29b</td>\n",
                            "      <td>Merge branch '226-A-getStagesByTeacherId' into...</td>\n",
                            "      <td>Merge branch '226-A-getStagesByTeacherId' into...</td>\n",
                            "      <td>c.cannavacciuolo@anoki.it</td>\n",
                            "      <td>2021-07-26 15:10:20.281</td>\n",
                            "      <td>...</td>\n",
                            "      <td>Anoki S.r.l. / EDUtelling-Prj / edutelling-api</td>\n",
                            "      <td>0.257544</td>\n",
                            "      <td>shared-runners-manager-7</td>\n",
                            "      <td>None</td>\n",
                            "      <td>35.237.21.158</td>\n",
                            "      <td>gitlab-runner</td>\n",
                            "      <td>fa3cb44c5c76f4955d7b63f6159bc17916c4a29b</td>\n",
                            "      <td>2021-07-26 15:23:34.058</td>\n",
                            "      <td>cecilio.cannav</td>\n",
                            "      <td>health check error</td>\n",
                            "    </tr>\n",
                            "    <tr>\n",
                            "      <th>1</th>\n",
                            "      <td>6111047501a14071451c2354</td>\n",
                            "      <td>1452810387</td>\n",
                            "      <td>15112024</td>\n",
                            "      <td>0</td>\n",
                            "      <td>False</td>\n",
                            "      <td>fa3cb44c5c76f4955d7b63f6159bc17916c4a29b</td>\n",
                            "      <td>Merge branch '226-A-getStagesByTeacherId' into...</td>\n",
                            "      <td>Merge branch '226-A-getStagesByTeacherId' into...</td>\n",
                            "      <td>c.cannavacciuolo@anoki.it</td>\n",
                            "      <td>2021-07-26 15:10:20.251</td>\n",
                            "      <td>...</td>\n",
                            "      <td>Anoki S.r.l. / EDUtelling-Prj / edutelling-api</td>\n",
                            "      <td>3.885320</td>\n",
                            "      <td>shared-runners-manager-3.gitlab.com</td>\n",
                            "      <td>None</td>\n",
                            "      <td>104.196.48.2</td>\n",
                            "      <td>gitlab-runner</td>\n",
                            "      <td>fa3cb44c5c76f4955d7b63f6159bc17916c4a29b</td>\n",
                            "      <td>2021-07-26 15:18:18.317</td>\n",
                            "      <td>cecilio.cannav</td>\n",
                            "      <td>health check error</td>\n",
                            "    </tr>\n",
                            "    <tr>\n",
                            "      <th>2</th>\n",
                            "      <td>6111047501a14071451c2356</td>\n",
                            "      <td>1452810384</td>\n",
                            "      <td>15112024</td>\n",
                            "      <td>0</td>\n",
                            "      <td>True</td>\n",
                            "      <td>fa3cb44c5c76f4955d7b63f6159bc17916c4a29b</td>\n",
                            "      <td>Merge branch '226-A-getStagesByTeacherId' into...</td>\n",
                            "      <td>Merge branch '226-A-getStagesByTeacherId' into...</td>\n",
                            "      <td>c.cannavacciuolo@anoki.it</td>\n",
                            "      <td>2021-07-26 15:10:20.225</td>\n",
                            "      <td>...</td>\n",
                            "      <td>Anoki S.r.l. / EDUtelling-Prj / edutelling-api</td>\n",
                            "      <td>0.132675</td>\n",
                            "      <td>shared-runners-manager-7</td>\n",
                            "      <td>None</td>\n",
                            "      <td>35.237.21.158</td>\n",
                            "      <td>gitlab-runner</td>\n",
                            "      <td>fa3cb44c5c76f4955d7b63f6159bc17916c4a29b</td>\n",
                            "      <td>2021-07-26 15:15:53.474</td>\n",
                            "      <td>cecilio.cannav</td>\n",
                            "      <td>health check error</td>\n",
                            "    </tr>\n",
                            "  </tbody>\n",
                            "</table>\n",
                            "<p>3 rows × 32 columns</p>\n",
                            "</div>"
                        ]
                    },
                    "metadata": {},
                    "execution_count": 1000
                }
            ],
            "metadata": {}
        },
        {
            "cell_type": "markdown",
            "source": [
                "# Total words used by each log event"
            ],
            "metadata": {}
        },
        {
            "cell_type": "code",
            "execution_count": 1001,
            "source": [
                "jobs_tidy.groupby(by='jobStatus')['token'].count()"
            ],
            "outputs": [
                {
                    "output_type": "execute_result",
                    "data": {
                        "text/plain": [
                            "jobStatus\n",
                            "canceled     35\n",
                            "failed      210\n",
                            "success     770\n",
                            "Name: token, dtype: int64"
                        ]
                    },
                    "metadata": {},
                    "execution_count": 1001
                }
            ],
            "metadata": {}
        },
        {
            "cell_type": "markdown",
            "source": [
                "# Total words used by each project"
            ],
            "metadata": {}
        },
        {
            "cell_type": "code",
            "execution_count": 1002,
            "source": [
                "jobs_tidy.groupby(by='projectName')['token'].count()"
            ],
            "outputs": [
                {
                    "output_type": "execute_result",
                    "data": {
                        "text/plain": [
                            "projectName\n",
                            "API                     150\n",
                            "EduTelling              119\n",
                            "TRusT-FE                 44\n",
                            "app-prenotazioni-api    168\n",
                            "ckp-api                  40\n",
                            "edutelling-api          482\n",
                            "pax-Italia-pot-cicd      12\n",
                            "Name: token, dtype: int64"
                        ]
                    },
                    "metadata": {},
                    "execution_count": 1002
                }
            ],
            "metadata": {}
        },
        {
            "cell_type": "markdown",
            "source": [
                "# Frequency of words"
            ],
            "metadata": {}
        },
        {
            "cell_type": "code",
            "execution_count": 1003,
            "source": [
                "# Total words per event\n",
                "# ==============================================================================\n",
                "print('--------------------------')\n",
                "print('Total words per event')\n",
                "print('--------------------------')\n",
                "jobs_tidy.groupby(by='jobStatus')['token'].nunique()"
            ],
            "outputs": [
                {
                    "output_type": "stream",
                    "name": "stdout",
                    "text": [
                        "--------------------------\n",
                        "Total words per event\n",
                        "--------------------------\n"
                    ]
                },
                {
                    "output_type": "execute_result",
                    "data": {
                        "text/plain": [
                            "jobStatus\n",
                            "canceled     7\n",
                            "failed      51\n",
                            "success     31\n",
                            "Name: token, dtype: int64"
                        ]
                    },
                    "metadata": {},
                    "execution_count": 1003
                }
            ],
            "metadata": {}
        },
        {
            "cell_type": "code",
            "execution_count": 1004,
            "source": [
                "# Longitud media y desviación de los jobs de cada jobStatus\n",
                "# ==============================================================================\n",
                "temp_df = pd.DataFrame(jobs_tidy.groupby(by = [\"jobStatus\", \"jobId\"])[\"token\"].count())\n",
                "temp_df.reset_index().groupby(\"jobStatus\")[\"token\"].agg(['mean', 'std'])"
            ],
            "outputs": [
                {
                    "output_type": "execute_result",
                    "data": {
                        "text/plain": [
                            "               mean       std\n",
                            "jobStatus                    \n",
                            "canceled   1.250000  0.645497\n",
                            "failed     4.117647  3.536366\n",
                            "success    1.412844  0.793019"
                        ],
                        "text/html": [
                            "<div>\n",
                            "<style scoped>\n",
                            "    .dataframe tbody tr th:only-of-type {\n",
                            "        vertical-align: middle;\n",
                            "    }\n",
                            "\n",
                            "    .dataframe tbody tr th {\n",
                            "        vertical-align: top;\n",
                            "    }\n",
                            "\n",
                            "    .dataframe thead th {\n",
                            "        text-align: right;\n",
                            "    }\n",
                            "</style>\n",
                            "<table border=\"1\" class=\"dataframe\">\n",
                            "  <thead>\n",
                            "    <tr style=\"text-align: right;\">\n",
                            "      <th></th>\n",
                            "      <th>mean</th>\n",
                            "      <th>std</th>\n",
                            "    </tr>\n",
                            "    <tr>\n",
                            "      <th>jobStatus</th>\n",
                            "      <th></th>\n",
                            "      <th></th>\n",
                            "    </tr>\n",
                            "  </thead>\n",
                            "  <tbody>\n",
                            "    <tr>\n",
                            "      <th>canceled</th>\n",
                            "      <td>1.250000</td>\n",
                            "      <td>0.645497</td>\n",
                            "    </tr>\n",
                            "    <tr>\n",
                            "      <th>failed</th>\n",
                            "      <td>4.117647</td>\n",
                            "      <td>3.536366</td>\n",
                            "    </tr>\n",
                            "    <tr>\n",
                            "      <th>success</th>\n",
                            "      <td>1.412844</td>\n",
                            "      <td>0.793019</td>\n",
                            "    </tr>\n",
                            "  </tbody>\n",
                            "</table>\n",
                            "</div>"
                        ]
                    },
                    "metadata": {},
                    "execution_count": 1004
                }
            ],
            "metadata": {}
        },
        {
            "cell_type": "markdown",
            "source": [
                "# Create event list\n",
                "## In this section we try to get the list of STPS.\n"
            ],
            "metadata": {}
        },
        {
            "cell_type": "code",
            "execution_count": 1005,
            "source": [
                "# Top 50 palabras más utilizadas por cada evento\n",
                "# ==============================================================================\n",
                "jobs_tidy_text = jobs_tidy.groupby(['jobStatus','token'])['token'] \\\n",
                " .count() \\\n",
                " .reset_index(name='count') \\\n",
                " .groupby('jobStatus') \\\n",
                " .apply(lambda x: x.sort_values('count', ascending=False).head(10))\n",
                "\n",
                "jobs_tidy_text"
            ],
            "outputs": [
                {
                    "output_type": "execute_result",
                    "data": {
                        "text/plain": [
                            "             jobStatus                                              token  \\\n",
                            "jobStatus                                                                   \n",
                            "canceled  2   canceled                                 health check error   \n",
                            "          1   canceled             [info] error stacktraces are turned on   \n",
                            "          3   canceled  tlmgr: action install returned an error; conti...   \n",
                            "          4   canceled                       tlmgr: an error has occurred   \n",
                            "          0   canceled  \u001b[ ;m\u001b[ ; merror: preparation failed: failed t...   \n",
                            "          5   canceled          warning: illegal reflective access by com   \n",
                            "          6   canceled  warning: please consider reporting this to the...   \n",
                            "failed    7     failed  \u001b[ ;msection_end: :cleanup_file_variables\\r\u001b[ ...   \n",
                            "          55    failed                                 health check error   \n",
                            "          37    failed                                🛑 smoke test error    \n",
                            "          36    failed                                 🛑 error: smoke tes   \n",
                            "          45    failed               error command failed with exit code    \n",
                            "          56    failed  section_end: :build_script\\r\u001b[ ksection_start:...   \n",
                            "          42    failed  error building image: get toomanyrequests: you...   \n",
                            "          26    failed   error: cannot find module '@vue/cli-plugin-ba...   \n",
                            "          14    failed   + fullyqualifiederrorid : commandnotfoundexce...   \n",
                            "          8     failed  \u001b[ ;msection_end: :cleanup_file_variables\\r\u001b[ ...   \n",
                            "success   83   success                                 health check error   \n",
                            "          62   success             [info] error stacktraces are turned on   \n",
                            "          88   success  warning: please consider reporting this to the...   \n",
                            "          87   success          warning: illegal reflective access by com   \n",
                            "          86   success                       tlmgr: an error has occurred   \n",
                            "          85   success  tlmgr: action install returned an error; conti...   \n",
                            "          84   success        module not found: error: can't resolve 'hls   \n",
                            "          72   success                                       <s> [webpack   \n",
                            "          66   success  (emitted value instead of an instance of error...   \n",
                            "          60   success                            \u001b[ ; mwarning: retrying   \n",
                            "\n",
                            "              count  \n",
                            "jobStatus            \n",
                            "canceled  2      26  \n",
                            "          1       2  \n",
                            "          3       2  \n",
                            "          4       2  \n",
                            "          0       1  \n",
                            "          5       1  \n",
                            "          6       1  \n",
                            "failed    7      34  \n",
                            "          55     34  \n",
                            "          37     16  \n",
                            "          36     16  \n",
                            "          45     15  \n",
                            "          56      8  \n",
                            "          42      7  \n",
                            "          26      6  \n",
                            "          14      6  \n",
                            "          8       6  \n",
                            "success   83    486  \n",
                            "          62     57  \n",
                            "          88     35  \n",
                            "          87     35  \n",
                            "          86     26  \n",
                            "          85     26  \n",
                            "          84     16  \n",
                            "          72     13  \n",
                            "          66     13  \n",
                            "          60     10  "
                        ],
                        "text/html": [
                            "<div>\n",
                            "<style scoped>\n",
                            "    .dataframe tbody tr th:only-of-type {\n",
                            "        vertical-align: middle;\n",
                            "    }\n",
                            "\n",
                            "    .dataframe tbody tr th {\n",
                            "        vertical-align: top;\n",
                            "    }\n",
                            "\n",
                            "    .dataframe thead th {\n",
                            "        text-align: right;\n",
                            "    }\n",
                            "</style>\n",
                            "<table border=\"1\" class=\"dataframe\">\n",
                            "  <thead>\n",
                            "    <tr style=\"text-align: right;\">\n",
                            "      <th></th>\n",
                            "      <th></th>\n",
                            "      <th>jobStatus</th>\n",
                            "      <th>token</th>\n",
                            "      <th>count</th>\n",
                            "    </tr>\n",
                            "    <tr>\n",
                            "      <th>jobStatus</th>\n",
                            "      <th></th>\n",
                            "      <th></th>\n",
                            "      <th></th>\n",
                            "      <th></th>\n",
                            "    </tr>\n",
                            "  </thead>\n",
                            "  <tbody>\n",
                            "    <tr>\n",
                            "      <th rowspan=\"7\" valign=\"top\">canceled</th>\n",
                            "      <th>2</th>\n",
                            "      <td>canceled</td>\n",
                            "      <td>health check error</td>\n",
                            "      <td>26</td>\n",
                            "    </tr>\n",
                            "    <tr>\n",
                            "      <th>1</th>\n",
                            "      <td>canceled</td>\n",
                            "      <td>[info] error stacktraces are turned on</td>\n",
                            "      <td>2</td>\n",
                            "    </tr>\n",
                            "    <tr>\n",
                            "      <th>3</th>\n",
                            "      <td>canceled</td>\n",
                            "      <td>tlmgr: action install returned an error; conti...</td>\n",
                            "      <td>2</td>\n",
                            "    </tr>\n",
                            "    <tr>\n",
                            "      <th>4</th>\n",
                            "      <td>canceled</td>\n",
                            "      <td>tlmgr: an error has occurred</td>\n",
                            "      <td>2</td>\n",
                            "    </tr>\n",
                            "    <tr>\n",
                            "      <th>0</th>\n",
                            "      <td>canceled</td>\n",
                            "      <td>\u001b[ ;m\u001b[ ; merror: preparation failed: failed t...</td>\n",
                            "      <td>1</td>\n",
                            "    </tr>\n",
                            "    <tr>\n",
                            "      <th>5</th>\n",
                            "      <td>canceled</td>\n",
                            "      <td>warning: illegal reflective access by com</td>\n",
                            "      <td>1</td>\n",
                            "    </tr>\n",
                            "    <tr>\n",
                            "      <th>6</th>\n",
                            "      <td>canceled</td>\n",
                            "      <td>warning: please consider reporting this to the...</td>\n",
                            "      <td>1</td>\n",
                            "    </tr>\n",
                            "    <tr>\n",
                            "      <th rowspan=\"10\" valign=\"top\">failed</th>\n",
                            "      <th>7</th>\n",
                            "      <td>failed</td>\n",
                            "      <td>\u001b[ ;msection_end: :cleanup_file_variables\\r\u001b[ ...</td>\n",
                            "      <td>34</td>\n",
                            "    </tr>\n",
                            "    <tr>\n",
                            "      <th>55</th>\n",
                            "      <td>failed</td>\n",
                            "      <td>health check error</td>\n",
                            "      <td>34</td>\n",
                            "    </tr>\n",
                            "    <tr>\n",
                            "      <th>37</th>\n",
                            "      <td>failed</td>\n",
                            "      <td>🛑 smoke test error</td>\n",
                            "      <td>16</td>\n",
                            "    </tr>\n",
                            "    <tr>\n",
                            "      <th>36</th>\n",
                            "      <td>failed</td>\n",
                            "      <td>🛑 error: smoke tes</td>\n",
                            "      <td>16</td>\n",
                            "    </tr>\n",
                            "    <tr>\n",
                            "      <th>45</th>\n",
                            "      <td>failed</td>\n",
                            "      <td>error command failed with exit code</td>\n",
                            "      <td>15</td>\n",
                            "    </tr>\n",
                            "    <tr>\n",
                            "      <th>56</th>\n",
                            "      <td>failed</td>\n",
                            "      <td>section_end: :build_script\\r\u001b[ ksection_start:...</td>\n",
                            "      <td>8</td>\n",
                            "    </tr>\n",
                            "    <tr>\n",
                            "      <th>42</th>\n",
                            "      <td>failed</td>\n",
                            "      <td>error building image: get toomanyrequests: you...</td>\n",
                            "      <td>7</td>\n",
                            "    </tr>\n",
                            "    <tr>\n",
                            "      <th>26</th>\n",
                            "      <td>failed</td>\n",
                            "      <td>error: cannot find module '@vue/cli-plugin-ba...</td>\n",
                            "      <td>6</td>\n",
                            "    </tr>\n",
                            "    <tr>\n",
                            "      <th>14</th>\n",
                            "      <td>failed</td>\n",
                            "      <td>+ fullyqualifiederrorid : commandnotfoundexce...</td>\n",
                            "      <td>6</td>\n",
                            "    </tr>\n",
                            "    <tr>\n",
                            "      <th>8</th>\n",
                            "      <td>failed</td>\n",
                            "      <td>\u001b[ ;msection_end: :cleanup_file_variables\\r\u001b[ ...</td>\n",
                            "      <td>6</td>\n",
                            "    </tr>\n",
                            "    <tr>\n",
                            "      <th rowspan=\"10\" valign=\"top\">success</th>\n",
                            "      <th>83</th>\n",
                            "      <td>success</td>\n",
                            "      <td>health check error</td>\n",
                            "      <td>486</td>\n",
                            "    </tr>\n",
                            "    <tr>\n",
                            "      <th>62</th>\n",
                            "      <td>success</td>\n",
                            "      <td>[info] error stacktraces are turned on</td>\n",
                            "      <td>57</td>\n",
                            "    </tr>\n",
                            "    <tr>\n",
                            "      <th>88</th>\n",
                            "      <td>success</td>\n",
                            "      <td>warning: please consider reporting this to the...</td>\n",
                            "      <td>35</td>\n",
                            "    </tr>\n",
                            "    <tr>\n",
                            "      <th>87</th>\n",
                            "      <td>success</td>\n",
                            "      <td>warning: illegal reflective access by com</td>\n",
                            "      <td>35</td>\n",
                            "    </tr>\n",
                            "    <tr>\n",
                            "      <th>86</th>\n",
                            "      <td>success</td>\n",
                            "      <td>tlmgr: an error has occurred</td>\n",
                            "      <td>26</td>\n",
                            "    </tr>\n",
                            "    <tr>\n",
                            "      <th>85</th>\n",
                            "      <td>success</td>\n",
                            "      <td>tlmgr: action install returned an error; conti...</td>\n",
                            "      <td>26</td>\n",
                            "    </tr>\n",
                            "    <tr>\n",
                            "      <th>84</th>\n",
                            "      <td>success</td>\n",
                            "      <td>module not found: error: can't resolve 'hls</td>\n",
                            "      <td>16</td>\n",
                            "    </tr>\n",
                            "    <tr>\n",
                            "      <th>72</th>\n",
                            "      <td>success</td>\n",
                            "      <td>&lt;s&gt; [webpack</td>\n",
                            "      <td>13</td>\n",
                            "    </tr>\n",
                            "    <tr>\n",
                            "      <th>66</th>\n",
                            "      <td>success</td>\n",
                            "      <td>(emitted value instead of an instance of error...</td>\n",
                            "      <td>13</td>\n",
                            "    </tr>\n",
                            "    <tr>\n",
                            "      <th>60</th>\n",
                            "      <td>success</td>\n",
                            "      <td>\u001b[ ; mwarning: retrying</td>\n",
                            "      <td>10</td>\n",
                            "    </tr>\n",
                            "  </tbody>\n",
                            "</table>\n",
                            "</div>"
                        ]
                    },
                    "metadata": {},
                    "execution_count": 1005
                }
            ],
            "metadata": {}
        },
        {
            "cell_type": "markdown",
            "source": [
                "# Group similar text"
            ],
            "metadata": {}
        },
        {
            "cell_type": "code",
            "execution_count": 1006,
            "source": [
                "# Collect data \n",
                "#================================================================================\n",
                "def StemTokens(tokens):\n",
                "    return [stemmer.stem(token) for token in tokens]\n",
                "def StemNormalize(text):\n",
                "    return StemTokens(nltk.word_tokenize(text.lower().translate(remove_punct_dict)))\n",
                "def LemTokens(tokens):\n",
                "    return [lemmer.lemmatize(token) for token in tokens]\n",
                "def LemNormalize(text):\n",
                "    return LemTokens(nltk.word_tokenize(text.lower().translate(remove_punct_dict)))\n",
                "def idf(n,df):\n",
                "    result = math.log((n+1.0)/(df+1.0)) + 1\n",
                "    return result\n",
                "\n",
                "def groupDataFrame(df_stps2, jobStatusUnique, similarity):\n",
                "    countI = -1\n",
                "    data = []\n",
                "\n",
                "    for status in jobStatusUnique:\n",
                "        jobs_tidy.groupby(by='jobStatus')['token'].nunique()\n",
                "        jobs_temp = jobs_tidy_text[jobs_tidy_text[\"jobStatus\"] == status]\n",
                "        documents = jobs_temp['token'].to_list()\n",
                "        countX = jobs_temp['count'].to_list()\n",
                "        stemmer = nltk.stem.porter.PorterStemmer()\n",
                "        remove_punct_dict = dict((ord(punct), None) for punct in string.punctuation)\n",
                "        lemmer = nltk.stem.WordNetLemmatizer()\n",
                "        remove_punct_dict = dict((ord(punct), None) for punct in string.punctuation)\n",
                "\n",
                "        LemVectorizer = CountVectorizer(tokenizer=LemNormalize, stop_words='english')\n",
                "        if len(documents) > 0:\n",
                "            LemVectorizer.fit_transform(documents)\n",
                "            tf_matrix = LemVectorizer.transform(documents).toarray()\n",
                "            tfidfTran = TfidfTransformer(norm=\"l2\")\n",
                "            cos_similarity_matrix = (tfidf_matrix * tfidf_matrix.T).toarray()\n",
                "            # Collect unics data            \n",
                "            for i in range(0,len(cos_similarity_matrix)):\n",
                "                countData = 0\n",
                "                docum = \"\"\n",
                "                for i2 in range(0,len(cos_similarity_matrix)):\n",
                "                    if cos_similarity_matrix[i,i2] > similarity:\n",
                "                        token = documents[i2]\n",
                "                        countData = countData + countX[i2] # Get total of events\n",
                "                d = [status, token, countData]\n",
                "                data.append(d)\n",
                "    data =list(map(list,set(map(tuple,data)))) # Deleret duplicate data\n",
                "\n",
                "\n",
                "    df_stps = pd.DataFrame(data, columns = ['jobStatus', 'token', 'count'])\n",
                "    if countI == -1:\n",
                "        countI = countI + 1\n",
                "        df_STPS = df_stps\n",
                "    else:\n",
                "        df_STPS.append(df_stps)\n",
                "    return df_STPS\n",
                "\n",
                "\n",
                "df_stps = groupDataFrame(pd.DataFrame( columns = ['jobStatus', 'token', 'count']), \n",
                "    jobs[\"jobStatus\"].unique().tolist(),\n",
                "    similarity\n",
                "    )\n",
                "\n",
                "print(\"=======================================\")\n",
                "print(\"Text related to a similarity of:\")\n",
                "print(\"=======================================\")\n",
                "df_stps"
            ],
            "outputs": [
                {
                    "output_type": "stream",
                    "name": "stdout",
                    "text": [
                        "=======================================\n",
                        "Text related to a similarity of:\n",
                        "=======================================\n"
                    ]
                },
                {
                    "output_type": "stream",
                    "name": "stderr",
                    "text": [
                        "/usr/local/Caskroom/miniforge/base/lib/python3.9/site-packages/sklearn/feature_extraction/text.py:388: UserWarning:\n",
                        "\n",
                        "Your stop_words may be inconsistent with your preprocessing. Tokenizing the stop words generated tokens ['ha', 'le', 'u', 'wa'] not in stop_words.\n",
                        "\n"
                    ]
                },
                {
                    "output_type": "execute_result",
                    "data": {
                        "text/plain": [
                            "   jobStatus                                              token  count\n",
                            "0   canceled  tlmgr: action install returned an error; conti...      2\n",
                            "1     failed  \u001b[ ;msection_end: :cleanup_file_variables\\r\u001b[ ...     34\n",
                            "2    success                                 health check error    486\n",
                            "3    success  tlmgr: action install returned an error; conti...     52\n",
                            "4     failed                                 🛑 error: smoke tes     16\n",
                            "5    success             [info] error stacktraces are turned on     57\n",
                            "6   canceled          warning: illegal reflective access by com      2\n",
                            "7     failed                                 health check error     34\n",
                            "8     failed                                🛑 smoke test error      16\n",
                            "9    success          warning: illegal reflective access by com     35\n",
                            "10   success  warning: please consider reporting this to the...     35\n",
                            "11  canceled                                 health check error     26\n",
                            "12    failed  section_end: :build_script\\r\u001b[ ksection_start:...     23\n",
                            "13  canceled             [info] error stacktraces are turned on      2\n",
                            "14  canceled                       tlmgr: an error has occurred      2"
                        ],
                        "text/html": [
                            "<div>\n",
                            "<style scoped>\n",
                            "    .dataframe tbody tr th:only-of-type {\n",
                            "        vertical-align: middle;\n",
                            "    }\n",
                            "\n",
                            "    .dataframe tbody tr th {\n",
                            "        vertical-align: top;\n",
                            "    }\n",
                            "\n",
                            "    .dataframe thead th {\n",
                            "        text-align: right;\n",
                            "    }\n",
                            "</style>\n",
                            "<table border=\"1\" class=\"dataframe\">\n",
                            "  <thead>\n",
                            "    <tr style=\"text-align: right;\">\n",
                            "      <th></th>\n",
                            "      <th>jobStatus</th>\n",
                            "      <th>token</th>\n",
                            "      <th>count</th>\n",
                            "    </tr>\n",
                            "  </thead>\n",
                            "  <tbody>\n",
                            "    <tr>\n",
                            "      <th>0</th>\n",
                            "      <td>canceled</td>\n",
                            "      <td>tlmgr: action install returned an error; conti...</td>\n",
                            "      <td>2</td>\n",
                            "    </tr>\n",
                            "    <tr>\n",
                            "      <th>1</th>\n",
                            "      <td>failed</td>\n",
                            "      <td>\u001b[ ;msection_end: :cleanup_file_variables\\r\u001b[ ...</td>\n",
                            "      <td>34</td>\n",
                            "    </tr>\n",
                            "    <tr>\n",
                            "      <th>2</th>\n",
                            "      <td>success</td>\n",
                            "      <td>health check error</td>\n",
                            "      <td>486</td>\n",
                            "    </tr>\n",
                            "    <tr>\n",
                            "      <th>3</th>\n",
                            "      <td>success</td>\n",
                            "      <td>tlmgr: action install returned an error; conti...</td>\n",
                            "      <td>52</td>\n",
                            "    </tr>\n",
                            "    <tr>\n",
                            "      <th>4</th>\n",
                            "      <td>failed</td>\n",
                            "      <td>🛑 error: smoke tes</td>\n",
                            "      <td>16</td>\n",
                            "    </tr>\n",
                            "    <tr>\n",
                            "      <th>5</th>\n",
                            "      <td>success</td>\n",
                            "      <td>[info] error stacktraces are turned on</td>\n",
                            "      <td>57</td>\n",
                            "    </tr>\n",
                            "    <tr>\n",
                            "      <th>6</th>\n",
                            "      <td>canceled</td>\n",
                            "      <td>warning: illegal reflective access by com</td>\n",
                            "      <td>2</td>\n",
                            "    </tr>\n",
                            "    <tr>\n",
                            "      <th>7</th>\n",
                            "      <td>failed</td>\n",
                            "      <td>health check error</td>\n",
                            "      <td>34</td>\n",
                            "    </tr>\n",
                            "    <tr>\n",
                            "      <th>8</th>\n",
                            "      <td>failed</td>\n",
                            "      <td>🛑 smoke test error</td>\n",
                            "      <td>16</td>\n",
                            "    </tr>\n",
                            "    <tr>\n",
                            "      <th>9</th>\n",
                            "      <td>success</td>\n",
                            "      <td>warning: illegal reflective access by com</td>\n",
                            "      <td>35</td>\n",
                            "    </tr>\n",
                            "    <tr>\n",
                            "      <th>10</th>\n",
                            "      <td>success</td>\n",
                            "      <td>warning: please consider reporting this to the...</td>\n",
                            "      <td>35</td>\n",
                            "    </tr>\n",
                            "    <tr>\n",
                            "      <th>11</th>\n",
                            "      <td>canceled</td>\n",
                            "      <td>health check error</td>\n",
                            "      <td>26</td>\n",
                            "    </tr>\n",
                            "    <tr>\n",
                            "      <th>12</th>\n",
                            "      <td>failed</td>\n",
                            "      <td>section_end: :build_script\\r\u001b[ ksection_start:...</td>\n",
                            "      <td>23</td>\n",
                            "    </tr>\n",
                            "    <tr>\n",
                            "      <th>13</th>\n",
                            "      <td>canceled</td>\n",
                            "      <td>[info] error stacktraces are turned on</td>\n",
                            "      <td>2</td>\n",
                            "    </tr>\n",
                            "    <tr>\n",
                            "      <th>14</th>\n",
                            "      <td>canceled</td>\n",
                            "      <td>tlmgr: an error has occurred</td>\n",
                            "      <td>2</td>\n",
                            "    </tr>\n",
                            "  </tbody>\n",
                            "</table>\n",
                            "</div>"
                        ]
                    },
                    "metadata": {},
                    "execution_count": 1006
                }
            ],
            "metadata": {}
        }
    ],
    "metadata": {
        "orig_nbformat": 4,
        "language_info": {
            "name": "python",
            "version": "3.9.6",
            "mimetype": "text/x-python",
            "codemirror_mode": {
                "name": "ipython",
                "version": 3
            },
            "pygments_lexer": "ipython3",
            "nbconvert_exporter": "python",
            "file_extension": ".py"
        },
        "kernelspec": {
            "name": "python3",
            "display_name": "Python 3.9.6 64-bit ('pythonMining-vhnf4Tkf': pipenv)"
        },
        "interpreter": {
            "hash": "bd9bc79f48139f825d32d6185a519d352406d2883eed1cfec94c6b87065b4e85"
        }
    },
    "nbformat": 4,
    "nbformat_minor": 2
}